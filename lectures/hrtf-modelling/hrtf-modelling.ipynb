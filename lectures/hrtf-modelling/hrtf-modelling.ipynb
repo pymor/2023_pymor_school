{
 "cells": [
  {
   "cell_type": "code",
   "execution_count": null,
   "id": "772c9fb3-a05b-4315-8509-c9ad30d5ff4b",
   "metadata": {
    "slideshow": {
     "slide_type": "slide"
    }
   },
   "outputs": [],
   "source": [
    "import sys\n",
    "if 'pyodide' in sys.modules:\n",
    "    import piplite\n",
    "    await piplite.install(['pymor', 'matplotlib', 'ipython'])"
   ]
  },
  {
   "cell_type": "markdown",
   "id": "2fbd6edc",
   "metadata": {
    "slideshow": {
     "slide_type": "slide"
    }
   },
   "source": [
    "# Head-related Transfer Function Modelling from Data\n",
    "\n",
    "\n",
    "## Overview\n",
    "- Data: Head-related Transfer Functions\n",
    "- Theory: Data-driven Balanced Truncation (= Eigensystem Realization Algorithm)\n",
    "- Practice: Implementation in pyMOR"
   ]
  },
  {
   "cell_type": "markdown",
   "id": "8cb4088a",
   "metadata": {
    "slideshow": {
     "slide_type": "slide"
    }
   },
   "source": [
    "## Head-related Transfer Functions (HRTFs)\n",
    "- characterizes how the ear receives sound from a point in space (in free field conditions)\n",
    "- HRTF encodes the head and pinnae geometries\n",
    "- conventionally, it depends on angles of incident (spherical coordinates)"
   ]
  },
  {
   "cell_type": "markdown",
   "id": "d0d729e8",
   "metadata": {
    "slideshow": {
     "slide_type": "slide"
    }
   },
   "source": [
    "### MIT KEMAR dummy head dataset\n",
    "[Source](https://sound.media.mit.edu/resources/KEMAR.html)"
   ]
  },
  {
   "cell_type": "code",
   "execution_count": null,
   "id": "d9a903aa",
   "metadata": {
    "slideshow": {
     "slide_type": "slide"
    }
   },
   "outputs": [],
   "source": [
    "import numpy as np\n",
    "\n",
    "data = np.load('files/KEMAR.npy', allow_pickle=True).item(0)\n",
    "ir = data['ir']\n",
    "fs = data['fs'][0]"
   ]
  },
  {
   "cell_type": "code",
   "execution_count": null,
   "id": "d6031999",
   "metadata": {
    "slideshow": {
     "slide_type": "slide"
    }
   },
   "outputs": [],
   "source": [
    "n, p, m = ir.shape  # n: number of samples, p: number of outputs, m: number of inputs\n",
    "fs  # sampling rate\n",
    "\n",
    "print(f'number of inputs:\\t{m}')\n",
    "print(f'number of outputs:\\t{p}')\n",
    "print(f'number of samples:\\t{n}')\n",
    "print(f'sampling rate:\\t\\t{fs}')\n",
    "print(f'sampling duration:\\t{1000*n/fs:.2f} ms')"
   ]
  },
  {
   "cell_type": "code",
   "execution_count": null,
   "id": "80b58f3c",
   "metadata": {
    "slideshow": {
     "slide_type": "slide"
    }
   },
   "outputs": [],
   "source": [
    "%matplotlib inline\n",
    "import matplotlib.pyplot as plt\n",
    "plt.rcParams[\"figure.figsize\"] = (12, 4.5)\n",
    "\n",
    "input_idx = 469\n",
    "\n",
    "t = np.arange(ir.shape[0])/fs * 1000\n",
    "\n",
    "fig, axes = plt.subplots(1, 2)\n",
    "fig.suptitle(f'Head-Related Impulse Response (input {input_idx + 1})')\n",
    "for i, ax in enumerate(axes): \n",
    "    ax.plot(t, ir[:, i, input_idx], c='grey', marker='o', mec='k', markersize='3')\n",
    "    ax.set(xlabel=r'Time (ms)', ylabel='Amplitude', title=f'{\"left\" if i == 0 else \"right\"} ear', xlim=(t[0], t[-1]), ylim=(-0.75, 0.75))"
   ]
  },
  {
   "cell_type": "code",
   "execution_count": null,
   "id": "b604adba",
   "metadata": {
    "slideshow": {
     "slide_type": "slide"
    }
   },
   "outputs": [],
   "source": [
    "fig = plt.figure(figsize=(10, 8))\n",
    "ax = fig.add_subplot(projection='3d')\n",
    "\n",
    "ax.scatter(*np.squeeze(data['rpos']).T, color='g', depthshade=False, label='receiver location (ears)')\n",
    "\n",
    "azim = (data['spos'][:, 0]) * np.pi / 180\n",
    "elev = (data['spos'][:, 1] - 90) * np.pi / 180\n",
    "r = data['spos'][:, 2]\n",
    "x, y, z = r*np.sin(elev)*np.cos(azim), r*np.sin(elev)*np.sin(azim), r*np.cos(elev)\n",
    "\n",
    "center_idx = (azim == 0) & (elev == -np.pi/2)\n",
    "plot_idx = ~center_idx\n",
    "plot_idx[input_idx] = False\n",
    "ax.scatter(x[plot_idx], y[plot_idx], z[plot_idx], label='source location')\n",
    "ax.scatter(x[center_idx], y[center_idx], z[center_idx], color='r', marker='s', label='center', depthshade=False)\n",
    "ax.scatter(x[input_idx], y[input_idx], z[input_idx], color='m', marker='s', label=f'input {input_idx + 1}', depthshade=False)\n",
    "ax.view_init(azim=190, elev=5)\n",
    "ax.set(xlim=(-1.5, 1.5), ylim=(-1.5, 1.5), zlim=(-1.5, 1.5), title='Measurement Geometry', xlabel='x', ylabel='y', zlabel='z')\n",
    "ax.set_aspect('equal')\n",
    "fig.tight_layout()\n",
    "_ = fig.legend()"
   ]
  },
  {
   "cell_type": "markdown",
   "id": "5e00c6a8",
   "metadata": {
    "slideshow": {
     "slide_type": "slide"
    }
   },
   "source": [
    "## Aim: Identify a reduced order LTI-system from the measurements\n",
    "Consider discrete-time state equations:\n",
    "\\begin{align}\n",
    "  x_{k+1}&=Ax_k+Bu_k\\\\y_k&=Cx_k+Du_k,\n",
    "\\end{align}\n",
    "\n",
    "with $A\\in\\mathbb{R}^{n\\times n}$, $B\\in\\mathbb{R}^{n\\times m}$, $C\\in\\mathbb{R}^{p\\times n}$, $D\\in\\mathbb{R}^{p\\times m}$, \n",
    "where $m\\in\\mathbb{N}$ is the number of inputs, $p\\in\\mathbb{N}$ the number of outputs and $n\\in\\mathbb{N}$ the state dimension."
   ]
  },
  {
   "cell_type": "markdown",
   "id": "b62c8327",
   "metadata": {
    "slideshow": {
     "slide_type": "slide"
    }
   },
   "source": [
    "### Recap: Balanced Truncation (square-root version) \n",
    " 1. Compute Cholesky factors\n",
    "\\begin{align}\n",
    "Z_PZ_P^T&=P\\\\Z_QZ_Q^T&=Q\n",
    "\\end{align}\n",
    "of the solutions of the Stein (discrete-time Lyapunov) equations\n",
    "\\begin{align}\n",
    "APA^T-P-BB^T&=0\\\\A^TQA-Q+C^TC&=0\n",
    "\\end{align}\n",
    "\n",
    " 2. Compute balancing transformations from a (truncated) SVD of the product of factors\n",
    "\\begin{align}\n",
    "\\label{eq:hsv}\\tag{1}\n",
    "Z_P^TZ_Q=U\\Sigma V^T=\\begin{bmatrix}U_r&U_\\ast\\end{bmatrix}\\begin{bmatrix}\\Sigma_r&0\\\\0&\\Sigma_\\ast\\end{bmatrix}\\begin{bmatrix}V_r^T\\\\V_\\ast^T\\end{bmatrix}\n",
    "\\end{align}\n",
    "Form transformations\n",
    "\\begin{align}\n",
    "T_1&=Z_QV\\Sigma^{-1/2}\\\\\n",
    "T_2&=Z_PU\\Sigma^{-1/2}\n",
    "\\end{align}\n",
    "that balance the system, i.e.\n",
    "\\begin{equation}\n",
    "T_1^TPT_1=T_2^TQT_2=\\Sigma,\n",
    "\\end{equation}\n",
    " 3. Transform the system with balancing transformations\n",
    "\\begin{align}\n",
    "T_1^TAT_2&=\\begin{bmatrix}A_{1,1}&A_{1,2}\\\\A_{2,1}&A_{2,2}\\end{bmatrix} & T_1^TB&=\\begin{bmatrix}B_1&B_2\\end{bmatrix}&&CT_2=\\begin{bmatrix}C_1\\\\C_2\\end{bmatrix}\n",
    "\\end{align}\n",
    "and truncate such that the reduced system is given by\n",
    "\\begin{align}\n",
    "\\left(A_{1,1},~B_1,~C_1,~D\\right)=\\left(\\Sigma_r^{-1/2}V_r^TZ_Q^TAZ_PU\\Sigma^{-1/2},~\\Sigma_r^{-1/2}V_r^TZ_Q^TB,~CZ_PU\\Sigma^{-1/2},~D\\right)\n",
    "\\end{align}"
   ]
  },
  {
   "cell_type": "markdown",
   "id": "37439482",
   "metadata": {
    "slideshow": {
     "slide_type": "slide"
    }
   },
   "source": [
    "### Markov parameters\n",
    "\n",
    "\\begin{equation}\n",
    "h_0=D,\\qquad h_i=\\left.\\frac{\\mathrm{d}^i}{\\mathrm{d}s^i}H(s)\\,\\right|_{s=\\infty}=CA^{i-1}B\n",
    "\\end{equation}"
   ]
  },
  {
   "cell_type": "markdown",
   "id": "5fa1e6b2",
   "metadata": {
    "slideshow": {
     "slide_type": "slide"
    }
   },
   "source": [
    "### The Hankel Operator\n",
    "The Hankel matrix of a system is defined as\n",
    "\n",
    "\\begin{equation}\n",
    "  \\mathcal{H}=\n",
    "  \\begin{bmatrix}\n",
    "    CB & CAB & \\cdots & CA^{s-1}B\\\\\n",
    "    CAB & CA^2B &\\cdots & CA^sB \\\\\n",
    "    \\vdots & \\vdots &  &\\vdots\\\\\n",
    "    CA^{s-1}B & CA^{s} & \\cdots & CA^{2s-2}B\n",
    "  \\end{bmatrix}=\n",
    "  \\underbrace{\\begin{bmatrix}\n",
    "                C\\\\\n",
    "                \\vdots\\\\\n",
    "                CA^{s-1}\n",
    "              \\end{bmatrix}}_{=:\\mathcal{O}}\n",
    "  \\underbrace{\n",
    "  \\begin{bmatrix}\n",
    "    B&\\cdots&A^{s-1}B\n",
    "  \\end{bmatrix}}_{=: \\mathcal{C}}.\n",
    "\\end{equation}\n",
    "The singular values of $\\mathcal{H}$ are called the Hankel singular values."
   ]
  },
  {
   "cell_type": "markdown",
   "id": "0f4bf68d",
   "metadata": {
    "slideshow": {
     "slide_type": "slide"
    }
   },
   "source": [
    "## A data-driven fomulation\n",
    "- The diagonal entries of $\\Sigma$ from (1) are equivalent to the Hankel singular values:\n",
    "\n",
    "\\begin{equation}\n",
    "Z_PZ_P^TZ_QZ_Q^T=PQ=\\mathcal{C}\\mathcal{C}^T\\mathcal{O}^T\\mathcal{O}\n",
    "\\end{equation}\n",
    "\n",
    "- Observe that $\\mathcal{H}$ can be constructed entirely from data (non-intrusively)"
   ]
  },
  {
   "cell_type": "markdown",
   "id": "3d06fc54",
   "metadata": {
    "slideshow": {
     "slide_type": "slide"
    }
   },
   "source": [
    "### Eigensystem Realization Algorithm\n",
    "**Input:** Impulse response (Markov parameter) measurements $h$\n",
    " 1. Form Hankel matrix\n",
    " 2. Compute SVD\n",
    "\\begin{equation}\n",
    "\\mathcal{H}=U\\Sigma V^T=\\begin{bmatrix}U_r&U_\\ast\\end{bmatrix}\\begin{bmatrix}\\Sigma_r&0\\\\0&\\Sigma_\\ast\\end{bmatrix}\\begin{bmatrix}V_r^T\\\\V_\\ast^T\\end{bmatrix}\n",
    "\\end{equation}\n",
    " 3. Choose approximate Gramian factors\n",
    " \\begin{align}\n",
    "  \\mathcal{O}=U_r\\Sigma_r^{1/2},&&\\mathcal{C}=\\Sigma_r^{1/2}V_r^T\n",
    "\\end{align}\n",
    " 4. Construct a (partial) realization\n",
    "\\begin{align}\n",
    "  &A=\\mathcal{O}_{f}^{\\dagger}\\mathcal{O}_{l},&&B=\\mathcal{C}\n",
    "                                     \\begin{bmatrix}\n",
    "                                       I_{m}\\\\0\n",
    "                                     \\end{bmatrix},&C=\n",
    "                                                     \\begin{bmatrix}\n",
    "                                                       I_p&0\n",
    "                                                     \\end{bmatrix}\\mathcal{O},&&D=h_0\n",
    "\\end{align}\n",
    "\n",
    "**Output:** Partial realization $(A,B,C,D)$"
   ]
  },
  {
   "cell_type": "code",
   "execution_count": null,
   "id": "9f7d1286",
   "metadata": {
    "slideshow": {
     "slide_type": "slide"
    }
   },
   "outputs": [],
   "source": [
    "from pymor.operators.numpy import NumpyHankelOperator\n",
    "\n",
    "H = NumpyHankelOperator(np.concatenate((ir, np.zeros_like(ir)[1:])))\n",
    "print(H)"
   ]
  },
  {
   "cell_type": "markdown",
   "id": "5ea26b64",
   "metadata": {
    "slideshow": {
     "slide_type": "slide"
    }
   },
   "source": [
    "### Tangential projections\n",
    "Computing the SVD might be infeasible for large $\\mathcal{H}$. \n",
    "\n",
    "- The impulse response data $h$ contains $n=511=2s-1$ samples after zero padding\n",
    "- Rank of $\\mathcal{H}$ is bounded\n",
    "\\begin{equation}\n",
    "\\operatorname{rank}(\\mathcal{H})\\leq\\min\\left\\{ms, ps\\right\\}=512\n",
    "\\end{equation}\n",
    "\n",
    "- We can reduce the size of $\\mathcal{H}$ with **tangential projections** by computing a skinny SVD of\n",
    "\\begin{equation}\n",
    "\\Theta_\\mathrm{in}=\\begin{bmatrix}h_1\\\\\\vdots\\\\h_s\\end{bmatrix}=U_\\mathrm{in}\\Sigma_\\mathrm{in}V_\\mathrm{in}^T\\in\\mathbb{R}^{ps\\times m}\n",
    "\\end{equation} and projecting the data with $V_\\mathrm{in}\\in\\mathbb{R}^{m\\times ps}$\n",
    "\\begin{equation}\n",
    "\\hat{h}_i=hV_\\mathrm{in}\\in\\mathbb{R}^{p\\times ps}\n",
    "\\end{equation}\n",
    "- Let $\\mathcal{V}=\\operatorname{blk diag}\\left(V,\\,\\dots,\\,V\\right)\\in\\mathbb{R}^{ms\\times ps^2}$. Since $V$ is unitary, $\\mathcal{V}$ is unitary. It follows that\n",
    "\\begin{equation}\n",
    "\\sigma(\\mathcal{H})=\\sigma(\\mathcal{H}\\mathcal{V})=\\sigma(\\mathcal{\\hat{H}})\n",
    "\\end{equation}"
   ]
  },
  {
   "cell_type": "markdown",
   "id": "895ab6e5",
   "metadata": {
    "slideshow": {
     "slide_type": "slide"
    }
   },
   "source": [
    "## Using pyMOR"
   ]
  },
  {
   "cell_type": "code",
   "execution_count": null,
   "id": "171d2b09",
   "metadata": {
    "slideshow": {
     "slide_type": "slide"
    }
   },
   "outputs": [],
   "source": [
    "from pymor.reductors.era import ERAReductor\n",
    "\n",
    "ERAReductor?"
   ]
  },
  {
   "cell_type": "code",
   "execution_count": null,
   "id": "3643698d",
   "metadata": {
    "slideshow": {
     "slide_type": "slide"
    }
   },
   "outputs": [],
   "source": [
    "ERAReductor.reduce??"
   ]
  },
  {
   "cell_type": "markdown",
   "id": "9a91b69b",
   "metadata": {
    "slideshow": {
     "slide_type": "slide"
    }
   },
   "source": [
    "## Exercise 1: Construct a partial realization"
   ]
  },
  {
   "cell_type": "code",
   "execution_count": null,
   "id": "b0e7c614",
   "metadata": {
    "slideshow": {
     "slide_type": "slide"
    }
   },
   "outputs": [],
   "source": [
    "era = ERAReductor(ir, sampling_time=1/fs, force_stability=True, feedthrough=None)"
   ]
  },
  {
   "cell_type": "code",
   "execution_count": null,
   "id": "e696f54e",
   "metadata": {
    "slideshow": {
     "slide_type": "slide"
    }
   },
   "outputs": [],
   "source": [
    "# your code here"
   ]
  },
  {
   "cell_type": "code",
   "execution_count": null,
   "id": "5fd8aef7",
   "metadata": {
    "slideshow": {
     "slide_type": "slide"
    }
   },
   "outputs": [],
   "source": [
    "flim = np.array((200, fs/2))\n",
    "wlim = 2 * np.pi * flim / fs\n",
    "ylim = (-40, 20)\n",
    "\n",
    "from pymor.algorithms.to_matrix import to_matrix\n",
    "from pymor.operators.numpy import NumpyMatrixOperator\n",
    "\n",
    "# slice the model for plotting\n",
    "sliced_roms = dict()\n",
    "for key, rom in roms.items():\n",
    "    sliced_roms[key] = rom.with_(B=NumpyMatrixOperator(to_matrix(rom.B)[:, input_idx].reshape(-1, 1)),\n",
    "                                 D=NumpyMatrixOperator(to_matrix(rom.D)[:, input_idx].reshape(-1, 1)))\n",
    "    \n",
    "fig, ax = plt.subplots(2, 2, figsize=(12, 9))\n",
    "ax = ax.T.ravel()\n",
    "ax[0].semilogx(np.fft.rfftfreq(256, 1/fs), 20*np.log10(np.abs(np.fft.rfft(ir[:, 0, input_idx]))), c='grey', marker='o', mec='k', markersize='3', label='data')\n",
    "ax[2].semilogx(np.fft.rfftfreq(256, 1/fs), 20*np.log10(np.abs(np.fft.rfft(ir[:, 1, input_idx]))), c='grey', marker='o', mec='k', markersize='3', label='data')\n",
    "ax = ax.reshape(-1, 1)\n",
    "for order, rom in sliced_roms.items():\n",
    "    rom.transfer_function.bode_plot(wlim, ax=ax, dB=True, Hz=True, label=f'r = {order}')\n",
    "ax = np.squeeze(ax)\n",
    "ax[0].set(xlabel='Frequency (Hz)', title='left ear', xlim=flim, ylim=ylim)\n",
    "ax[0].legend()\n",
    "ax[0].grid()\n",
    "fig.delaxes(ax[1])\n",
    "ax[2].set(xlabel='Frequency (Hz)', title='right ear', xlim=flim, ylim=ylim)\n",
    "ax[2].legend()\n",
    "ax[2].grid()\n",
    "fig.delaxes(ax[3])\n",
    "\n",
    "\n",
    "fig, axes = plt.subplots(1, 2)\n",
    "fig.suptitle(f'Error Impulse Response (input {input_idx})')\n",
    "for rom in sliced_roms.values():\n",
    "    rom = rom.with_(T=256)\n",
    "    hrir = rom.impulse_resp()[1:, :, 0] / fs\n",
    "    error = ir[..., input_idx] - hrir\n",
    "    for i, ax in enumerate(axes): \n",
    "        ax.plot(t, error[:, i], marker='o', mec='k', markersize='3', label='data')\n",
    "        ax.set(xlabel=r'Time (s)', ylabel='Amplitude', title=f'{\"left\" if i == 0 else \"right\"} ear', ylim=(-0.075, 0.075))"
   ]
  },
  {
   "cell_type": "markdown",
   "id": "9a71fc27",
   "metadata": {
    "slideshow": {
     "slide_type": "slide"
    }
   },
   "source": [
    "## Exercise 2: Construct a partial realization with tangential projections"
   ]
  }
 ],
 "metadata": {
  "celltoolbar": "Slideshow",
  "kernelspec": {
   "display_name": "Python 3 (ipykernel)",
   "language": "python",
   "name": "python3"
  },
  "language_info": {
   "codemirror_mode": {
    "name": "ipython",
    "version": 3
   },
   "file_extension": ".py",
   "mimetype": "text/x-python",
   "name": "python",
   "nbconvert_exporter": "python",
   "pygments_lexer": "ipython3",
   "version": "3.10.12"
  }
 },
 "nbformat": 4,
 "nbformat_minor": 5
}
