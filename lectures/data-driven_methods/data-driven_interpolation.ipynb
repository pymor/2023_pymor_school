{
 "cells": [
  {
   "cell_type": "markdown",
   "id": "d574eaa4",
   "metadata": {},
   "source": [
    "#### Data-Driven Rational Interpolation\n",
    "\n",
    "Consider a SISO LTI system\n",
    "\n",
    "$$\n",
    "\\begin{equation}\\tag{$\\Sigma$}\n",
    "  \\begin{aligned}\n",
    "    E \\dot{x}(t) & = A x(t) + B u(t), \\\\\n",
    "    y(t) & = C x(t).\n",
    "  \\end{aligned}\n",
    "\\end{equation}\n",
    "$$\n",
    "\n",
    "where $ E, A \\in \\mathbb{R}^{n \\times n}, B \\in \\mathbb{R}^{n}, C \\in \\mathbb{R}^{1 \\times n} $\n",
    "\n",
    "The corresponding transfer function is\n",
    "\n",
    "$$\n",
    "H(s) = C {\\left(s E - A\\right)}^{-1} B.\n",
    "$$\n",
    "\n",
    "$H$ is a matrix-valued rational function."
   ]
  },
  {
   "cell_type": "markdown",
   "id": "43af44a9",
   "metadata": {},
   "source": [
    "***Goal:*** For some Laplace-variables/frequencies of interest $s_1,\\ldots,s_N$ compute a rational function $\\hat{H}$ such that \n",
    "\n",
    "$$\n",
    "    H(s_i) = \\hat{H}(s_i)\n",
    "$$"
   ]
  },
  {
   "cell_type": "markdown",
   "id": "2fb2e4e7",
   "metadata": {},
   "source": [
    "If we know $E, A, B, C$ then we use rational Krylov subspaces and do projection: `LTIBHIReductor`.\n",
    "\n",
    "If we don't know $E, A, B, C$ but can evaluate $H(s)$ for arbitrary $s$ then we can use `TFBHIReductor`."
   ]
  },
  {
   "cell_type": "markdown",
   "id": "e38c083b",
   "metadata": {},
   "source": [
    "### Data-Driven Setting\n",
    "\n",
    "If we have neither access to $E, A, B, C$ nor $H(s)$ ***but a dataset***\n",
    "\n",
    "$$\n",
    "\\begin{equation}\n",
    "  \\begin{aligned}\n",
    "    H(s_1),\\ldots,H(s_N) \\\\\n",
    "    s_1,\\ldots,s_N \\in \\mathbb{C}\n",
    "  \\end{aligned}\n",
    "\\end{equation}\n",
    "$$\n",
    "\n",
    "then we are in the ***data-driven*** setting.\n",
    "\n",
    "Data can come from\n",
    "- Real-world measurements\n",
    "- Data from previous simulations"
   ]
  },
  {
   "cell_type": "markdown",
   "id": "9c180e56",
   "metadata": {},
   "source": [
    "### Loewner Interpolation Framework\n",
    "\n",
    "1.    Split the data into left and right partition\n",
    "    $$\n",
    "    \\begin{aligned}\n",
    "    \\{ s_1,\\ldots,s_N \\} \\quad &\\rightarrow \\quad \\{ \\lambda_1,\\ldots,\\lambda_k \\} \\cup \\{ \\mu_1,\\ldots,\\mu_{N-k} \\} \\\\\n",
    "    H(s_1),\\ldots,H(s_N) \\quad &\\rightarrow \\quad \\{ H(\\lambda_1),\\ldots,H(\\lambda_k) \\} \\cup \\{ H(\\mu_1),\\ldots,H(\\mu_{N-k}) \\} \\\\\n",
    "    \\end{aligned}\n",
    "    $$\n",
    "2.    Compute the Loewner matrix pencil\n",
    "    $$\n",
    "    \\mathbb{L} = \\begin{bmatrix}\n",
    "    \\frac{H(\\lambda_1) - H(\\mu_1)}{\\lambda_1 - \\mu_1} & \\cdots & \\frac{H(\\lambda_1) - H(\\mu_{N-k})}{\\lambda_1 - \\mu_{N-k}} \\\\ \n",
    "        \\vdots & & \\vdots \\\\\n",
    "    \\frac{H(\\lambda_k) - H(\\mu_1)}{\\lambda_k - \\mu_1} & \\cdots & \\frac{H(\\lambda_k) - H(\\mu_{N-k})}{\\lambda_k - \\mu_{N-k}}\n",
    "    \\end{bmatrix}, \\quad \\mathbb{L}_s = \\begin{bmatrix}\n",
    "    \\frac{\\lambda_1 H(\\lambda_1) - \\mu_1 H(\\mu_1)}{\\lambda_1 - \\mu_1} & \\cdots & \\frac{\\lambda_1 H(\\lambda_1) - \\mu_{N-k} H(\\mu_{N-k})}{\\lambda_1 - \\mu_{N-k}} \\\\ \n",
    "        \\vdots & & \\vdots \\\\\n",
    "    \\frac{\\lambda_k H(\\lambda_k) - \\mu_1 H(\\mu_1)}{\\lambda_k - \\mu_1} & \\cdots & \\frac{\\lambda_k H(\\lambda_k) - \\mu_{N-k} H(\\mu_{N-k})}{\\lambda_k - \\mu_{N-k}}\n",
    "    \\end{bmatrix} \\in \\mathbb{R}^{k \\times (N - k)}\n",
    "    $$\n",
    "3.    Compute the rank-revealing SVDs\n",
    "    $$\n",
    "    Y_1 \\Sigma_1 X_1^* = \\begin{bmatrix} \\mathbb{L} & \\mathbb{L}_s \\end{bmatrix}, Y_2 \\Sigma_2 X_2^* = \\begin{bmatrix} \\mathbb{L} \\\\ \\mathbb{L}_s \\end{bmatrix}\n",
    "    $$\n",
    "4.    Form the LTI ROM via\n",
    "    $$\n",
    "    \\begin{aligned}\n",
    "        \\hat{E} &:= -Y_1^\\top \\mathbb{L}_s X_2 \\\\\n",
    "        \\hat{A} &:= -Y_1^\\top \\mathbb{L} X_2 \\\\\n",
    "        \\hat{B} &:= Y_1^\\top \\begin{bmatrix} H(\\mu_1) & \\cdots & H(\\mu_{N-k}) \\end{bmatrix}^\\top \\\\\n",
    "        \\hat{C} &:= \\begin{bmatrix} H(\\lambda_1) & \\cdots & H(\\lambda_k) \\end{bmatrix} X_2 \\\\\n",
    "    \\end{aligned}\n",
    "    $$"
   ]
  },
  {
   "cell_type": "markdown",
   "id": "51f2c5aa",
   "metadata": {},
   "source": [
    "The reduced order model will be of order $r$ where\n",
    "$$\n",
    "    r = \\operatorname{rank}\\left(\\begin{bmatrix} \\mathbb{L} & \\mathbb{L}_s \\end{bmatrix}\\right).\n",
    "$$\n",
    "The reduced order transfer function $\\hat{H}$ will interpolate $H$ for all samples $\\{ s_1,\\ldots,s_N \\}$ "
   ]
  },
  {
   "cell_type": "markdown",
   "id": "0a8502f9",
   "metadata": {},
   "source": [
    "There are many practical (typically problem or objective dependent) questions:\n",
    "\n",
    "- How large should the left vs right partition be?\n",
    "- How do we pick which samples go into the left vs right partition?\n",
    "- How do we choose the tolerance for the numerical rank in the rank-revealing SVD?\n",
    "- How do we do it for the MIMO case (i.e., interpolation of matrix-valued functions)?"
   ]
  },
  {
   "cell_type": "code",
   "execution_count": null,
   "id": "22be394b",
   "metadata": {},
   "outputs": [],
   "source": [
    "import scipy.io as spio\n",
    "from pymor.models.iosys import LTIModel\n",
    "\n",
    "mats = spio.loadmat('beam.mat')\n",
    "fom = LTIModel.from_matrices(mats['A'], mats['B'].todense(), mats['C'].todense())"
   ]
  },
  {
   "cell_type": "code",
   "execution_count": null,
   "id": "f98823e8",
   "metadata": {},
   "outputs": [],
   "source": [
    "import numpy as np\n",
    "\n",
    "s = np.logspace(-3, 3, 50)\n",
    "Hs = np.array([fom.transfer_function.eval_tf(ss) for ss in 1j*s])"
   ]
  },
  {
   "cell_type": "code",
   "execution_count": null,
   "id": "b8127214",
   "metadata": {},
   "outputs": [],
   "source": [
    "from pymor.reductors.loewner import LoewnerReductor\n",
    "\n",
    "loewner = LoewnerReductor(1j*s,Hs)"
   ]
  },
  {
   "cell_type": "markdown",
   "id": "08fcd9dc",
   "metadata": {},
   "source": [
    "It holds $H(\\overline{s}) = \\overline{H(s)}$.\n",
    "\n",
    "If we have data for $H(s)$ we can artifically increase our data set by adding complex conjugates. This allows for computing ***real realizations***."
   ]
  },
  {
   "cell_type": "code",
   "execution_count": null,
   "id": "ffb24a37",
   "metadata": {},
   "outputs": [],
   "source": [
    "rom = loewner.reduce()"
   ]
  },
  {
   "cell_type": "code",
   "execution_count": null,
   "id": "e0cdba51",
   "metadata": {},
   "outputs": [],
   "source": [
    "rom"
   ]
  },
  {
   "cell_type": "code",
   "execution_count": null,
   "id": "f878cfa8",
   "metadata": {},
   "outputs": [],
   "source": [
    "import matplotlib.pyplot as plt\n",
    "\n",
    "fig, ax = plt.subplots(constrained_layout=True)\n",
    "fom.transfer_function.mag_plot(np.logspace(-3, 3, 200), ax=ax, label='FOM')\n",
    "rom.transfer_function.mag_plot(np.logspace(-3, 3, 200), ax=ax, label='ROM', linestyle='dashed')\n",
    "ax.legend()"
   ]
  },
  {
   "cell_type": "markdown",
   "id": "be59d087",
   "metadata": {},
   "source": [
    "### Exercise\n",
    "\n",
    "- Change the `partitioning` attribute of `loewner` to `'half-half`' using `loewner.with_`.\n",
    "- Compute an order $5$ reduced model with the `loewner` reductor (i.e., pass $r=5$ to the `reduce` method).\n",
    "- Plot the solution.\n",
    "- Repeat the previous steps using `partitioning = 'even-odd'`.\n"
   ]
  },
  {
   "cell_type": "code",
   "execution_count": null,
   "id": "f28f52ce",
   "metadata": {},
   "outputs": [],
   "source": [
    "loewner = loewner.with_(...)\n",
    "..."
   ]
  },
  {
   "cell_type": "markdown",
   "id": "79acbac8",
   "metadata": {},
   "source": [
    "### Rational Approximation\n",
    "The Loewner framework will yield a rational approximation if\n",
    "- The truncation tolerance for the SVD of Loewner matrices is too small\n",
    "- The partitioning size $k$ is too small"
   ]
  },
  {
   "cell_type": "markdown",
   "id": "c6918d57",
   "metadata": {},
   "source": [
    "### AAA Idea\n",
    "1.    Construct $\\hat{H}$ such that it interpolates $\\lambda_1,\\ldots,\\lambda_k$ and approximates other data in a least squares sense.\n",
    "    $$\n",
    "    \\{ s_1,\\ldots,s_N \\} \\quad \\rightarrow \\quad \\begin{cases} \\text{Interpolate: } & \\{ \\lambda_1,\\ldots,\\lambda_k \\} \\\\ \\text{LS Fit:} & \\{ \\mu_1,\\ldots,\\mu_{N-k} \\} \\end{cases}\n",
    "    $$\n",
    "2.    Start with $k=1$ interpolation point and successively increase the interpolation set via greedy selection:\n",
    "    $$\n",
    "      \\lambda_{k+1} = \\operatorname{arg max} \\lVert H(\\mu_j) - \\hat{H}(\\mu_j) \\rVert\n",
    "    $$\n",
    "3.    Finish once error over training set is low enough."
   ]
  },
  {
   "cell_type": "code",
   "execution_count": null,
   "id": "f74969fe",
   "metadata": {},
   "outputs": [],
   "source": [
    "from pymor.reductors.aaa import PAAAReductor\n",
    "\n",
    "aaa = PAAAReductor(1j*s,Hs)"
   ]
  },
  {
   "cell_type": "code",
   "execution_count": null,
   "id": "d097d9aa",
   "metadata": {},
   "outputs": [],
   "source": [
    "rom = aaa.reduce(tol=1e-3)"
   ]
  },
  {
   "cell_type": "code",
   "execution_count": null,
   "id": "09affea7",
   "metadata": {},
   "outputs": [],
   "source": [
    "rom"
   ]
  },
  {
   "cell_type": "code",
   "execution_count": null,
   "id": "efb69e0d",
   "metadata": {},
   "outputs": [],
   "source": [
    "fig, ax = plt.subplots(constrained_layout=True)\n",
    "fom.transfer_function.mag_plot(np.logspace(-3, 3, 200), ax=ax, label='FOM')\n",
    "rom.mag_plot(np.logspace(-3, 3, 200), ax=ax, label='ROM', linestyle='dashed')"
   ]
  },
  {
   "cell_type": "code",
   "execution_count": null,
   "id": "8989b61b",
   "metadata": {},
   "outputs": [],
   "source": []
  }
 ],
 "metadata": {
  "jupytext": {
   "cell_metadata_filter": "-all",
   "notebook_metadata_filter": "-all",
   "text_representation": {
    "extension": ".md",
    "format_name": "markdown"
   }
  },
  "kernelspec": {
   "display_name": "pymor",
   "language": "python",
   "name": "pymor"
  }
 },
 "nbformat": 4,
 "nbformat_minor": 5
}
