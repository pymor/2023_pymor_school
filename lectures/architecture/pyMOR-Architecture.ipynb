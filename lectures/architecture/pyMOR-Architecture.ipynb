{
 "cells": [
  {
   "cell_type": "markdown",
   "id": "75c09643",
   "metadata": {
    "slideshow": {
     "slide_type": "slide"
    }
   },
   "source": [
    "# pyMOR Architecture"
   ]
  },
  {
   "cell_type": "markdown",
   "id": "52badb2c",
   "metadata": {
    "slideshow": {
     "slide_type": "fragment"
    }
   },
   "source": [
    "pyMOR's architecture is centered around ***generic*** implementations of model order reduction algorithms.\n",
    "\n",
    "Algorithms are formulated in terms of ***abstract interfaces*** such that external PDE/NLA backends can easily be integrated."
   ]
  },
  {
   "cell_type": "markdown",
   "id": "908554c6",
   "metadata": {
    "slideshow": {
     "slide_type": "subslide"
    }
   },
   "source": [
    "## Motivation\n",
    "\n",
    "Consider PDE solvers\n",
    "- FEniCS\n",
    "- deal.II\n",
    "- ...\n",
    "- proprietary code?\n",
    "\n",
    "with specific backend for discretized operators and numerical linear algebra operations."
   ]
  },
  {
   "cell_type": "markdown",
   "id": "590118b2",
   "metadata": {
    "slideshow": {
     "slide_type": "subslide"
    }
   },
   "source": [
    "#### Can we implement MOR algorithms once in a way such that they are compatible with any desired PDE backend?\n",
    "\n",
    "For the most part, yes! We only need notions of\n",
    "- ***Operators***\n",
    "- (Collections of) Vectors $\\rightarrow$ ***VectorArrays***\n",
    "\n",
    "and possible operations that involve these objects."
   ]
  },
  {
   "cell_type": "markdown",
   "id": "226af13f",
   "metadata": {
    "slideshow": {
     "slide_type": "slide"
    }
   },
   "source": [
    "## `VectorArrays`\n",
    "\n",
    "- Represent a (short) sequence/array of (high-dimensional) vectors.\n",
    "  - sequences in Python implement `__getitem__` and `__len__`\n",
    "  - arrays in NumPy implement advanced indexing\n",
    "- Can represent a tall-and-skinny or short-and-fat matrix.\n",
    "- Each vector (and thus the entire collection) lives in an associated `VectorSpace`.\n",
    "- `VectorArrays` are never instantiated directly, but rather through a `VectorSpace`.\n",
    "- Vectors in pyMOR are just `VectorArrays` of length one.\n",
    "- pyMOR uses inheritence:\n",
    "  - `pymor.vectorarrays.interface.VectorArray` defines the `VectorArray` interface\n",
    "  - all concrete vector array classes need to inherit from `VectorArray`"
   ]
  },
  {
   "cell_type": "code",
   "execution_count": null,
   "id": "36b7038e",
   "metadata": {
    "slideshow": {
     "slide_type": "subslide"
    }
   },
   "outputs": [],
   "source": [
    "from pymor.basic import NumpyVectorSpace\n",
    "\n",
    "space = NumpyVectorSpace(10)\n",
    "print(space.dim)"
   ]
  },
  {
   "cell_type": "code",
   "execution_count": null,
   "id": "661f0dd4",
   "metadata": {
    "slideshow": {
     "slide_type": "fragment"
    }
   },
   "outputs": [],
   "source": [
    "V = space.zeros(3)\n",
    "print(V.dim)\n",
    "print(len(V))\n",
    "print(V)"
   ]
  },
  {
   "cell_type": "code",
   "execution_count": null,
   "id": "70bb672a",
   "metadata": {
    "slideshow": {
     "slide_type": "fragment"
    }
   },
   "outputs": [],
   "source": [
    "V = space.random(2)\n",
    "print(V.dim)\n",
    "print(len(V))\n",
    "print(V)"
   ]
  },
  {
   "cell_type": "code",
   "execution_count": null,
   "id": "d90bb744",
   "metadata": {
    "slideshow": {
     "slide_type": "fragment"
    }
   },
   "outputs": [],
   "source": [
    "V = space.ones(1)\n",
    "print(V.dim)\n",
    "print(len(V))\n",
    "print(V)"
   ]
  },
  {
   "cell_type": "code",
   "execution_count": null,
   "id": "a87ab2b2",
   "metadata": {
    "slideshow": {
     "slide_type": "subslide"
    }
   },
   "outputs": [],
   "source": [
    "import numpy as np\n",
    "\n",
    "a = np.arange(30).reshape(10, 3)\n",
    "print(a)"
   ]
  },
  {
   "cell_type": "code",
   "execution_count": null,
   "id": "3038a98d",
   "metadata": {
    "slideshow": {
     "slide_type": "fragment"
    }
   },
   "outputs": [],
   "source": [
    "V = space.make_array(a.T)\n",
    "print(V.dim)\n",
    "print(len(V))\n",
    "print(V)"
   ]
  },
  {
   "cell_type": "markdown",
   "id": "51c6457f",
   "metadata": {
    "slideshow": {
     "slide_type": "subslide"
    }
   },
   "source": [
    "Internally, `VectorArrays` appear to be stored as row vectors, but\n",
    "\n",
    "- `VectorArrays` in pyMOR are not considered ***column or row vectors***, they are simply lists of vectors.\n",
    "- Mathematically there is no notion of row/column vectors from e.g. $\\mathbb{R}^n$ either.\n",
    "- Consequence: There is no `transpose` method for `VectorArrays`.\n",
    "- Only typical operations for \"mathematical\" vectors are supported."
   ]
  },
  {
   "cell_type": "code",
   "execution_count": null,
   "id": "da9c6582",
   "metadata": {
    "slideshow": {
     "slide_type": "subslide"
    }
   },
   "outputs": [],
   "source": [
    "V = space.make_array(np.arange(20).reshape(10, 2).T)\n",
    "print(V)\n",
    "\n",
    "W = space.make_array(np.arange(0, 40, 2).reshape(10, 2).T)\n",
    "print(W)"
   ]
  },
  {
   "cell_type": "code",
   "execution_count": null,
   "id": "c06be7ff",
   "metadata": {
    "slideshow": {
     "slide_type": "fragment"
    }
   },
   "outputs": [],
   "source": [
    "print(V + W)"
   ]
  },
  {
   "cell_type": "code",
   "execution_count": null,
   "id": "f376e29d",
   "metadata": {
    "slideshow": {
     "slide_type": "fragment"
    }
   },
   "outputs": [],
   "source": [
    "print(V - W)"
   ]
  },
  {
   "cell_type": "code",
   "execution_count": null,
   "id": "ba54dbf9",
   "metadata": {
    "slideshow": {
     "slide_type": "fragment"
    }
   },
   "outputs": [],
   "source": [
    "print(V * 2)"
   ]
  },
  {
   "cell_type": "code",
   "execution_count": null,
   "id": "895e6b9d",
   "metadata": {
    "slideshow": {
     "slide_type": "fragment"
    }
   },
   "outputs": [],
   "source": [
    "print(V.norm())"
   ]
  },
  {
   "cell_type": "code",
   "execution_count": null,
   "id": "c7451921",
   "metadata": {
    "slideshow": {
     "slide_type": "fragment"
    }
   },
   "outputs": [],
   "source": [
    "VW = V.copy()\n",
    "VW.append(W)\n",
    "print(VW)"
   ]
  },
  {
   "cell_type": "markdown",
   "id": "2ffa26a6",
   "metadata": {
    "slideshow": {
     "slide_type": "subslide"
    }
   },
   "source": [
    "### `VectorArray` vs NumPy array\n",
    "\n",
    "Both types of arrays are used extensively in pyMOR.\n",
    "\n",
    "`VectorArrays` are used whenever vectors that live in a (high-dimensional) state-space are represented, e.g.:\n",
    "\n",
    "- internal state of a `Model`,\n",
    "- basis used for projection,\n",
    "- vectors that \"live\" in an external PDE solver.\n",
    "\n",
    "NumPy arrays are used for (low-dimensional) data which has no direct connection to an external solver, e.g.:\n",
    "\n",
    "- inputs and outputs of models,\n",
    "- coefficients for linear combinations,\n",
    "- computed inner products."
   ]
  },
  {
   "cell_type": "code",
   "execution_count": null,
   "id": "ba45c8b1",
   "metadata": {
    "slideshow": {
     "slide_type": "subslide"
    }
   },
   "outputs": [],
   "source": [
    "print(V.inner(W))"
   ]
  },
  {
   "cell_type": "code",
   "execution_count": null,
   "id": "e73c97cb",
   "metadata": {
    "slideshow": {
     "slide_type": "fragment"
    }
   },
   "outputs": [],
   "source": [
    "V.lincomb(np.array([1, 2]))"
   ]
  },
  {
   "cell_type": "markdown",
   "id": "afc02fa8",
   "metadata": {
    "slideshow": {
     "slide_type": "subslide"
    }
   },
   "source": [
    "`VectorArrays` are ***mutable***.\n",
    "\n",
    "Also, depending on the implementation, they may change the underlying data.\n",
    "This is the case for `NumpyVectorArrays`."
   ]
  },
  {
   "cell_type": "code",
   "execution_count": null,
   "id": "894cffc6",
   "metadata": {
    "slideshow": {
     "slide_type": "fragment"
    }
   },
   "outputs": [],
   "source": [
    "a = np.array([[1, 2, 3],\n",
    "              [4, 5, 6]])\n",
    "V = NumpyVectorSpace.make_array(a)\n",
    "V.scal(2)\n",
    "a"
   ]
  },
  {
   "cell_type": "markdown",
   "id": "b56a8760",
   "metadata": {
    "slideshow": {
     "slide_type": "subslide"
    }
   },
   "source": [
    "Depending on the `VectorArray` implementation, `to_numpy` and `from_numpy` methods may be available.\n",
    "\n",
    "For `NumpyVectorArrays` this clearly works and `from_numpy` and `make_array` essentially do the same thing."
   ]
  },
  {
   "cell_type": "code",
   "execution_count": null,
   "id": "e5082ca8",
   "metadata": {
    "slideshow": {
     "slide_type": "fragment"
    }
   },
   "outputs": [],
   "source": [
    "V = NumpyVectorSpace.from_numpy(a)\n",
    "V.to_numpy()"
   ]
  },
  {
   "cell_type": "markdown",
   "id": "05765931",
   "metadata": {
    "slideshow": {
     "slide_type": "fragment"
    }
   },
   "source": [
    "If you are using only NumPy-based data in your own application, using these methods is typically fine.\n",
    "\n",
    "However, pyMOR code will generally avoid these methods since they may not be available for all `VectorArray` implementations."
   ]
  },
  {
   "cell_type": "markdown",
   "id": "d03aeeb9",
   "metadata": {
    "slideshow": {
     "slide_type": "subslide"
    }
   },
   "source": [
    "Indexing and advanced indexing similar as for NumPy arrays is available and will always create a ***view on the data***."
   ]
  },
  {
   "cell_type": "code",
   "execution_count": null,
   "id": "df3f4ec3",
   "metadata": {
    "slideshow": {
     "slide_type": "fragment"
    }
   },
   "outputs": [],
   "source": [
    "print(V)"
   ]
  },
  {
   "cell_type": "code",
   "execution_count": null,
   "id": "38ab845f",
   "metadata": {
    "slideshow": {
     "slide_type": "fragment"
    }
   },
   "outputs": [],
   "source": [
    "w = V[-1]\n",
    "print(w)"
   ]
  },
  {
   "cell_type": "code",
   "execution_count": null,
   "id": "c1c062c2",
   "metadata": {
    "slideshow": {
     "slide_type": "fragment"
    }
   },
   "outputs": [],
   "source": [
    "w.scal(2)"
   ]
  },
  {
   "cell_type": "code",
   "execution_count": null,
   "id": "3c080415",
   "metadata": {
    "slideshow": {
     "slide_type": "fragment"
    }
   },
   "outputs": [],
   "source": [
    "print(w)"
   ]
  },
  {
   "cell_type": "code",
   "execution_count": null,
   "id": "74d08ab8",
   "metadata": {
    "slideshow": {
     "slide_type": "-"
    }
   },
   "outputs": [],
   "source": [
    "print(V)"
   ]
  },
  {
   "cell_type": "markdown",
   "id": "e39f631f",
   "metadata": {
    "slideshow": {
     "slide_type": "subslide"
    }
   },
   "source": [
    "However, accessing individual entries via indexing is done via the `dofs` method."
   ]
  },
  {
   "cell_type": "code",
   "execution_count": null,
   "id": "49c41655",
   "metadata": {
    "slideshow": {
     "slide_type": "fragment"
    }
   },
   "outputs": [],
   "source": [
    "print(a[1, 1])\n",
    "print(V[1].dofs([1]))"
   ]
  },
  {
   "cell_type": "markdown",
   "id": "fbc43d5c",
   "metadata": {
    "slideshow": {
     "slide_type": "fragment"
    }
   },
   "source": [
    "This is again motivated by the fact that the `VectorArray` may be part of a backend where extracting individual entries is either not possible or expensive.\n",
    "\n",
    "Importantly, only a small number of `dofs` should be extracted at once."
   ]
  },
  {
   "cell_type": "markdown",
   "id": "30ce59cc",
   "metadata": {
    "slideshow": {
     "slide_type": "subslide"
    }
   },
   "source": [
    "### `ListVectorArray`\n",
    "\n",
    "Linear algebra backends of many PDE solvers only have the notion of a single vector.\n",
    "\n",
    "pyMOR supports an interface for single vectors via the `Vector` class.\n",
    "\n",
    "A `VectorArray` can then simply be obtained via the `ListVectorArray` class which can be considerd a collection of corresponding `Vector` instances.\n",
    "\n",
    "This means for a corresponding PDE solver backend one only needs to specify how a vector behaves by implementing a `*PDESolver*Vector` class and then gets the `VectorArray` for free."
   ]
  },
  {
   "cell_type": "code",
   "execution_count": null,
   "id": "b6286e55",
   "metadata": {
    "slideshow": {
     "slide_type": "fragment"
    }
   },
   "outputs": [],
   "source": [
    "from pymor.vectorarrays.list import NumpyListVectorSpace\n",
    "\n",
    "space = NumpyListVectorSpace(4)\n",
    "W = space.random(3)\n",
    "W.impl._list"
   ]
  },
  {
   "cell_type": "markdown",
   "id": "1e2805b1",
   "metadata": {
    "slideshow": {
     "slide_type": "subslide"
    }
   },
   "source": [
    "### Exercise 1\n",
    "\n",
    "Compute the Frobenius norm of `V.to_numpy()` without using `to_numpy`."
   ]
  },
  {
   "cell_type": "code",
   "execution_count": null,
   "id": "f5b042aa",
   "metadata": {
    "slideshow": {
     "slide_type": "-"
    }
   },
   "outputs": [],
   "source": [
    "V = NumpyVectorSpace.make_array(np.arange(20).reshape(10, 2).T)\n",
    "np.linalg.norm(V.to_numpy())"
   ]
  },
  {
   "cell_type": "code",
   "execution_count": null,
   "id": "ce3fcf00",
   "metadata": {
    "slideshow": {
     "slide_type": "-"
    }
   },
   "outputs": [],
   "source": [
    "# your code here"
   ]
  },
  {
   "cell_type": "markdown",
   "id": "067daead",
   "metadata": {
    "slideshow": {
     "slide_type": "subslide"
    }
   },
   "source": [
    "### Exercise 2\n",
    "\n",
    "Compute two linear combinations using a single call of `lincomb`."
   ]
  },
  {
   "cell_type": "code",
   "execution_count": null,
   "id": "fae873c3",
   "metadata": {
    "slideshow": {
     "slide_type": "-"
    }
   },
   "outputs": [],
   "source": [
    "print(V.lincomb(np.array([1, 2])))\n",
    "print(V.lincomb(np.array([3, 4])))"
   ]
  },
  {
   "cell_type": "code",
   "execution_count": null,
   "id": "d537185f",
   "metadata": {
    "slideshow": {
     "slide_type": "-"
    }
   },
   "outputs": [],
   "source": [
    "print(...)  # your code here"
   ]
  },
  {
   "cell_type": "markdown",
   "id": "aaebf977",
   "metadata": {
    "slideshow": {
     "slide_type": "subslide"
    }
   },
   "source": [
    "### Exercise 3\n",
    "\n",
    "Generate a normally distributed vector with 5 components of mean $1$ and standard deviation $0.1$."
   ]
  },
  {
   "cell_type": "code",
   "execution_count": null,
   "id": "58965a0a",
   "metadata": {
    "slideshow": {
     "slide_type": "-"
    }
   },
   "outputs": [],
   "source": [
    "# your code here"
   ]
  },
  {
   "cell_type": "markdown",
   "id": "56d40c1b",
   "metadata": {
    "slideshow": {
     "slide_type": "slide"
    }
   },
   "source": [
    "## `Operators`\n",
    "\n",
    "- `Operators` in pyMOR define a (non)parametric, (non)linear mapping between `VectorSpaces`.\n",
    "- This means an `Operator` can be applied to any given `VectorArray` assuming that it is in the `Operators` source `VectorSpace`.\n",
    "- Similar to `VectorArrays`, any concrete operator class needs to inherit from `pymor.operators.interface.Operator`."
   ]
  },
  {
   "cell_type": "code",
   "execution_count": null,
   "id": "24af3e5c",
   "metadata": {
    "slideshow": {
     "slide_type": "fragment"
    }
   },
   "outputs": [],
   "source": [
    "import scipy.sparse as sps\n",
    "\n",
    "A = sps.diags([-2, 1, 1], [0, -1, 1], shape=(10, 10))\n",
    "\n",
    "A.toarray()"
   ]
  },
  {
   "cell_type": "code",
   "execution_count": null,
   "id": "6612086b",
   "metadata": {
    "slideshow": {
     "slide_type": "subslide"
    }
   },
   "outputs": [],
   "source": [
    "from pymor.operators.numpy import NumpyMatrixOperator\n",
    "\n",
    "Aop = NumpyMatrixOperator(A)\n",
    "\n",
    "print(Aop.range)\n",
    "print(Aop.source)\n",
    "print(Aop)\n",
    "print(repr(Aop))"
   ]
  },
  {
   "cell_type": "markdown",
   "id": "1ebbcc53",
   "metadata": {
    "slideshow": {
     "slide_type": "subslide"
    }
   },
   "source": [
    "We can now create `VectorArrays` directly from the `VectorSpace` given by `Operator.source` and apply the `Operator`."
   ]
  },
  {
   "cell_type": "code",
   "execution_count": null,
   "id": "dcc3f33f",
   "metadata": {
    "slideshow": {
     "slide_type": "fragment"
    }
   },
   "outputs": [],
   "source": [
    "V = Aop.source.ones(1)\n",
    "W = Aop.source.zeros(1)\n",
    "V.append(W)\n",
    "\n",
    "Aop.apply(V)"
   ]
  },
  {
   "cell_type": "markdown",
   "id": "92d66f09",
   "metadata": {
    "slideshow": {
     "slide_type": "subslide"
    }
   },
   "source": [
    "`Operators` also have an `apply_inverse` method."
   ]
  },
  {
   "cell_type": "code",
   "execution_count": null,
   "id": "b73bd15f",
   "metadata": {
    "slideshow": {
     "slide_type": "fragment"
    }
   },
   "outputs": [],
   "source": [
    "Aop.apply_inverse(V)"
   ]
  },
  {
   "cell_type": "markdown",
   "id": "45670f95",
   "metadata": {
    "slideshow": {
     "slide_type": "subslide"
    }
   },
   "source": [
    "Here, `Aop` is a `NumpyMatrixOperator` which can handle both dense NumPy arrays and sparse SciPy matrices.\n",
    "\n",
    "The `apply_inverse` method chooses the appropriate solution approach for the corresponding data. E.g.,\n",
    "\n",
    "- dense solver for dense NumPy arrays.\n",
    "- SciPy sparse solvers for sparse SciPy matrices.\n",
    "\n",
    "There are many options that can be passed to the `apply_inverse` method of a `NumpyMatrixOperator` to specifiy different solvers."
   ]
  },
  {
   "cell_type": "markdown",
   "id": "f0e79ffc",
   "metadata": {
    "slideshow": {
     "slide_type": "subslide"
    }
   },
   "source": [
    "The easiest way to specify different solvers is via pyMORs `set_defaults` method."
   ]
  },
  {
   "cell_type": "code",
   "execution_count": null,
   "id": "d7a32bbf",
   "metadata": {
    "slideshow": {
     "slide_type": "fragment"
    }
   },
   "outputs": [],
   "source": [
    "from pymor.core.defaults import set_defaults\n",
    "\n",
    "set_defaults({'pymor.bindings.scipy.apply_inverse.default_solver': 'scipy_bicgstab_spilu'})"
   ]
  },
  {
   "cell_type": "markdown",
   "id": "9c135218",
   "metadata": {
    "slideshow": {
     "slide_type": "subslide"
    }
   },
   "source": [
    "Now calling `NumpyMatrixOperator.apply_inverse` with a sparse SciPy matrix will use the specified solver without having to manually pass the argument.\n",
    "\n",
    "Under the hood this is realized via the `@defaults` decorator."
   ]
  },
  {
   "cell_type": "code",
   "execution_count": null,
   "id": "2fdb7e35",
   "metadata": {
    "slideshow": {
     "slide_type": "fragment"
    }
   },
   "outputs": [],
   "source": [
    "from pymor.core.defaults import defaults\n",
    "\n",
    "@defaults('tolerance')\n",
    "def some_algorithm(x, y, tolerance=1e-5):\n",
    "    print(tolerance)\n",
    "\n",
    "def test_some_algorithm(x, y, tolerance_for_some_algorithm=None):\n",
    "    some_algorithm(x, y, tolerance=tolerance_for_some_algorithm)"
   ]
  },
  {
   "cell_type": "code",
   "execution_count": null,
   "id": "bb0d518d",
   "metadata": {
    "slideshow": {
     "slide_type": "fragment"
    }
   },
   "outputs": [],
   "source": [
    "test_some_algorithm(1, 2)"
   ]
  },
  {
   "cell_type": "markdown",
   "id": "f19900b8",
   "metadata": {
    "slideshow": {
     "slide_type": "fragment"
    }
   },
   "source": [
    "Another option is using the `solver_options` parameter when initializing the `Operator`, but that specifies the solver only for the single `Operator`."
   ]
  },
  {
   "cell_type": "markdown",
   "id": "15f7ac6f",
   "metadata": {
    "slideshow": {
     "slide_type": "subslide"
    }
   },
   "source": [
    "Generally, `Operators` might not have a specific `apply_inverse` method provided by the PDE backend.\n",
    "\n",
    "Or the `Operator` is non-linear in which case one typically resorts to iterative methods.\n",
    "\n",
    "In this case, pyMOR has its own generic iterative solver which only requires the `apply` method to be implemented."
   ]
  },
  {
   "cell_type": "code",
   "execution_count": null,
   "id": "ad34797f",
   "metadata": {
    "slideshow": {
     "slide_type": "fragment"
    }
   },
   "outputs": [],
   "source": [
    "from pymor.core.defaults import *\n",
    "\n",
    "set_defaults({\n",
    "    'pymor.operators.numpy.NumpyMatrixOperator.apply_inverse.default_sparse_solver_backend': 'generic'\n",
    "})\n",
    "\n",
    "Aop.apply_inverse(V)"
   ]
  },
  {
   "cell_type": "markdown",
   "id": "da46ff8c",
   "metadata": {
    "slideshow": {
     "slide_type": "subslide"
    }
   },
   "source": [
    "`Operators` also support various other methods."
   ]
  },
  {
   "cell_type": "code",
   "execution_count": null,
   "id": "f9338ab6",
   "metadata": {
    "slideshow": {
     "slide_type": "fragment"
    }
   },
   "outputs": [],
   "source": [
    "# Evaluate W.T @ A @ V\n",
    "print(Aop.apply2(W, V))"
   ]
  },
  {
   "cell_type": "code",
   "execution_count": null,
   "id": "9fc24a38",
   "metadata": {
    "slideshow": {
     "slide_type": "fragment"
    }
   },
   "outputs": [],
   "source": [
    "print(Aop.apply_adjoint(V))"
   ]
  },
  {
   "cell_type": "code",
   "execution_count": null,
   "id": "b441668c",
   "metadata": {
    "slideshow": {
     "slide_type": "fragment"
    }
   },
   "outputs": [],
   "source": [
    "print(Aop.jacobian(V))"
   ]
  },
  {
   "cell_type": "markdown",
   "id": "ba552929",
   "metadata": {
    "slideshow": {
     "slide_type": "subslide"
    }
   },
   "source": [
    "### `LincombOperator`\n",
    "\n",
    "In MOR algorithms we may be interested to perform arithmetic operations with `Operators` in particular ***linear combinations*** of `Operators`.\n",
    "\n",
    "Unlike for `VectorArrays`, adding, subtracting or scaling is not performed immediately but rather a `LincombOperator` is created."
   ]
  },
  {
   "cell_type": "code",
   "execution_count": null,
   "id": "febea8d8",
   "metadata": {
    "slideshow": {
     "slide_type": "fragment"
    }
   },
   "outputs": [],
   "source": [
    "Bop = NumpyMatrixOperator(np.eye(10))\n",
    "Lop = 3*Aop - 2*Bop\n",
    "Lop"
   ]
  },
  {
   "cell_type": "code",
   "execution_count": null,
   "id": "cfe79f55",
   "metadata": {
    "slideshow": {
     "slide_type": "fragment"
    }
   },
   "outputs": [],
   "source": [
    "Lop.apply(V)"
   ]
  },
  {
   "cell_type": "code",
   "execution_count": null,
   "id": "1f568c71",
   "metadata": {
    "slideshow": {
     "slide_type": "fragment"
    }
   },
   "outputs": [],
   "source": [
    "Lop.assemble()"
   ]
  },
  {
   "cell_type": "markdown",
   "id": "0b6b8b59",
   "metadata": {
    "slideshow": {
     "slide_type": "subslide"
    }
   },
   "source": [
    "Aside from the `LincombOperator` there are many different types of operators in `pymor.operators.constructions`."
   ]
  },
  {
   "cell_type": "code",
   "execution_count": null,
   "id": "65964c91",
   "metadata": {
    "slideshow": {
     "slide_type": "subslide"
    }
   },
   "outputs": [],
   "source": [
    "from pymor.operators.constructions import ZeroOperator, IdentityOperator, ConcatenationOperator\n",
    "\n",
    "Zop = ZeroOperator(Aop.range, Aop.source)\n",
    "Iop = IdentityOperator(Aop.range, Aop.source)\n",
    "Cop = ConcatenationOperator((Aop, Bop))\n",
    "\n",
    "LLop = Zop + Iop + Lop\n",
    "LLop"
   ]
  },
  {
   "cell_type": "code",
   "execution_count": null,
   "id": "8d8ab938",
   "metadata": {
    "slideshow": {
     "slide_type": "fragment"
    }
   },
   "outputs": [],
   "source": [
    "LLop.apply(V)"
   ]
  },
  {
   "cell_type": "code",
   "execution_count": null,
   "id": "85c28ecc",
   "metadata": {
    "slideshow": {
     "slide_type": "fragment"
    }
   },
   "outputs": [],
   "source": [
    "LLop.assemble()"
   ]
  },
  {
   "cell_type": "markdown",
   "id": "51c178e5",
   "metadata": {
    "slideshow": {
     "slide_type": "subslide"
    }
   },
   "source": [
    "How does the `LincombOperator` know how to assemble the linear combination?"
   ]
  },
  {
   "cell_type": "code",
   "execution_count": null,
   "id": "971ea84a",
   "metadata": {
    "slideshow": {
     "slide_type": "fragment"
    }
   },
   "outputs": [],
   "source": [
    "from pymor.algorithms.lincomb import assemble_lincomb\n",
    "\n",
    "assemble_lincomb?"
   ]
  },
  {
   "cell_type": "code",
   "execution_count": null,
   "id": "5da97cfe",
   "metadata": {
    "slideshow": {
     "slide_type": "fragment"
    }
   },
   "outputs": [],
   "source": [
    "from pymor.algorithms.lincomb import AssembleLincombRules\n",
    "\n",
    "AssembleLincombRules?"
   ]
  },
  {
   "cell_type": "code",
   "execution_count": null,
   "id": "773fd3b1",
   "metadata": {
    "slideshow": {
     "slide_type": "fragment"
    }
   },
   "outputs": [],
   "source": [
    "AssembleLincombRules"
   ]
  },
  {
   "cell_type": "code",
   "execution_count": null,
   "id": "1f5f778a",
   "metadata": {
    "slideshow": {
     "slide_type": "fragment"
    }
   },
   "outputs": [],
   "source": [
    "from pymor.algorithms.rules import RuleTable\n",
    "\n",
    "RuleTable?"
   ]
  },
  {
   "cell_type": "markdown",
   "id": "9f05b60b",
   "metadata": {
    "slideshow": {
     "slide_type": "subslide"
    }
   },
   "source": [
    "#### `projection` of `Operators`\n",
    "\n",
    "Most important method of most model reduction algorithms is projection."
   ]
  },
  {
   "cell_type": "code",
   "execution_count": null,
   "id": "f628d949",
   "metadata": {
    "slideshow": {
     "slide_type": "fragment"
    }
   },
   "outputs": [],
   "source": [
    "from pymor.algorithms.projection import project\n",
    "\n",
    "V = LLop.source.random(3)\n",
    "W = LLop.range.random(3)\n",
    "\n",
    "projected_LLop = project(LLop, W, V)\n",
    "projected_LLop"
   ]
  },
  {
   "cell_type": "markdown",
   "id": "0a6f4a96",
   "metadata": {
    "slideshow": {
     "slide_type": "fragment"
    }
   },
   "source": [
    "Similar as for the `assemble` method of the `LincombOperator` we have a `RuleTable` that handles projection in a smart way."
   ]
  },
  {
   "cell_type": "markdown",
   "id": "fa58880f",
   "metadata": {
    "slideshow": {
     "slide_type": "subslide"
    }
   },
   "source": [
    "pyMORs `Operators` can be implemented to be compatible with a desired PDE backend.\n",
    "\n",
    "But also enable efficient and convenient handling of certain structured operators `BlockOperator`, `CanonicalSymplecticFormOperator`, `NumpyHankelOperator`, ..."
   ]
  },
  {
   "cell_type": "markdown",
   "id": "cbb82736",
   "metadata": {
    "slideshow": {
     "slide_type": "subslide"
    }
   },
   "source": [
    "Note that `Operators` in pyMOR are immutable.\n",
    "\n",
    "Unlike for `VectorArrays`, we can not make internal changes to an `Operator`."
   ]
  },
  {
   "cell_type": "code",
   "execution_count": null,
   "id": "6a277455",
   "metadata": {
    "slideshow": {
     "slide_type": "fragment"
    }
   },
   "outputs": [],
   "source": [
    "# The code below will result in an error\n",
    "# Aop.matrix = np.zeros((3, 3))"
   ]
  },
  {
   "cell_type": "markdown",
   "id": "84ceda88",
   "metadata": {
    "slideshow": {
     "slide_type": "subslide"
    }
   },
   "source": [
    "### Exercise\n",
    "\n",
    "Convert an `Operator` to a matrix using `pymor.algorithms.to_matrix.to_matrix`."
   ]
  },
  {
   "cell_type": "code",
   "execution_count": null,
   "id": "25da5dff",
   "metadata": {
    "slideshow": {
     "slide_type": "-"
    }
   },
   "outputs": [],
   "source": [
    "from pymor.algorithms.to_matrix import to_matrix\n",
    "\n",
    "# your code here"
   ]
  },
  {
   "cell_type": "markdown",
   "id": "f277e162",
   "metadata": {
    "slideshow": {
     "slide_type": "slide"
    }
   },
   "source": [
    "## `Models`\n",
    "\n",
    "- `Models` are collections of `Operators` and `VectorArrays` that represent a particular type of model.\n",
    "- `pymor.models.interface.Model` defines the `solve` and `output` methods for the parameter-to-solution and parameter-output mapping, respectively.\n",
    "  - This might be restrictive, e.g., a model might only have output and no state.\n",
    "  - Thus, it is not necessary for a model to inherit from `Model`.\n",
    "  - (An updated model hierarchy is a work in progress.)\n",
    "- Model order reduction algorithms typically take `Models` as an input and compute a ROM which will again be a `Model`."
   ]
  },
  {
   "cell_type": "code",
   "execution_count": null,
   "id": "d7c2529f",
   "metadata": {
    "slideshow": {
     "slide_type": "subslide"
    }
   },
   "outputs": [],
   "source": [
    "from pymor.basic import *\n",
    "\n",
    "p = StationaryProblem(\n",
    "    domain=RectDomain([[0., 0.], [1., 1.]], left='robin', right='robin', top='robin', bottom='robin'),\n",
    "    diffusion=ConstantFunction(1., 2),\n",
    "    robin_data=(ConstantFunction(1., 2), ExpressionFunction('(x[0] < 1e-10) * 1.', 2)),\n",
    "    outputs=[('l2_boundary', ExpressionFunction('(x[0] > (1 - 1e-10)) * 1.', 2))]\n",
    ")\n",
    "\n",
    "fom, _ = discretize_stationary_cg(p, diameter=0.1)"
   ]
  },
  {
   "cell_type": "code",
   "execution_count": null,
   "id": "ac60bdb7",
   "metadata": {
    "slideshow": {
     "slide_type": "subslide"
    }
   },
   "outputs": [],
   "source": [
    "fom"
   ]
  },
  {
   "cell_type": "code",
   "execution_count": null,
   "id": "757eedf9",
   "metadata": {
    "slideshow": {
     "slide_type": "fragment"
    }
   },
   "outputs": [],
   "source": [
    "fom.rhs"
   ]
  },
  {
   "cell_type": "code",
   "execution_count": null,
   "id": "53fca835",
   "metadata": {
    "slideshow": {
     "slide_type": "subslide"
    }
   },
   "outputs": [],
   "source": [
    "V = fom.solve()"
   ]
  },
  {
   "cell_type": "code",
   "execution_count": null,
   "id": "d3daecd6",
   "metadata": {
    "slideshow": {
     "slide_type": "fragment"
    }
   },
   "outputs": [],
   "source": [
    "fom.visualize(V)"
   ]
  },
  {
   "cell_type": "code",
   "execution_count": null,
   "id": "7b69e71a",
   "metadata": {
    "slideshow": {
     "slide_type": "subslide"
    }
   },
   "outputs": [],
   "source": [
    "from pymor.models.transfer_function import TransferFunction\n",
    "\n",
    "tf = TransferFunction(1, 1, lambda s: 1 / (s + 1))\n",
    "\n",
    "tf.eval_tf(1j)"
   ]
  },
  {
   "cell_type": "markdown",
   "id": "c5903451",
   "metadata": {
    "slideshow": {
     "slide_type": "subslide"
    }
   },
   "source": [
    "In pyMOR `Models` are immutable objects.\n",
    "\n",
    "The `with_` method creates a deep copy of an underlying object and allows for passing additional input arguments for the class."
   ]
  },
  {
   "cell_type": "code",
   "execution_count": null,
   "id": "cac29e3b",
   "metadata": {
    "slideshow": {
     "slide_type": "fragment"
    }
   },
   "outputs": [],
   "source": [
    "# The code below will result in error\n",
    "# fom.name = 'SimpleProblem'\n",
    "\n",
    "fom.with_(name='SimpleProblem')"
   ]
  },
  {
   "cell_type": "markdown",
   "id": "eeba21a3",
   "metadata": {
    "slideshow": {
     "slide_type": "subslide"
    }
   },
   "source": [
    "Typically, evaluating large-scale models is very expensive.\n",
    "\n",
    "In order to prevent expensive computations to be performed multiple times, pyMOR has its own caching mechanism.\n",
    "\n",
    "The easiest way to enable caching in pyMOR is to use the `@cached` decorator on a method of a model which inherits from `CacheableObject`."
   ]
  },
  {
   "cell_type": "code",
   "execution_count": null,
   "id": "00ae9b48",
   "metadata": {
    "slideshow": {
     "slide_type": "fragment"
    }
   },
   "outputs": [],
   "source": [
    "from pymor.core.cache import CacheableObject, cached"
   ]
  },
  {
   "cell_type": "code",
   "execution_count": null,
   "id": "6d1c103b",
   "metadata": {
    "slideshow": {
     "slide_type": "fragment"
    }
   },
   "outputs": [],
   "source": [
    "class CustomModel(CacheableObject):\n",
    "\n",
    "    cache_region = 'memory'\n",
    "\n",
    "    @cached\n",
    "    def expensive_evaluation(self, x):\n",
    "        ..."
   ]
  },
  {
   "cell_type": "markdown",
   "id": "dfd9043f",
   "metadata": {
    "slideshow": {
     "slide_type": "fragment"
    }
   },
   "source": [
    "Aside from `'memory'` one can also use `'disk'` or `'persistent'` as cache regions or configure a custom cache region."
   ]
  },
  {
   "cell_type": "markdown",
   "id": "4fd98a54",
   "metadata": {
    "slideshow": {
     "slide_type": "slide"
    }
   },
   "source": [
    "## Parameters and Parametric Objects\n",
    "\n",
    "`Operators` and `Models` can generally be parametrized by one or more parameters in pyMOR."
   ]
  },
  {
   "cell_type": "markdown",
   "id": "d1634dbc",
   "metadata": {
    "slideshow": {
     "slide_type": "subslide"
    }
   },
   "source": [
    "### `Parameters`\n",
    "\n",
    "- Mapping from parameter names to dimensions.\n",
    "- Defines what parameters a parametric object can accept.\n",
    "- Names `'t'`, `'s'`, and `'input'` should only be used for time, frequency, and input, respectively."
   ]
  },
  {
   "cell_type": "code",
   "execution_count": null,
   "id": "b2f0bd35",
   "metadata": {
    "slideshow": {
     "slide_type": "fragment"
    }
   },
   "outputs": [],
   "source": [
    "from pymor.parameters.base import Parameters\n",
    "\n",
    "parameters = Parameters({'a': 1, 'b': 2})\n",
    "parameters"
   ]
  },
  {
   "cell_type": "markdown",
   "id": "5928904c",
   "metadata": {
    "slideshow": {
     "slide_type": "fragment"
    }
   },
   "source": [
    "`Parameters` are immutable."
   ]
  },
  {
   "cell_type": "code",
   "execution_count": null,
   "id": "5f70620b",
   "metadata": {
    "slideshow": {
     "slide_type": "-"
    }
   },
   "outputs": [],
   "source": [
    "parameters['c'] = 3"
   ]
  },
  {
   "cell_type": "markdown",
   "id": "e83d7173",
   "metadata": {
    "slideshow": {
     "slide_type": "subslide"
    }
   },
   "source": [
    "### `Mu`\n",
    "\n",
    "- Mapping from parameters names to 1D NumPy arrays.\n",
    "- Represents parameter values."
   ]
  },
  {
   "cell_type": "code",
   "execution_count": null,
   "id": "47a62b21",
   "metadata": {
    "slideshow": {
     "slide_type": "fragment"
    }
   },
   "outputs": [],
   "source": [
    "from pymor.parameters.base import Mu\n",
    "\n",
    "mu = Mu({'a': np.array([1]), 'b': np.array([2, 3]), 'c': np.array([4, 5, 6])})\n",
    "mu"
   ]
  },
  {
   "cell_type": "markdown",
   "id": "9b3d0cdd",
   "metadata": {
    "slideshow": {
     "slide_type": "fragment"
    }
   },
   "source": [
    "It is possible to check if parameter values belong to a `Parameter`."
   ]
  },
  {
   "cell_type": "code",
   "execution_count": null,
   "id": "a236d171",
   "metadata": {
    "slideshow": {
     "slide_type": "-"
    }
   },
   "outputs": [],
   "source": [
    "parameters.is_compatible(mu)"
   ]
  },
  {
   "cell_type": "markdown",
   "id": "91e7f2f6",
   "metadata": {
    "slideshow": {
     "slide_type": "subslide"
    }
   },
   "source": [
    "It is possible to avoid constructing `Mu` by hand if `Parameters` is available via its `parse` method."
   ]
  },
  {
   "cell_type": "code",
   "execution_count": null,
   "id": "4fdbd699",
   "metadata": {
    "slideshow": {
     "slide_type": "-"
    }
   },
   "outputs": [],
   "source": [
    "parameters.parse([1, 2, 3])"
   ]
  },
  {
   "cell_type": "markdown",
   "id": "ac2de06f",
   "metadata": {
    "slideshow": {
     "slide_type": "subslide"
    }
   },
   "source": [
    "### `ParameterSpace`\n",
    "\n",
    "- Represents the set of possible parameter values.\n",
    "- Restricted to be of cubic type (each parameter component has a minimum and maximum value)."
   ]
  },
  {
   "cell_type": "code",
   "execution_count": null,
   "id": "37b2c46d",
   "metadata": {
    "slideshow": {
     "slide_type": "fragment"
    }
   },
   "outputs": [],
   "source": [
    "from pymor.parameters.base import ParameterSpace\n",
    "\n",
    "print(ParameterSpace(parameters, (0, 1)))\n",
    "print(ParameterSpace(parameters, {'a': (0, 1), 'b': (1, 2)}))"
   ]
  },
  {
   "cell_type": "markdown",
   "id": "79eb1e9a",
   "metadata": {
    "slideshow": {
     "slide_type": "fragment"
    }
   },
   "source": [
    "A `ParameterSpace` can also be created using the `space` method of `Parameters`."
   ]
  },
  {
   "cell_type": "code",
   "execution_count": null,
   "id": "2965ee41",
   "metadata": {
    "slideshow": {
     "slide_type": "-"
    }
   },
   "outputs": [],
   "source": [
    "print(parameters.space(0, 1))\n",
    "print(parameters.space({'a': (0, 1), 'b': (1, 2)}))"
   ]
  },
  {
   "cell_type": "markdown",
   "id": "10ffcfd9",
   "metadata": {
    "slideshow": {
     "slide_type": "subslide"
    }
   },
   "source": [
    "`ParameterSpaces` are useful for sampling."
   ]
  },
  {
   "cell_type": "code",
   "execution_count": null,
   "id": "6f987673",
   "metadata": {
    "slideshow": {
     "slide_type": "-"
    }
   },
   "outputs": [],
   "source": [
    "parameter_space = parameters.space(0, 1)\n",
    "parameter_space.sample_uniformly(3)"
   ]
  },
  {
   "cell_type": "code",
   "execution_count": null,
   "id": "3fe96260",
   "metadata": {
    "slideshow": {
     "slide_type": "fragment"
    }
   },
   "outputs": [],
   "source": [
    "parameter_space.sample_randomly(10)"
   ]
  },
  {
   "cell_type": "markdown",
   "id": "0643406e",
   "metadata": {
    "slideshow": {
     "slide_type": "subslide"
    }
   },
   "source": [
    "### `ParameterFunctional`\n",
    "\n",
    "- Represent mappings from parameter values to $\\mathbb{R}$ or $\\mathbb{C}$."
   ]
  },
  {
   "cell_type": "code",
   "execution_count": null,
   "id": "64af43d0",
   "metadata": {
    "slideshow": {
     "slide_type": "fragment"
    }
   },
   "outputs": [],
   "source": [
    "from pymor.parameters.functionals import ProjectionParameterFunctional\n",
    "\n",
    "f1 = ProjectionParameterFunctional('b', size=2, index=0)\n",
    "f1.evaluate(mu=parameters.parse([1, 2, 3]))"
   ]
  },
  {
   "cell_type": "code",
   "execution_count": null,
   "id": "f833b808",
   "metadata": {
    "slideshow": {
     "slide_type": "fragment"
    }
   },
   "outputs": [],
   "source": [
    "from pymor.parameters.functionals import GenericParameterFunctional\n",
    "\n",
    "f2 = GenericParameterFunctional(lambda mu: mu['b'][0]**2, parameters)\n",
    "f2.evaluate(mu=parameters.parse([1, 2, 3]))"
   ]
  },
  {
   "cell_type": "code",
   "execution_count": null,
   "id": "4072f63c",
   "metadata": {
    "slideshow": {
     "slide_type": "fragment"
    }
   },
   "outputs": [],
   "source": [
    "from pymor.parameters.functionals import ExpressionParameterFunctional\n",
    "\n",
    "f3 = ExpressionParameterFunctional('b[0]**2', parameters)\n",
    "f3.evaluate(mu=parameters.parse([1, 2, 3]))"
   ]
  },
  {
   "cell_type": "markdown",
   "id": "ab794404",
   "metadata": {
    "slideshow": {
     "slide_type": "subslide"
    }
   },
   "source": [
    "### Time-Dependent Parameter Values"
   ]
  },
  {
   "cell_type": "code",
   "execution_count": null,
   "id": "515f94cd",
   "metadata": {
    "slideshow": {
     "slide_type": "-"
    }
   },
   "outputs": [],
   "source": [
    "mu = Parameters(f=1, t=1).parse(['sin(t)', 0])\n",
    "mu"
   ]
  },
  {
   "cell_type": "code",
   "execution_count": null,
   "id": "1ae6ca25",
   "metadata": {
    "slideshow": {
     "slide_type": "fragment"
    }
   },
   "outputs": [],
   "source": [
    "mu['f']"
   ]
  },
  {
   "cell_type": "code",
   "execution_count": null,
   "id": "d6629726",
   "metadata": {
    "slideshow": {
     "slide_type": "fragment"
    }
   },
   "outputs": [],
   "source": [
    "mu2 = mu.with_(t=np.pi/4)\n",
    "mu2"
   ]
  },
  {
   "cell_type": "code",
   "execution_count": null,
   "id": "f08119ac",
   "metadata": {
    "slideshow": {
     "slide_type": "fragment"
    }
   },
   "outputs": [],
   "source": [
    "mu2['f']"
   ]
  },
  {
   "cell_type": "markdown",
   "id": "4fdb2f71",
   "metadata": {
    "slideshow": {
     "slide_type": "slide"
    }
   },
   "source": [
    "### Parametric `Operators`"
   ]
  },
  {
   "cell_type": "markdown",
   "id": "a3d0031c",
   "metadata": {
    "slideshow": {
     "slide_type": "fragment"
    }
   },
   "source": [
    "The simplest case is a parameter-separable `Operator`."
   ]
  },
  {
   "cell_type": "code",
   "execution_count": null,
   "id": "6df6d17e",
   "metadata": {
    "slideshow": {
     "slide_type": "-"
    }
   },
   "outputs": [],
   "source": [
    "Pop = Aop + ProjectionParameterFunctional('p') * Bop\n",
    "Pop"
   ]
  },
  {
   "cell_type": "markdown",
   "id": "07f7666f",
   "metadata": {
    "slideshow": {
     "slide_type": "subslide"
    }
   },
   "source": [
    "It is possible to check if an `Operator` (or any object inheriting from `ParametricObject`) is parametric via its `parametric` attribute."
   ]
  },
  {
   "cell_type": "code",
   "execution_count": null,
   "id": "7e75786d",
   "metadata": {
    "slideshow": {
     "slide_type": "-"
    }
   },
   "outputs": [],
   "source": [
    "Pop.parametric"
   ]
  },
  {
   "cell_type": "markdown",
   "id": "08c29ab8",
   "metadata": {
    "slideshow": {
     "slide_type": "fragment"
    }
   },
   "source": [
    "The `Parameters` of the `Operator` are automatically deduced."
   ]
  },
  {
   "cell_type": "code",
   "execution_count": null,
   "id": "2a99fd3b",
   "metadata": {
    "slideshow": {
     "slide_type": "-"
    }
   },
   "outputs": [],
   "source": [
    "Pop.parameters"
   ]
  },
  {
   "cell_type": "markdown",
   "id": "41141039",
   "metadata": {
    "slideshow": {
     "slide_type": "subslide"
    }
   },
   "source": [
    "We can `apply` the `Operator` on a `VectorArray` for different parameter values."
   ]
  },
  {
   "cell_type": "code",
   "execution_count": null,
   "id": "fc4fdac8",
   "metadata": {
    "slideshow": {
     "slide_type": "-"
    }
   },
   "outputs": [],
   "source": [
    "V = Pop.source.ones(1)\n",
    "Pop.apply(V, mu=Pop.parameters.parse(0))"
   ]
  },
  {
   "cell_type": "code",
   "execution_count": null,
   "id": "f7b4459b",
   "metadata": {
    "slideshow": {
     "slide_type": "-"
    }
   },
   "outputs": [],
   "source": [
    "Pop.apply(V, mu=Pop.parameters.parse(1))"
   ]
  },
  {
   "cell_type": "markdown",
   "id": "d4e4933f",
   "metadata": {
    "slideshow": {
     "slide_type": "fragment"
    }
   },
   "source": [
    "Note that it is necessary to pass a `Mu` object."
   ]
  },
  {
   "cell_type": "code",
   "execution_count": null,
   "id": "9ef83693",
   "metadata": {
    "slideshow": {
     "slide_type": "-"
    }
   },
   "outputs": [],
   "source": [
    "Pop.apply(V, mu=1)"
   ]
  },
  {
   "cell_type": "markdown",
   "id": "e33f19ab",
   "metadata": {
    "slideshow": {
     "slide_type": "subslide"
    }
   },
   "source": [
    "`VectorArrays` can not be parametric.\n",
    "A way to represent parameter-dependent vectors is via a parametric `Operator`,\n",
    "e.g., using `VectorArrayOperators`."
   ]
  },
  {
   "cell_type": "code",
   "execution_count": null,
   "id": "ed514d30",
   "metadata": {
    "slideshow": {
     "slide_type": "fragment"
    }
   },
   "outputs": [],
   "source": [
    "from pymor.operators.constructions import VectorArrayOperator\n",
    "\n",
    "space = NumpyVectorSpace(10)\n",
    "\n",
    "U = space.ones(1)\n",
    "print(U)\n",
    "V = space.ones(1)\n",
    "print(V)"
   ]
  },
  {
   "cell_type": "code",
   "execution_count": null,
   "id": "c92be568",
   "metadata": {
    "slideshow": {
     "slide_type": "fragment"
    }
   },
   "outputs": [],
   "source": [
    "Uop = VectorArrayOperator(U)\n",
    "print(Uop)\n",
    "Vop = VectorArrayOperator(V)\n",
    "print(Vop)"
   ]
  },
  {
   "cell_type": "code",
   "execution_count": null,
   "id": "c3719ba9",
   "metadata": {
    "slideshow": {
     "slide_type": "fragment"
    }
   },
   "outputs": [],
   "source": [
    "UVop = Uop + ProjectionParameterFunctional('p') * Vop\n",
    "print(UVop)"
   ]
  },
  {
   "cell_type": "code",
   "execution_count": null,
   "id": "83946e60",
   "metadata": {
    "slideshow": {
     "slide_type": "fragment"
    }
   },
   "outputs": [],
   "source": [
    "UVop.as_vector(mu=UVop.parameters.parse(5))"
   ]
  },
  {
   "cell_type": "markdown",
   "id": "56e5884e",
   "metadata": {
    "slideshow": {
     "slide_type": "slide"
    }
   },
   "source": [
    "## Parametric Models\n",
    "\n",
    "If a `Model` is based on any parametric `Operators`, the `Model` will be parametric as well."
   ]
  },
  {
   "cell_type": "code",
   "execution_count": null,
   "id": "fb4a9623",
   "metadata": {
    "slideshow": {
     "slide_type": "fragment"
    }
   },
   "outputs": [],
   "source": [
    "A = np.random.rand(10, 10)\n",
    "B = np.ones((10, 1))\n",
    "C = np.ones((1, 10))\n",
    "fom = LTIModel.from_matrices(A, B, C)\n",
    "\n",
    "fom"
   ]
  },
  {
   "cell_type": "code",
   "execution_count": null,
   "id": "85430f7e",
   "metadata": {
    "slideshow": {
     "slide_type": "fragment"
    }
   },
   "outputs": [],
   "source": [
    "fom.parameters"
   ]
  },
  {
   "cell_type": "code",
   "execution_count": null,
   "id": "35c12ec8",
   "metadata": {
    "slideshow": {
     "slide_type": "subslide"
    }
   },
   "outputs": [],
   "source": [
    "Pop = fom.A + ProjectionParameterFunctional('p') * fom.A\n",
    "fom = fom.with_(A=Pop)"
   ]
  },
  {
   "cell_type": "code",
   "execution_count": null,
   "id": "7e24f238",
   "metadata": {
    "slideshow": {
     "slide_type": "fragment"
    }
   },
   "outputs": [],
   "source": [
    "fom"
   ]
  },
  {
   "cell_type": "code",
   "execution_count": null,
   "id": "37b2d57e",
   "metadata": {
    "slideshow": {
     "slide_type": "fragment"
    }
   },
   "outputs": [],
   "source": [
    "fom.parameters"
   ]
  },
  {
   "cell_type": "markdown",
   "id": "6d92ab76",
   "metadata": {
    "slideshow": {
     "slide_type": "slide"
    }
   },
   "source": [
    "## Conclusion\n",
    "\n",
    "- Fundamental interfaces:\n",
    "  - `VectorArray`\n",
    "  - `Operator`\n",
    "  - `Model`\n",
    "- Extensively used features:\n",
    "  - defaults\n",
    "  - caching\n",
    "  - parameters\n",
    "  - rule tables"
   ]
  }
 ],
 "metadata": {
  "kernelspec": {
   "display_name": "Python 3 (ipykernel)",
   "language": "python",
   "name": "python3"
  }
 },
 "nbformat": 4,
 "nbformat_minor": 5
}
