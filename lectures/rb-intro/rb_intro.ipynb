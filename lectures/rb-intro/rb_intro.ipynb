{
 "cells": [
  {
   "cell_type": "code",
   "execution_count": null,
   "id": "f1301322-4209-4bbb-abd2-8d03ef74c348",
   "metadata": {
    "editable": true,
    "slideshow": {
     "slide_type": ""
    },
    "tags": []
   },
   "outputs": [],
   "source": [
    "# enable logging widget\n",
    "%load_ext pymor.discretizers.builtin.gui.jupyter"
   ]
  },
  {
   "cell_type": "code",
   "execution_count": null,
   "id": "2d1913bc-df77-446d-b27c-eb6045d89bc9",
   "metadata": {
    "editable": true,
    "slideshow": {
     "slide_type": ""
    },
    "tags": []
   },
   "outputs": [],
   "source": [
    "%%html\n",
    "<style>\n",
    ".rise-enabled .jp-RenderedHTMLCommon table {\n",
    "         font-size: 150%;\n",
    "}\n",
    "\n",
    ".rise-enabled .jp-RenderedHTMLCommon p {\n",
    "    font-size: 1.5rem;\n",
    "}\n",
    "\n",
    ".rise-enabled .jp-RenderedHTMLCommon li {\n",
    "    font-size: 1.5rem;\n",
    "}\n",
    "\n",
    "\n",
    ".rise-enabled .jp-RenderedHTMLCommon h2 {\n",
    "    font-size: 2.9rem;\n",
    "    font-weight: bold;\n",
    "}\n",
    "\n",
    ".rise-enabled .jp-RenderedHTMLCommon h3 {\n",
    "    font-size: 2.0rem;\n",
    "    font-weight: bold;\n",
    "}\n",
    "\n",
    ".rise-enabled .jupyter-widget-Collapse-header {\n",
    "    font-size: 1rem;\n",
    "}\n",
    "\n",
    ".rise-enabled .jupyter-widget-Collapse-header i{\n",
    "    font-size: 1rem;\n",
    "}\n",
    "\n",
    ".rise-enabled .cm-editor {\n",
    "    font-size: 1.25rem;\n",
    "}\n",
    "</style>"
   ]
  },
  {
   "cell_type": "markdown",
   "id": "a9eba35a",
   "metadata": {
    "editable": true,
    "slideshow": {
     "slide_type": "slide"
    },
    "tags": []
   },
   "source": [
    "# Reduced Basis Methods with pyMOR"
   ]
  },
  {
   "cell_type": "markdown",
   "id": "c66cfafe-ba51-42c3-82c6-a823220ae035",
   "metadata": {
    "editable": true,
    "slideshow": {
     "slide_type": ""
    },
    "tags": []
   },
   "source": [
    "## Our Goal\n",
    "\n",
    "We want to do model order reduction (MOR) for parametric problems.\n",
    "\n",
    "This means:\n",
    "\n",
    "- We are given a full-order model (FOM), usually a PDE model, which depends on some set of parameters $\\mu \\in \\mathbb{R}^Q$.\n",
    "- We can simulate/solve the FOM for any given $\\mu$. But this is costly.\n",
    "- We want to simulation the model for many different $\\mu$.\n",
    "\n",
    "Task:\n",
    "\n",
    "- Replace the FOM by a surrogate reduced-order model (ROM).\n",
    "- The ROM should be much faster to simulate/solve.\n",
    "- The error between the ROM and FOM solution should be small and controllable.\n",
    "\n",
    "Note: In this tutorial we will only cover the mere basics of reduced basis (RB) methods. The approach has be extended to other types of models (systems, non-linear, inf-sup stable, outputs, ...) and is largely independent of the specific choice of discretization method."
   ]
  },
  {
   "cell_type": "markdown",
   "id": "f082ce65",
   "metadata": {
    "editable": true,
    "slideshow": {
     "slide_type": "slide"
    },
    "tags": []
   },
   "source": [
    "## Building the FOM"
   ]
  },
  {
   "attachments": {},
   "cell_type": "markdown",
   "id": "b6534757-f435-499d-83cb-f67946fbbd18",
   "metadata": {
    "editable": true,
    "slideshow": {
     "slide_type": "subslide"
    },
    "tags": []
   },
   "source": [
    "### Thermal-block problem\n",
    "\n",
    "Find $u(x, \\mu)$ such that\n",
    "\n",
    "$$\n",
    "\\begin{align}\n",
    "-\\nabla \\cdot [d(x, \\mu) \\nabla u(x, \\mu)] &= f(x) & x &\\in \\Omega, \\mu \\in \\mathcal{P} \\\\\n",
    "u(x, \\mu) &= 0 & x &\\in \\partial \\Omega, \\mu \\in \\mathcal{P}\n",
    "\\end{align}\n",
    "$$\n",
    "\n",
    "where $\\Omega := [0,1]^2 = \\Omega_1 \\cup \\Omega_2 \\cup \\Omega_3 \\cup \\Omega_4$, $f \\in L^2(\\Omega)$,\n",
    "\n",
    "\n",
    "$$\n",
    "d(x, \\mu) \\equiv \\mu_i \\text{ const.} \\quad x \\in \\Omega_i\n",
    "$$\n",
    "\n",
    "and $\\mu \\in [\\mu_{\\min}, \\mu_{\\max}]^4$.\n",
    "\n",
    "\n",
    "```\n",
    "        (0,1)---------(1,1)\n",
    "        |        |        |\n",
    "        |  μ_2   |  μ_3   |\n",
    "        |        |        |\n",
    "        |------------------\n",
    "        |        |        |\n",
    "        |  μ_0   |  μ_1   |\n",
    "        |        |        |\n",
    "        (0,0)---------(1,0)\n",
    "```"
   ]
  },
  {
   "cell_type": "markdown",
   "id": "c09c38b4",
   "metadata": {
    "editable": true,
    "slideshow": {
     "slide_type": "subslide"
    },
    "tags": []
   },
   "source": [
    "### Setting up an analytical description of the thermal block problem\n",
    "\n",
    "The thermal block problem already comes with pyMOR:"
   ]
  },
  {
   "cell_type": "code",
   "execution_count": null,
   "id": "ad243544",
   "metadata": {
    "editable": true,
    "slideshow": {
     "slide_type": ""
    },
    "tags": []
   },
   "outputs": [],
   "source": [
    "from pymor.basic import *\n",
    "p = thermal_block_problem([2,2])"
   ]
  },
  {
   "cell_type": "markdown",
   "id": "6043cb50",
   "metadata": {
    "editable": true,
    "slideshow": {
     "slide_type": "fragment"
    },
    "tags": []
   },
   "source": [
    "Our problem is parameterized:"
   ]
  },
  {
   "cell_type": "code",
   "execution_count": null,
   "id": "428d2098",
   "metadata": {
    "editable": true,
    "slideshow": {
     "slide_type": ""
    },
    "tags": []
   },
   "outputs": [],
   "source": [
    "p.parameters"
   ]
  },
  {
   "cell_type": "markdown",
   "id": "76077dc0",
   "metadata": {
    "editable": true,
    "slideshow": {
     "slide_type": "subslide"
    },
    "tags": []
   },
   "source": [
    "### Looking at the definition\n",
    "\n",
    "We can easily look at the definition of `p` by printing its `repr`:"
   ]
  },
  {
   "cell_type": "code",
   "execution_count": null,
   "id": "b5c9a230",
   "metadata": {
    "editable": true,
    "slideshow": {
     "slide_type": ""
    },
    "tags": []
   },
   "outputs": [],
   "source": [
    "p"
   ]
  },
  {
   "cell_type": "markdown",
   "id": "1e762818-c0e3-42b9-b676-656ff8f902e3",
   "metadata": {
    "editable": true,
    "slideshow": {
     "slide_type": ""
    },
    "tags": []
   },
   "source": [
    "It is easy to [build custom problem definitions](https://docs.pymor.org/latest/tutorial_builtin_discretizer.html)."
   ]
  },
  {
   "cell_type": "markdown",
   "id": "7c49012b-833b-4216-ab5b-e7be8c2bbf92",
   "metadata": {
    "editable": true,
    "slideshow": {
     "slide_type": "subslide"
    },
    "tags": []
   },
   "source": [
    "### Weak formulation\n",
    "\n",
    "Find $u_\\mu \\in H^1_0(\\Omega)$ such that\n",
    "\n",
    "$$\n",
    "\\underbrace{\\int_\\Omega d(x, \\mu(x)) \\nabla u(x, \\mu) \\cdot \\nabla v(x) \\,dx}\n",
    "    _{=:a(u(\\cdot, mu), v)}\n",
    "= \\underbrace{\\int_\\Omega f(x)v(x) \\,dx}\n",
    "    _{=:\\ell(v)}\n",
    "    \\qquad \\forall v \\in H^1_0(\\Omega).\n",
    "$$"
   ]
  },
  {
   "cell_type": "markdown",
   "id": "9f3de239-8d06-4fa7-bb3d-63d63438be19",
   "metadata": {
    "editable": true,
    "slideshow": {
     "slide_type": "fragment"
    },
    "tags": []
   },
   "source": [
    "### Galerkin projection onto finite-element space\n",
    "\n",
    "Let $\\mathcal{T}_h$ an admissible triangulation of $\\Omega$ and $V_h:=\\mathcal{S}_{h,0}^1(\\mathcal{T}_h)$ the corresponding space of piece-wise linear finite-element functions over $\\mathcal{T}_h$ which vanish at $\\partial\\Omega$.\n",
    "The finite-element approximation $u_h(\\cdot, \\mu) \\in V_h$ is then given by\n",
    "\n",
    "\n",
    "$$\n",
    "    a_\\mu(u_h(\\mu), v) = \\ell(v_h)\n",
    "    \\qquad \\forall v_h \\in V_h.\n",
    "$$\n",
    "\n",
    "Céa's Lemma states that $u_h(\\mu)$ is a quasi-best approximation of $u(\\mu)$ in $V_h$:\n",
    "\n",
    "$$\n",
    "    \\|\\nabla u(\\mu) - \\nabla u_h(\\mu)\\|_{L^2(\\Omega)}\n",
    "    \\leq \\frac{\\mu_{max}}{\\mu_{min}} \\inf_{v_h \\in V_h} \\|\\nabla u(\\mu) - \\nabla v_h\\|_{L^2(\\Omega)}.\n",
    "$$"
   ]
  },
  {
   "cell_type": "markdown",
   "id": "49eda809-d349-4a9d-a3c7-995f2604b565",
   "metadata": {
    "editable": true,
    "slideshow": {
     "slide_type": "subslide"
    },
    "tags": []
   },
   "source": [
    "### Linear system assembly\n",
    "\n",
    "Let $\\varphi_{h,1}, \\ldots, \\varphi_{h,n}$ be the finite-element basis of $\\mathcal{S}_{h,0}^1(\\mathcal{T}_h)$.\n",
    "Let $A(\\mu) \\in \\mathbb{R}^{n\\times n}$, $\\underline{\\ell} \\in \\mathbb{R}^n$ be given by\n",
    "\n",
    "$$\n",
    "    A(\\mu)_{j,i} := a(\\varphi_{h,i}, \\varphi_{h,j},\\mu) \\qquad\n",
    "    \\underline \\ell_j := \\ell(\\varphi_{h,j}).\n",
    "$$\n",
    "\n",
    "Then with\n",
    "$$\n",
    "    u_h(\\mu) = \\sum_{i=1}^{n} \\underline{u}_h(\\mu)_i \\cdot \\varphi_{h,i},\n",
    "$$\n",
    "\n",
    "we get\n",
    "\n",
    "$$\n",
    "    A(\\mu) \\cdot \\underline{u}_h(\\mu) = \\underline{\\ell}.\n",
    "$$\n",
    "\n",
    "$A_\\mu$ is a sparse matrix."
   ]
  },
  {
   "cell_type": "markdown",
   "id": "93ecfbee-40cf-4dd8-9d86-e4f15b8580cf",
   "metadata": {
    "editable": true,
    "slideshow": {
     "slide_type": "subslide"
    },
    "tags": []
   },
   "source": [
    "### FOM assembly with pyMOR\n",
    "\n",
    "We use the builtin discretizer `discretize_stationary_cg` to compute a finite-element discretization of the problem:"
   ]
  },
  {
   "cell_type": "code",
   "execution_count": null,
   "id": "b9ed01b2",
   "metadata": {
    "editable": true,
    "slideshow": {
     "slide_type": ""
    },
    "tags": []
   },
   "outputs": [],
   "source": [
    "fom, data = discretize_stationary_cg(p, diameter=1/100)"
   ]
  },
  {
   "cell_type": "markdown",
   "id": "236a1d13",
   "metadata": {
    "editable": true,
    "slideshow": {
     "slide_type": "fragment"
    },
    "tags": []
   },
   "source": [
    "`fom` is a `Model`. It has the same `Parameters` as `p`:"
   ]
  },
  {
   "cell_type": "code",
   "execution_count": null,
   "id": "fb2e9d07",
   "metadata": {
    "editable": true,
    "slideshow": {
     "slide_type": ""
    },
    "tags": []
   },
   "outputs": [],
   "source": [
    "fom.parameters"
   ]
  },
  {
   "cell_type": "markdown",
   "id": "a69cf6a5-c02c-4b90-92d6-77c4ae25548a",
   "metadata": {
    "editable": true,
    "slideshow": {
     "slide_type": "subslide"
    },
    "tags": []
   },
   "source": [
    "### Solving the FOM\n",
    "\n",
    "To `solve` the FOM, we need to specify values for those parameters:"
   ]
  },
  {
   "cell_type": "code",
   "execution_count": null,
   "id": "7ead2f8b",
   "metadata": {
    "editable": true,
    "slideshow": {
     "slide_type": ""
    },
    "tags": []
   },
   "outputs": [],
   "source": [
    "U = fom.solve({'diffusion': [1., 0.01, 0.1, 1]})"
   ]
  },
  {
   "cell_type": "markdown",
   "id": "7fb84300",
   "metadata": {
    "editable": true,
    "slideshow": {
     "slide_type": "fragment"
    },
    "tags": []
   },
   "source": [
    "`U` is a `VectorArray`, an ordered collection of vectors of the same dimension:"
   ]
  },
  {
   "cell_type": "code",
   "execution_count": null,
   "id": "882573a6",
   "metadata": {
    "editable": true,
    "slideshow": {
     "slide_type": ""
    },
    "tags": []
   },
   "outputs": [],
   "source": [
    "U"
   ]
  },
  {
   "cell_type": "markdown",
   "id": "f211814c-d50c-4bbc-aa8a-69026e466a68",
   "metadata": {
    "editable": true,
    "slideshow": {
     "slide_type": ""
    },
    "tags": []
   },
   "source": [
    "`U` only contains a single vector:"
   ]
  },
  {
   "cell_type": "code",
   "execution_count": null,
   "id": "d4076ba1-7307-4609-8472-898209155dd4",
   "metadata": {
    "editable": true,
    "slideshow": {
     "slide_type": ""
    },
    "tags": []
   },
   "outputs": [],
   "source": [
    "len(U)"
   ]
  },
  {
   "cell_type": "markdown",
   "id": "831dcf39-fe73-4087-9fb2-0a4a317319d7",
   "metadata": {
    "editable": true,
    "slideshow": {
     "slide_type": ""
    },
    "tags": []
   },
   "source": [
    "For a time-dependent problem, `U` would have contained a time-series of vectors. `U` corresponds to the coefficient vector $\\underline{u}_h(\\mu)$."
   ]
  },
  {
   "cell_type": "markdown",
   "id": "9f05a2d6",
   "metadata": {
    "editable": true,
    "slideshow": {
     "slide_type": "subslide"
    },
    "tags": []
   },
   "source": [
    "### Looking at the solution\n",
    "\n",
    "We can use the `visualize` method to plot the solution:"
   ]
  },
  {
   "cell_type": "code",
   "execution_count": null,
   "id": "0fd226ad",
   "metadata": {
    "editable": true,
    "slideshow": {
     "slide_type": ""
    },
    "tags": []
   },
   "outputs": [],
   "source": [
    "fom.visualize(U)"
   ]
  },
  {
   "cell_type": "markdown",
   "id": "f207075b-82d3-45ed-9b5f-3022da701788",
   "metadata": {
    "editable": true,
    "slideshow": {
     "slide_type": "subslide"
    },
    "tags": []
   },
   "source": [
    "### Your turn\n",
    "\n",
    "- Define a 2x3 thermal-block problem.\n",
    "- Build the FOM using pyMOR's builtin discretization toolkit over a mesh with element diameter 1/20.\n",
    "- Solve the FOM for some parameter and visualize the solution."
   ]
  },
  {
   "cell_type": "code",
   "execution_count": null,
   "id": "156a39bd-8e45-4e3a-91dc-0cd100841480",
   "metadata": {
    "editable": true,
    "slideshow": {
     "slide_type": ""
    },
    "tags": []
   },
   "outputs": [],
   "source": [
    "p23 = ...\n",
    "fom23 = ...\n",
    "U23 = ..."
   ]
  },
  {
   "cell_type": "markdown",
   "id": "0c58cdf1-1be6-4732-ad31-7ab437f7a17a",
   "metadata": {
    "editable": true,
    "slideshow": {
     "slide_type": "subslide"
    },
    "tags": []
   },
   "source": [
    "### Parameter separability\n",
    "\n",
    "Remember the special form of $a(\\cdot, \\cdot, \\mu)$:\n",
    "\n",
    "$$\n",
    "\\begin{align}\n",
    "    a(u, v, \\mu) &:= \\int_\\Omega d(x, \\mu) \\nabla u(x) \\cdot \\nabla v(x) \\,dx \\\\\n",
    "    &:=\\int_\\Omega \\Bigl(\\sum_{q=1}^Q \\mu_q \\mathbb{1}_q(x)\\Bigr) \\nabla u(x) \\cdot \\nabla v(x) \\,dx \\\\\n",
    "    &:=\\sum_{q=1}^Q  \\ \\underbrace{\\mu_q}_{:=\\theta_q(\\mu)} \\ \\ \n",
    "        \\underbrace{\\int_\\Omega \\mathbb{1}_q(x) \\nabla u(x) \\cdot \\nabla v(x) \\,dx}_{=:a_q(u,v)}.\n",
    "\\end{align}\n",
    "$$\n",
    "\n",
    "Hence, $a(\\cdot, \\cdot, \\mu)$ admits the affine decomposition\n",
    "\n",
    "$$\n",
    "    a(u, v, \\mu) = \\sum_{q=1}^Q \\theta_q(\\mu) \\cdot a_q(u,v).\n",
    "$$\n",
    "\n",
    "Consequently, for $A(\\mu)$ we have the same structure:\n",
    "\n",
    "$$\n",
    "    A(\\mu) = \\sum_{q=1}^Q \\theta_q(\\mu) \\cdot A_q,\n",
    "$$\n",
    "\n",
    "where $(A_q)_{j,i} := a_q(\\varphi_{h,i}, \\varphi_{h,j})$."
   ]
  },
  {
   "cell_type": "markdown",
   "id": "4d3f152c",
   "metadata": {
    "editable": true,
    "slideshow": {
     "slide_type": "subslide"
    },
    "tags": []
   },
   "source": [
    "### Parameter-separable FOM\n",
    "\n",
    "Remember that our problem definition encoded the affine decomposition of $d(x, \\mu)$ using a `LincombFunction`:"
   ]
  },
  {
   "cell_type": "code",
   "execution_count": null,
   "id": "3d455c6c-b6ec-4298-9846-197bef19a855",
   "metadata": {
    "editable": true,
    "slideshow": {
     "slide_type": ""
    },
    "tags": []
   },
   "outputs": [],
   "source": [
    "p.diffusion"
   ]
  },
  {
   "cell_type": "markdown",
   "id": "74f4f1f7-69dc-43b2-80fe-6a102ccf2b0d",
   "metadata": {
    "editable": true,
    "slideshow": {
     "slide_type": "subslide"
    },
    "tags": []
   },
   "source": [
    "pyMOR's builtin `discretizer` automatically preserves this structure when assembling the system matrices. Let's look at the `fom` in more detail. The system matrix $A_\\mu$ is stored in the `Model`'s `operator` attribute:"
   ]
  },
  {
   "cell_type": "code",
   "execution_count": null,
   "id": "5260ea92-fa39-4b93-a25b-25b78584ff53",
   "metadata": {
    "editable": true,
    "slideshow": {
     "slide_type": ""
    },
    "tags": []
   },
   "outputs": [],
   "source": [
    "fom.operator"
   ]
  },
  {
   "cell_type": "markdown",
   "id": "834cfc2a-d1ca-4c31-801d-129747984676",
   "metadata": {
    "editable": true,
    "slideshow": {
     "slide_type": ""
    },
    "tags": []
   },
   "source": [
    "We see that the `LincombFunction` has become a `LincombOperator` of `NumpyMatrixOperators`.\n",
    "pyMOR always interprets matrices as linear `Operators`."
   ]
  },
  {
   "cell_type": "markdown",
   "id": "d88f6138-d4eb-4720-b6b1-be7cc019ddb0",
   "metadata": {
    "editable": true,
    "slideshow": {
     "slide_type": "subslide"
    },
    "tags": []
   },
   "source": [
    "The right-hand side vector $\\underline{\\ell}$ is stored in the `rhs` attribute:"
   ]
  },
  {
   "cell_type": "code",
   "execution_count": null,
   "id": "a95a208f-cc97-48d2-a149-cd8df2a6a1b4",
   "metadata": {
    "editable": true,
    "slideshow": {
     "slide_type": ""
    },
    "tags": []
   },
   "outputs": [],
   "source": [
    "fom.rhs"
   ]
  },
  {
   "cell_type": "markdown",
   "id": "a3f0b00e-f4a1-4eaa-a442-09a7ebd3e032",
   "metadata": {
    "editable": true,
    "slideshow": {
     "slide_type": ""
    },
    "tags": []
   },
   "source": [
    "`fom.rhs` is not a `VectorArray` but a vector-like operator in order to support parameter-dependent right-hand sides. Only `Operators` can depend on a parameter in `pyMOR`, not `VectorArrays`."
   ]
  },
  {
   "cell_type": "markdown",
   "id": "0a9cc641",
   "metadata": {
    "editable": true,
    "slideshow": {
     "slide_type": "subslide"
    },
    "tags": []
   },
   "source": [
    "### Other ways of obtaining the FOM\n",
    "\n",
    "> Using an `analyticalproblem` and a `discretizer` is just one way\n",
    "  to build the FOM.\n",
    ">  \n",
    "> Everything that follows works the same for a FOM that is built using an external PDE solver."
   ]
  },
  {
   "cell_type": "markdown",
   "id": "a5ea4b3b-27c9-4037-ae36-34f85f692735",
   "metadata": {
    "editable": true,
    "slideshow": {
     "slide_type": "slide"
    },
    "tags": []
   },
   "source": [
    "## VectorArrays and Operators"
   ]
  },
  {
   "cell_type": "markdown",
   "id": "91e51598",
   "metadata": {
    "editable": true,
    "slideshow": {
     "slide_type": "subslide"
    },
    "tags": []
   },
   "source": [
    "### Some words about VectorArrays\n",
    "\n",
    "Each `VectorArray` has a length, i.e, the number of vectors in the array:"
   ]
  },
  {
   "cell_type": "code",
   "execution_count": null,
   "id": "11f24f5e",
   "metadata": {
    "editable": true,
    "slideshow": {
     "slide_type": ""
    },
    "tags": []
   },
   "outputs": [],
   "source": [
    "len(U)"
   ]
  },
  {
   "cell_type": "markdown",
   "id": "31a95d3f",
   "metadata": {
    "editable": true,
    "slideshow": {
     "slide_type": "fragment"
    },
    "tags": []
   },
   "source": [
    "> There is not the notion of a single vector in pyMOR! Don't try to get hold of one!"
   ]
  },
  {
   "cell_type": "markdown",
   "id": "658422af",
   "metadata": {
    "editable": true,
    "slideshow": {
     "slide_type": "fragment"
    },
    "tags": []
   },
   "source": [
    "Its dimension is the *uniform* size of each vector in the array:"
   ]
  },
  {
   "cell_type": "code",
   "execution_count": null,
   "id": "a15a1c70",
   "metadata": {
    "editable": true,
    "slideshow": {
     "slide_type": ""
    },
    "tags": []
   },
   "outputs": [],
   "source": [
    "U.dim"
   ]
  },
  {
   "cell_type": "markdown",
   "id": "30b592ee-c8f2-43eb-a0af-fdf96a19680f",
   "metadata": {
    "editable": true,
    "slideshow": {
     "slide_type": "subslide"
    },
    "tags": []
   },
   "source": [
    "When using pyMOR's builtin discretizations, we use `NumpyVectorArrays`:"
   ]
  },
  {
   "cell_type": "code",
   "execution_count": null,
   "id": "e7400d73-49a7-4a6e-82bd-345113b12808",
   "metadata": {
    "editable": true,
    "slideshow": {
     "slide_type": ""
    },
    "tags": []
   },
   "outputs": [],
   "source": [
    "type(U)"
   ]
  },
  {
   "cell_type": "markdown",
   "id": "a47a5a7f-b0a0-4cd1-ae2d-49c6ccb2135b",
   "metadata": {
    "editable": true,
    "slideshow": {
     "slide_type": ""
    },
    "tags": []
   },
   "source": [
    "These arrays internally store their vectors using a 2d `NumPy` array:"
   ]
  },
  {
   "cell_type": "code",
   "execution_count": null,
   "id": "abc6a88f-f569-4b01-a194-9ab1f8596903",
   "metadata": {
    "editable": true,
    "slideshow": {
     "slide_type": ""
    },
    "tags": []
   },
   "outputs": [],
   "source": [
    "U.impl._array"
   ]
  },
  {
   "cell_type": "markdown",
   "id": "28b2fb3e-1c89-4ba8-8525-a4ca8a1d133a",
   "metadata": {
    "editable": true,
    "slideshow": {
     "slide_type": ""
    },
    "tags": []
   },
   "source": [
    "When using an external PDE solver for the FOM, we usually use `ListVectorArrays`, which manage a Python list of vector objects that directly correspond to vector data in the PDE solvers memory."
   ]
  },
  {
   "cell_type": "markdown",
   "id": "520299ae",
   "metadata": {
    "editable": true,
    "slideshow": {
     "slide_type": "subslide"
    },
    "tags": []
   },
   "source": [
    "### Supported Operations\n",
    "\n",
    "|                  |                                                         |\n",
    "| :-               | :-                                                      |\n",
    "| `append`         | append vectors from another array                       |\n",
    "| `+`/`-`/`*`      | element-wise addition/subtraction/scalar multiplication |\n",
    "| `inner`          | matrix of inner products between all vectors            |\n",
    "| `pairwise_inner` | list of pairwise inner products                         |\n",
    "| `norm`           | list of norms                                           |\n",
    "| `lincomb`        | linear combination of the vectors in the array          |\n",
    "| `scal`           | in-place scalar multiplication                          |\n",
    "| `axpy`           | in-place BLAS axpy operation                            |\n",
    "| `dofs`           | return a few degrees of freedom as NumPy array          |"
   ]
  },
  {
   "cell_type": "markdown",
   "id": "20c382dd",
   "metadata": {
    "editable": true,
    "slideshow": {
     "slide_type": "subslide"
    },
    "tags": []
   },
   "source": [
    "### Playing a bit with VectorArrays\n",
    "\n",
    "It is important to note that `VectorArrays` are never instantiated directly. All `VectorArrays` are created by their `VectorSpace`:"
   ]
  },
  {
   "cell_type": "code",
   "execution_count": null,
   "id": "98a89fc6",
   "metadata": {
    "editable": true,
    "slideshow": {
     "slide_type": ""
    },
    "tags": []
   },
   "outputs": [],
   "source": [
    "V = fom.solution_space.empty()"
   ]
  },
  {
   "cell_type": "markdown",
   "id": "c1ed0f99",
   "metadata": {
    "editable": true,
    "slideshow": {
     "slide_type": ""
    },
    "tags": []
   },
   "source": [
    "Let's accumulate some solutions:"
   ]
  },
  {
   "cell_type": "code",
   "execution_count": null,
   "id": "1c30703c",
   "metadata": {
    "editable": true,
    "slideshow": {
     "slide_type": ""
    },
    "tags": []
   },
   "outputs": [],
   "source": [
    "for mu in p.parameter_space.sample_randomly(10):\n",
    "    V.append(fom.solve(mu))"
   ]
  },
  {
   "cell_type": "markdown",
   "id": "8157c092-3935-4b0c-90e5-f84ce96ff70b",
   "metadata": {
    "editable": true,
    "slideshow": {
     "slide_type": ""
    },
    "tags": []
   },
   "source": [
    "Indeed, `V` now contains 10 vectors:"
   ]
  },
  {
   "cell_type": "code",
   "execution_count": null,
   "id": "fbb91d6a-c51d-4fa7-8048-276ca4b390b8",
   "metadata": {
    "editable": true,
    "slideshow": {
     "slide_type": ""
    },
    "tags": []
   },
   "outputs": [],
   "source": [
    "len(V)"
   ]
  },
  {
   "cell_type": "markdown",
   "id": "d47975da-eead-4353-9704-d0ddd62566bd",
   "metadata": {
    "editable": true,
    "slideshow": {
     "slide_type": "subslide"
    },
    "tags": []
   },
   "source": [
    "We can visualize all the solutions as a time series:"
   ]
  },
  {
   "cell_type": "code",
   "execution_count": null,
   "id": "d86ecabd-b05d-4626-baab-47d70aa17f1f",
   "metadata": {
    "editable": true,
    "slideshow": {
     "slide_type": ""
    },
    "tags": []
   },
   "outputs": [],
   "source": [
    "fom.visualize(V)"
   ]
  },
  {
   "cell_type": "markdown",
   "id": "388a3d45-527b-49e4-93bd-5531859edc1a",
   "metadata": {
    "editable": true,
    "slideshow": {
     "slide_type": "subslide"
    },
    "tags": []
   },
   "source": [
    "### Your turn\n",
    "\n",
    "- Compute the (Euclidean) norms of the vectors in `V` using the `norm` method.\n",
    "- Compute all pairwise inner products between the vectors in `V` using the `inner` method.\n",
    "- Compute the sum of all vectors in `V` using the `lincomb` method."
   ]
  },
  {
   "cell_type": "code",
   "execution_count": null,
   "id": "7df861e5",
   "metadata": {
    "editable": true,
    "slideshow": {
     "slide_type": ""
    },
    "tags": []
   },
   "outputs": [],
   "source": [
    "# your code here"
   ]
  },
  {
   "cell_type": "markdown",
   "id": "919a7650",
   "metadata": {
    "editable": true,
    "slideshow": {
     "slide_type": "subslide"
    },
    "tags": []
   },
   "source": [
    "### Indexing\n",
    "We can index a `VectorArray` using numbers, sequences of numbers, or slices, e.g.:"
   ]
  },
  {
   "cell_type": "code",
   "execution_count": null,
   "id": "5b0f079b",
   "metadata": {
    "editable": true,
    "slideshow": {
     "slide_type": ""
    },
    "tags": []
   },
   "outputs": [],
   "source": [
    "V_indexed = V[3:6]"
   ]
  },
  {
   "cell_type": "markdown",
   "id": "7d6b91e9",
   "metadata": {
    "editable": true,
    "slideshow": {
     "slide_type": ""
    },
    "tags": []
   },
   "source": [
    "Indexing **always** creates a **view** into the original array:"
   ]
  },
  {
   "cell_type": "code",
   "execution_count": null,
   "id": "e21251cf",
   "metadata": {
    "editable": true,
    "slideshow": {
     "slide_type": ""
    },
    "tags": []
   },
   "outputs": [],
   "source": [
    "print(V_indexed.is_view)\n",
    "V_indexed *= 0\n",
    "V.norm()"
   ]
  },
  {
   "cell_type": "markdown",
   "id": "026f4dc1-6454-45e5-96a6-dd7035cbc5c1",
   "metadata": {
    "editable": true,
    "slideshow": {
     "slide_type": "subslide"
    },
    "tags": []
   },
   "source": [
    "### Operators can be applied to VectorArrays\n",
    "\n",
    "To apply a pyMOR `Operator` to a given input `VectorArray`, we use the `Operator`'s apply method:"
   ]
  },
  {
   "cell_type": "code",
   "execution_count": null,
   "id": "df6a6416-27e0-46ee-a223-67e5b4dec67b",
   "metadata": {
    "editable": true,
    "slideshow": {
     "slide_type": ""
    },
    "tags": []
   },
   "outputs": [],
   "source": [
    "fom.operator.apply(V, mu=[1,2,3,4])"
   ]
  },
  {
   "cell_type": "markdown",
   "id": "72bac732-de57-4c1f-ace9-c77977d7384e",
   "metadata": {
    "editable": true,
    "slideshow": {
     "slide_type": "subslide"
    },
    "tags": []
   },
   "source": [
    "We did something wrong here. pyMOR complains that `mu`, the values for the parameters, is not a `Mu` instance. Except for high-level interface methods like `solve`, parameter values always need to be passed as `Mu` objects. We follow pyMOR's advice:"
   ]
  },
  {
   "cell_type": "code",
   "execution_count": null,
   "id": "c3c354e2-6c37-4fb1-839d-809b06080008",
   "metadata": {
    "editable": true,
    "slideshow": {
     "slide_type": ""
    },
    "tags": []
   },
   "outputs": [],
   "source": [
    "W = fom.operator.apply(V, mu=fom.parameters.parse([1,2,3,4]))"
   ]
  },
  {
   "cell_type": "markdown",
   "id": "6c96fd4d-2a6b-4104-ad32-02902b3d4926",
   "metadata": {
    "editable": true,
    "slideshow": {
     "slide_type": "fragment"
    },
    "tags": []
   },
   "source": [
    "`apply` loops over all vectors in `V` and applies the operator individually to each vector. For a matrix operator, this corresponds to a matrix-vector product. The result is a new `VectorArray` of the same length from the `range` `VectorSpace` of the `Operator`:"
   ]
  },
  {
   "cell_type": "code",
   "execution_count": null,
   "id": "d9254ba1-df98-47a6-b96e-0b633b0e82cf",
   "metadata": {
    "editable": true,
    "slideshow": {
     "slide_type": ""
    },
    "tags": []
   },
   "outputs": [],
   "source": [
    "print(len(V))\n",
    "print(V in fom.operator.range)"
   ]
  },
  {
   "cell_type": "markdown",
   "id": "23622b8d",
   "metadata": {
    "editable": true,
    "slideshow": {
     "slide_type": "subslide"
    },
    "tags": []
   },
   "source": [
    "### Is the solution really a solution?\n",
    "\n",
    "We compute the residual:"
   ]
  },
  {
   "cell_type": "code",
   "execution_count": null,
   "id": "f5e96deb",
   "metadata": {
    "editable": true,
    "slideshow": {
     "slide_type": ""
    },
    "tags": []
   },
   "outputs": [],
   "source": [
    "mu = fom.parameters.parse([1., 0.01, 0.1, 1])\n",
    "U = fom.solve(mu)\n",
    "(fom.operator.apply(U, mu=mu) - fom.rhs.as_vector(mu)).norm()"
   ]
  },
  {
   "cell_type": "markdown",
   "id": "48ea79e6",
   "metadata": {
    "editable": true,
    "slideshow": {
     "slide_type": ""
    },
    "tags": []
   },
   "source": [
    "We used `as_vector` here, to convert the right-hand side operator of the `Model` to a corresponding `VectorArray`.\n",
    "\n",
    "> If you implement a new `Model`, make sure that `solve` really returns solutions with zero residual!"
   ]
  },
  {
   "cell_type": "markdown",
   "id": "ad96f3b3",
   "metadata": {
    "editable": true,
    "slideshow": {
     "slide_type": "slide"
    },
    "tags": []
   },
   "source": [
    "## Reduced basis methods"
   ]
  },
  {
   "cell_type": "markdown",
   "id": "e897a77d-6e64-4c32-b721-44eb185e9c3d",
   "metadata": {
    "editable": true,
    "slideshow": {
     "slide_type": "subslide"
    },
    "tags": []
   },
   "source": [
    "### Projection-based MOR\n",
    "\n",
    "Going back to the definition of the FOM\n",
    "\n",
    "$$\n",
    "    a(u_h(\\mu), v, \\mu) = \\ell(v_h)\n",
    "    \\qquad \\forall v_h \\in V_h,\n",
    "$$\n",
    "\n",
    "our MOR approach is based on the idea of replacing the generic finite-element space $V_h$ by a problem-adapted reduced space $V_N$ of low dimension. I.e., we simply define our ROM by a Galerkin projection of the solution onto the reduced space $V_N$. So the reduced approximation $u_N(\\mu) \\in V_N$ of $u_h(\\mu)$ is given by\n",
    "\n",
    "$$\n",
    "    a(u_N(\\mu), v_N, \\mu) = \\ell(v_N)\n",
    "    \\qquad \\forall v_N \\in V_N\n",
    "$$\n",
    "\n",
    "Again, we can apply Céa's Lemma:\n",
    "\n",
    "$$\n",
    "    \\|\\nabla u_h(\\mu) - \\nabla u_N(\\mu)\\|_{L^2(\\Omega)}\n",
    "    \\leq \\frac{\\mu_{max}}{\\mu_{min}} \\inf_{v_N \\in V_N} \\|\\nabla u_h(\\mu) - \\nabla v_N\\|_{L^2(\\Omega)}\n",
    "$$"
   ]
  },
  {
   "cell_type": "markdown",
   "id": "fa1e2c6f",
   "metadata": {
    "editable": true,
    "slideshow": {
     "slide_type": "subslide"
    },
    "tags": []
   },
   "source": [
    "### Does a good $V_N$ exist?\n",
    "\n",
    "Thanks to Céa's lemma, our only job is to come up with a good low-dimensional approximation space $V_N$. In RB methods, our definition of 'good' is that we want to miminize the worst-case best-approximation error over all parameters $\\mu \\in \\mathcal{P}$. I.e.,\n",
    "\n",
    "$$\n",
    "    \\sup_{\\mu \\in \\mathcal{P}} \\inf_{v_N \\in V_N} \\|\\nabla u_h(\\mu) - \\nabla v_N\\|_{L^2(\\Omega)}\n",
    "$$\n",
    "\n",
    "should not be much larger than the Kolmogorov $N$-width\n",
    "\n",
    "$$\n",
    "    d_N:=\\inf_{\\substack{V'_N \\subset V_h\\\\ \\dim V'_N \\leq N}}\\sup_{\\mu \\in \\mathcal{P}} \\inf_{v'_N \\in V'_N} \\|\\nabla u_h(\\mu) - \\nabla v_N\\|_{L^2(\\Omega)}.\n",
    "$$\n",
    "\n",
    "We won't go into details here, but it can be shown that for parameter-separable coercive problems like the thermal-block problem, the Kolmogorov $N$-widths do decay at a subexponential rate, so good reduced spaces $V_N$ do exist."
   ]
  },
  {
   "cell_type": "markdown",
   "id": "cbf996a5-4c87-4302-99c1-8daf090aaa2a",
   "metadata": {
    "editable": true,
    "slideshow": {
     "slide_type": "subslide"
    },
    "tags": []
   },
   "source": [
    "### Snapshot-based MOR\n",
    "\n",
    "The question remains how to find a good $V_N$ algorithmically. RB methods are snapshot based, which means that $V_N$ is constructed from 'solution snapshots' $u_{h,\\mu_i}$ of the FOM, i.e.\n",
    "\n",
    "$$\n",
    "    V_N := \\operatorname{span} \\{u_h(\\mu_1), \\ldots, u_h(\\mu_N)\\}.\n",
    "$$\n",
    "\n",
    "We will start by just randomly picking some snapshot parameters $\\mu_i$:"
   ]
  },
  {
   "cell_type": "code",
   "execution_count": null,
   "id": "48b4a1b5",
   "metadata": {
    "editable": true,
    "slideshow": {
     "slide_type": ""
    },
    "tags": []
   },
   "outputs": [],
   "source": [
    "snapshot_parameters = p.parameter_space.sample_randomly(10)\n",
    "snapshots = fom.solution_space.empty()\n",
    "for mu in snapshot_parameters:\n",
    "    snapshots.append(fom.solve(mu))"
   ]
  },
  {
   "cell_type": "markdown",
   "id": "fe4ffc24",
   "metadata": {
    "editable": true,
    "slideshow": {
     "slide_type": "fragment"
    },
    "tags": []
   },
   "source": [
    "For numerical stability, it's a good idea to orthonormalize the basis:"
   ]
  },
  {
   "cell_type": "code",
   "execution_count": null,
   "id": "83061135",
   "metadata": {
    "editable": true,
    "slideshow": {
     "slide_type": ""
    },
    "tags": []
   },
   "outputs": [],
   "source": [
    "basis = gram_schmidt(snapshots)"
   ]
  },
  {
   "cell_type": "markdown",
   "id": "ff7c3ca9-726e-4ced-bdc4-d0823c4f923a",
   "metadata": {
    "editable": true,
    "slideshow": {
     "slide_type": "subslide"
    },
    "tags": []
   },
   "source": [
    "### Is our basis any good?\n",
    "\n",
    "Let's see if we actually constructed a good approximation space by computing the best-approximation error in this space for some further random solution snapshot. We can do so via orthogonal projection:"
   ]
  },
  {
   "cell_type": "code",
   "execution_count": null,
   "id": "0aaf9ba5-124f-4846-a8dc-716d7dab7218",
   "metadata": {
    "editable": true,
    "slideshow": {
     "slide_type": ""
    },
    "tags": []
   },
   "outputs": [],
   "source": [
    "U_test = fom.solve(p.parameter_space.sample_randomly())\n",
    "coeffs = U_test.inner(basis)\n",
    "U_test_proj = basis.lincomb(coeffs)\n",
    "fom.visualize((U_test, U_test_proj, U_test-U_test_proj),\n",
    "              legend=('U', 'projection', 'error'),\n",
    "              separate_colorbars=True)"
   ]
  },
  {
   "cell_type": "markdown",
   "id": "ab49ecac-6816-4740-91af-78b585120758",
   "metadata": {
    "editable": true,
    "slideshow": {
     "slide_type": "subslide"
    },
    "tags": []
   },
   "source": [
    "Let's also compute the norm of the error:"
   ]
  },
  {
   "cell_type": "code",
   "execution_count": null,
   "id": "bf7ebdbb-42fa-4085-bbeb-c606e9adc357",
   "metadata": {
    "editable": true,
    "slideshow": {
     "slide_type": ""
    },
    "tags": []
   },
   "outputs": [],
   "source": [
    "(U_test - U_test_proj).norm().item() / U_test.norm().item()"
   ]
  },
  {
   "cell_type": "markdown",
   "id": "5773190d-1108-4caa-82ed-085fd8b6f03d",
   "metadata": {
    "editable": true,
    "slideshow": {
     "slide_type": "subslide"
    },
    "tags": []
   },
   "source": [
    "### Your turn\n",
    "\n",
    "- Generate a plot 'projection error' vs. 'basis size'.\n",
    "- Use `VectorArray` slicing to project onto the first $k$ vectors in `basis`. (There are other ways.)\n",
    "- Use `matplotlib.pyplot.semilogy`."
   ]
  },
  {
   "cell_type": "code",
   "execution_count": null,
   "id": "b160c066-d2eb-4ca8-ace1-b4ec1e2068ae",
   "metadata": {
    "editable": true,
    "slideshow": {
     "slide_type": ""
    },
    "tags": []
   },
   "outputs": [],
   "source": [
    "# your code here ..."
   ]
  },
  {
   "cell_type": "markdown",
   "id": "98e88e9d-f801-4d63-af7a-4873f5dd83b6",
   "metadata": {
    "editable": true,
    "slideshow": {
     "slide_type": "subslide"
    },
    "tags": []
   },
   "source": [
    "### Assembling the reduced system matrix\n",
    "\n",
    "In order to compute a reduced solution, we need to choose a reduced basis $\\psi_{1}, \\ldots \\psi_{N}$ of $V_N$ and assemble the reduced system matrix $A_{N,\\mu} \\in \\mathbb{R}^{N\\times N}$ and right-hand side vector $\\underline{\\ell}_N \\in \\mathbb{R}^N$ given by\n",
    "\n",
    "$$\n",
    "    A_N(\\mu)_{j,i} := a(\\psi_i, \\psi_j, \\mu) \\qquad\n",
    "    \\underline{\\ell}_{N,j} := \\ell(\\psi_j).\n",
    "$$\n",
    "\n",
    "Expanding each basis vector $\\psi_i$ w.r.t. the finite-element basis $\\varphi_{h,i}$,\n",
    "\n",
    "$$\n",
    "    \\psi_i = \\sum_{k=1}^N \\underline{\\psi}_{i,k} \\varphi_{h,k},\n",
    "$$\n",
    "\n",
    "we get\n",
    "\n",
    "$$\n",
    "    A_N(\\mu)_{i,j} = \\underline{\\psi}_i^{\\operatorname{T}} \\cdot A(\\mu) \\cdot \\underline{\\psi}_j\n",
    "$$"
   ]
  },
  {
   "cell_type": "markdown",
   "id": "98152930-dd5b-40f4-a7fe-2efcc27df24d",
   "metadata": {
    "editable": true,
    "slideshow": {
     "slide_type": "fragment"
    },
    "tags": []
   },
   "source": [
    "Thus, we could compute $A_N(\\mu)$ in pyMOR using `W = fom.operator.apply(basis, mu=mu)` (multiplication from the right) and then using `basis.inner(W)` to multiply the basis from the left. We can use the `apply2` method as a (potentially more efficient) shorthand:"
   ]
  },
  {
   "cell_type": "code",
   "execution_count": null,
   "id": "0bdd9ad8-c6fb-40aa-9f9d-748007a7ee23",
   "metadata": {
    "editable": true,
    "slideshow": {
     "slide_type": ""
    },
    "tags": []
   },
   "outputs": [],
   "source": [
    "mu = p.parameter_space.sample_randomly()\n",
    "A_N = fom.operator.apply2(basis, basis, mu=mu)\n",
    "A_N.shape"
   ]
  },
  {
   "cell_type": "markdown",
   "id": "76839c08-f033-4696-a987-2e2ec71e5a1d",
   "metadata": {
    "editable": true,
    "slideshow": {
     "slide_type": ""
    },
    "tags": []
   },
   "source": [
    "Note that, contrary to the finite-element system matrix $A(\\mu)$, $A_N(\\mu)$ is a dense matrix."
   ]
  },
  {
   "cell_type": "markdown",
   "id": "030782c7-be8f-47fa-8f72-570e1d846fae",
   "metadata": {
    "editable": true,
    "slideshow": {
     "slide_type": "subslide"
    },
    "tags": []
   },
   "source": [
    "### Assembling the reduced right-hand side\n",
    "\n",
    "For the right-hand side we have\n",
    "\n",
    "$$\n",
    "    \\underline{\\ell}_{N,j} = \\underline{\\psi}_j^{\\operatorname{T}} \\cdot \\underline{\\ell},\n",
    "$$\n",
    "\n",
    "which we compute using `inner`:"
   ]
  },
  {
   "cell_type": "code",
   "execution_count": null,
   "id": "3ffae795-d283-4440-a112-13451651e5ba",
   "metadata": {
    "editable": true,
    "slideshow": {
     "slide_type": ""
    },
    "tags": []
   },
   "outputs": [],
   "source": [
    "l_N = basis.inner(fom.rhs.as_vector())\n",
    "l_N.shape"
   ]
  },
  {
   "cell_type": "markdown",
   "id": "3243f2ce-34fb-49dd-b31c-793e0f19db79",
   "metadata": {
    "editable": true,
    "slideshow": {
     "slide_type": "subslide"
    },
    "tags": []
   },
   "source": [
    "### Solving the reduced system\n",
    "\n",
    "Finally, writing\n",
    "\n",
    "$$\n",
    "    u_N(\\mu) = \\sum_{i=1}^N \\underline{u}_N(\\mu)_i \\cdot \\psi_i\n",
    "$$\n",
    "\n",
    "we have\n",
    "\n",
    "$$\n",
    "    A_N(\\mu) \\cdot \\underline{u}_N(\\mu) = \\underline{\\ell}_N\n",
    "$$"
   ]
  },
  {
   "cell_type": "markdown",
   "id": "733143a0-1dd0-4a0a-9320-06bb76114db5",
   "metadata": {
    "editable": true,
    "slideshow": {
     "slide_type": "subslide"
    },
    "tags": []
   },
   "source": [
    "So, let's solve the linear system, and compare the reduced solution to the FOM solution:"
   ]
  },
  {
   "cell_type": "code",
   "execution_count": null,
   "id": "83d399ed-aa6b-4e0e-9198-b658763dcee8",
   "metadata": {
    "editable": true,
    "slideshow": {
     "slide_type": ""
    },
    "tags": []
   },
   "outputs": [],
   "source": [
    "import numpy as np\n",
    "u_N = np.linalg.solve(A_N, l_N)\n",
    "U_N = basis.lincomb(u_N.ravel())\n",
    "U = fom.solve(mu)\n",
    "fom.visualize((U, U_N, U-U_N),\n",
    "              legend=('FOM', 'ROM', 'Error'),\n",
    "              separate_colorbars=True)"
   ]
  },
  {
   "cell_type": "markdown",
   "id": "1239c12f-135e-4145-8d58-57afa000ebd9",
   "metadata": {
    "editable": true,
    "slideshow": {
     "slide_type": "subslide"
    },
    "tags": []
   },
   "source": [
    "### Automatic structure-preserving operator projection\n",
    "\n",
    "For each new parameter $\\mu$ we want to solve the ROM for, we have to assemble a new $A_N(\\mu)$, which requires $\\mathcal{O}(N^2)$ high-dimensional operations. This can significantly diminish the efficiency of our ROM. However, we can avoid this issue by exploiting the parameter separability of $A(\\mu)$,\n",
    "\n",
    "$$\n",
    "    A(\\mu) = \\sum_{q=1}^Q \\theta_q(\\mu) \\cdot A_q,\n",
    "$$\n",
    "\n",
    "which is inherited by $A_N(\\mu)$:\n",
    "\n",
    "$$\n",
    "    A_N(\\mu) = \\sum_{q=1}^Q \\theta_q(\\mu) \\cdot A_{N,q},\n",
    "$$\n",
    "where $(A_{N,q})_{i,j} = \\underline{\\psi}_i^{\\operatorname{T}} \\cdot A_q \\cdot \\underline{\\psi}_j$.\n",
    "\n",
    "Thus, we have to project all operators in `fom.operator.operators` individually and then later form a linear combination of these matrices. "
   ]
  },
  {
   "cell_type": "markdown",
   "id": "917b14dd-1d1c-46a2-9946-e00f1620a5f7",
   "metadata": {
    "editable": true,
    "slideshow": {
     "slide_type": "subslide"
    },
    "tags": []
   },
   "source": [
    "This is getting tedious, so we let pyMOR do the work for us:"
   ]
  },
  {
   "cell_type": "code",
   "execution_count": null,
   "id": "32b1d7e1-66d3-4042-b5ad-a388087801b6",
   "metadata": {
    "editable": true,
    "slideshow": {
     "slide_type": ""
    },
    "tags": []
   },
   "outputs": [],
   "source": [
    "op_N = project(fom.operator, basis, basis)\n",
    "op_N"
   ]
  },
  {
   "cell_type": "markdown",
   "id": "e8c03eab-0e46-4b8e-ad14-9bc9a5c89c35",
   "metadata": {
    "editable": true,
    "slideshow": {
     "slide_type": "fragment"
    },
    "tags": []
   },
   "source": [
    "Similarly, we can project the right-hand side:"
   ]
  },
  {
   "cell_type": "code",
   "execution_count": null,
   "id": "e390e316-9c35-41b0-95c6-d3e4cf79f667",
   "metadata": {
    "editable": true,
    "slideshow": {
     "slide_type": ""
    },
    "tags": []
   },
   "outputs": [],
   "source": [
    "rhs_N = project(fom.rhs, basis, None)\n",
    "rhs_N"
   ]
  },
  {
   "cell_type": "markdown",
   "id": "378025f0-f6da-4981-8007-96008933541b",
   "metadata": {
    "editable": true,
    "slideshow": {
     "slide_type": "subslide"
    },
    "tags": []
   },
   "source": [
    "Now, we could assemble a matrix operator from `op_N` for a specific `mu` using the `assemble` method:"
   ]
  },
  {
   "cell_type": "code",
   "execution_count": null,
   "id": "923ed603-0622-463a-9289-526a75f2a196",
   "metadata": {
    "editable": true,
    "slideshow": {
     "slide_type": ""
    },
    "tags": []
   },
   "outputs": [],
   "source": [
    "op_N_mu = op_N.assemble(mu)\n",
    "op_N_mu"
   ]
  },
  {
   "cell_type": "markdown",
   "id": "e3c2935a-0136-42b6-b523-4df3dd5de801",
   "metadata": {
    "editable": true,
    "slideshow": {
     "slide_type": ""
    },
    "tags": []
   },
   "source": [
    "Then, we can extract it's system matrix:"
   ]
  },
  {
   "cell_type": "code",
   "execution_count": null,
   "id": "35d7c5f6-c00a-4ae0-8872-a43ba7ba8a89",
   "metadata": {
    "editable": true,
    "slideshow": {
     "slide_type": ""
    },
    "tags": []
   },
   "outputs": [],
   "source": [
    "op_N_mu.matrix.shape"
   ]
  },
  {
   "cell_type": "markdown",
   "id": "98ad55fc-5a8d-43c1-b86b-82654fb4a135",
   "metadata": {
    "editable": true,
    "slideshow": {
     "slide_type": ""
    },
    "tags": []
   },
   "source": [
    "From that, we can proceed as before. However, it is more convenient, to use the operator's `apply_inverse` method to invoke an (`Operator`-dependent) linear solver with a given input `VectorArray` as right-hand side:"
   ]
  },
  {
   "cell_type": "code",
   "execution_count": null,
   "id": "d4dae7af-33f7-49a0-bc93-4da4ea141747",
   "metadata": {
    "editable": true,
    "slideshow": {
     "slide_type": ""
    },
    "tags": []
   },
   "outputs": [],
   "source": [
    "u_N_new = op_N.apply_inverse(rhs_N.as_vector(), mu=mu)\n",
    "u_N_new"
   ]
  },
  {
   "cell_type": "markdown",
   "id": "7f68577b-3ef5-4d58-9979-7a49bd7735d8",
   "metadata": {
    "editable": true,
    "slideshow": {
     "slide_type": "subslide"
    },
    "tags": []
   },
   "source": [
    "Note that the result is a `VectorArray`. For `NumpyVectorArray` and some other `VectorArray` types, we can extract the internal data using the `to_numpy` method. We use it to check whether we arrived at the same solution:"
   ]
  },
  {
   "cell_type": "code",
   "execution_count": null,
   "id": "21b406c5-0549-4feb-b04d-a7603dc1e65b",
   "metadata": {
    "editable": true,
    "slideshow": {
     "slide_type": ""
    },
    "tags": []
   },
   "outputs": [],
   "source": [
    "np.linalg.norm(u_N.ravel() - u_N_new.to_numpy().ravel())"
   ]
  },
  {
   "cell_type": "markdown",
   "id": "beff0d38",
   "metadata": {
    "editable": true,
    "slideshow": {
     "slide_type": "subslide"
    },
    "tags": []
   },
   "source": [
    "### Projecting the entire Model\n",
    "\n",
    "In pyMOR, ROMs are built using a `Reductor`, which appropriately projects all of the `Models` operators and returns a reduced `Model` comprised of the projected `Operators`. Let's pick the most basic `Reductor`\n",
    "available for a `StationaryModel`:"
   ]
  },
  {
   "cell_type": "code",
   "execution_count": null,
   "id": "092fc935",
   "metadata": {
    "editable": true,
    "slideshow": {
     "slide_type": ""
    },
    "tags": []
   },
   "outputs": [],
   "source": [
    "reductor = StationaryRBReductor(fom, basis)"
   ]
  },
  {
   "cell_type": "markdown",
   "id": "ecbce5c7",
   "metadata": {
    "editable": true,
    "slideshow": {
     "slide_type": ""
    },
    "tags": []
   },
   "source": [
    "Every reductor has a `reduce` method, which builds the ROM:"
   ]
  },
  {
   "cell_type": "code",
   "execution_count": null,
   "id": "b3af8e2f",
   "metadata": {
    "editable": true,
    "slideshow": {
     "slide_type": ""
    },
    "tags": []
   },
   "outputs": [],
   "source": [
    "rom = reductor.reduce()"
   ]
  },
  {
   "cell_type": "markdown",
   "id": "6da56f71",
   "metadata": {
    "editable": true,
    "slideshow": {
     "slide_type": "subslide"
    },
    "tags": []
   },
   "source": [
    "Let's compare the structure of the FOM and of the ROM"
   ]
  },
  {
   "cell_type": "code",
   "execution_count": null,
   "id": "c2a16230",
   "metadata": {
    "editable": true,
    "slideshow": {
     "slide_type": ""
    },
    "tags": []
   },
   "outputs": [],
   "source": [
    "fom"
   ]
  },
  {
   "cell_type": "code",
   "execution_count": null,
   "id": "d7f2a89c",
   "metadata": {
    "editable": true,
    "slideshow": {
     "slide_type": "subslide"
    },
    "tags": []
   },
   "outputs": [],
   "source": [
    "rom"
   ]
  },
  {
   "cell_type": "markdown",
   "id": "83c4a9b8",
   "metadata": {
    "editable": true,
    "slideshow": {
     "slide_type": "subslide"
    },
    "tags": []
   },
   "source": [
    "### Solving the ROM\n",
    "\n",
    "To solve the ROM, we just use `solve` again,"
   ]
  },
  {
   "cell_type": "code",
   "execution_count": null,
   "id": "e8e9c03c",
   "metadata": {
    "editable": true,
    "slideshow": {
     "slide_type": ""
    },
    "tags": []
   },
   "outputs": [],
   "source": [
    "u_rom = rom.solve(mu)"
   ]
  },
  {
   "cell_type": "markdown",
   "id": "e85d6e94",
   "metadata": {
    "editable": true,
    "slideshow": {
     "slide_type": "fragment"
    },
    "tags": []
   },
   "source": [
    "to get the reduced coefficients:"
   ]
  },
  {
   "cell_type": "code",
   "execution_count": null,
   "id": "34de3020",
   "metadata": {
    "editable": true,
    "slideshow": {
     "slide_type": ""
    },
    "tags": []
   },
   "outputs": [],
   "source": [
    "u_rom"
   ]
  },
  {
   "cell_type": "markdown",
   "id": "de691119-6e0e-4205-89fd-48392b972979",
   "metadata": {
    "editable": true,
    "slideshow": {
     "slide_type": ""
    },
    "tags": []
   },
   "source": [
    "It is the same coefficient vector we have computed before:"
   ]
  },
  {
   "cell_type": "code",
   "execution_count": null,
   "id": "afedb968-8d1e-4df8-9154-5c88364b672a",
   "metadata": {
    "editable": true,
    "slideshow": {
     "slide_type": ""
    },
    "tags": []
   },
   "outputs": [],
   "source": [
    "(u_rom - u_N_new).norm()"
   ]
  },
  {
   "cell_type": "markdown",
   "id": "071cfc8c",
   "metadata": {
    "editable": true,
    "slideshow": {
     "slide_type": "fragment"
    },
    "tags": []
   },
   "source": [
    "A high-dimensional representation is obtained from the `reductor`:"
   ]
  },
  {
   "cell_type": "code",
   "execution_count": null,
   "id": "153c0846",
   "metadata": {
    "editable": true,
    "slideshow": {
     "slide_type": ""
    },
    "tags": []
   },
   "outputs": [],
   "source": [
    "U_rom = reductor.reconstruct(u_rom)"
   ]
  },
  {
   "cell_type": "markdown",
   "id": "4e52a779",
   "metadata": {
    "editable": true,
    "slideshow": {
     "slide_type": "subslide"
    },
    "tags": []
   },
   "source": [
    "### Computing the MOR error\n",
    "\n",
    "Let's compute the error error again:"
   ]
  },
  {
   "cell_type": "code",
   "execution_count": null,
   "id": "310a94ad",
   "metadata": {
    "editable": true,
    "slideshow": {
     "slide_type": ""
    },
    "tags": []
   },
   "outputs": [],
   "source": [
    "U = fom.solve(mu)\n",
    "ERR = U - U_rom\n",
    "ERR.norm() / U.norm()"
   ]
  },
  {
   "cell_type": "markdown",
   "id": "99e14b7b",
   "metadata": {
    "editable": true,
    "slideshow": {
     "slide_type": "fragment"
    },
    "tags": []
   },
   "source": [
    "and look at it:"
   ]
  },
  {
   "cell_type": "code",
   "execution_count": null,
   "id": "06e883ae",
   "metadata": {
    "editable": true,
    "slideshow": {
     "slide_type": ""
    },
    "tags": []
   },
   "outputs": [],
   "source": [
    "fom.visualize(ERR)"
   ]
  },
  {
   "cell_type": "markdown",
   "id": "4b784f78-20e0-418d-a2c2-0054e9c72cf5",
   "metadata": {
    "editable": true,
    "slideshow": {
     "slide_type": "subslide"
    },
    "tags": []
   },
   "source": [
    "### Your turn\n",
    "\n",
    "- Verify that the MOR error vanishes for the snapshot parameters $\\mu_i$ used to build $V_N$."
   ]
  },
  {
   "cell_type": "code",
   "execution_count": null,
   "id": "b99a8c43-e896-4c6b-8269-622366bb15f5",
   "metadata": {
    "editable": true,
    "slideshow": {
     "slide_type": ""
    },
    "tags": []
   },
   "outputs": [],
   "source": [
    "# your code here"
   ]
  },
  {
   "cell_type": "markdown",
   "id": "5b028961-9e2d-40b2-9e8e-d1500a4fbe74",
   "metadata": {
    "editable": true,
    "slideshow": {
     "slide_type": "slide"
    },
    "tags": []
   },
   "source": [
    "## Certified Reduced Basis Method"
   ]
  },
  {
   "cell_type": "markdown",
   "id": "68c3b754-98fc-40ba-9ea3-5bbd9d6c6c36",
   "metadata": {
    "editable": true,
    "slideshow": {
     "slide_type": "subslide"
    },
    "tags": []
   },
   "source": [
    "### Error estimator\n",
    "Model order reduction introduces an additional approximation error, which we need to control in order to be able to use a ROM as a reliable surrogate for a given FOM. While Céa's lemma provides a rigorous a priori bound, this error bound is not computable in general. Instead, we use a residual-based a posteriori error estimator. As in a posteriori theory for finite-element methods, we have:\n",
    "\n",
    "$$\n",
    "    \\|\\nabla u_h(\\mu) - \\nabla u_N(\\mu)\\|_{L^2(\\Omega)}\n",
    "    \\leq \\frac{1}{\\mu_{min}} \\sup_{v_h\\in V_h} \\frac{\\ell(v_h) - a(u_N(\\mu), v_h, \\mu)}{\\|\\nabla v_h\\|_{L^2(\\Omega)}}.\n",
    "$$\n",
    "\n",
    "For this estimate to hold, it is crucial that we use the right norms. I.e., instead of the Euclidean norm of the coefficient vectors, which we have used so far, we need to use the $H^1$-seminorm. \n",
    "\n",
    "The inner product matrix of the $H^1$-seminorm is automatically assembled by pyMOR's builtin discretizer and available as `fom.h1_0_semi_product`. We can pass it as the `product`-argument to methods like `norm`, `inner` or `gram_schmidt` to perform these operations w.r.t. the correct inner product/norm. Further, we need a lower bound for the coercivity constant of $a(\\cdot, \\cdot, \\mu)$."
   ]
  },
  {
   "cell_type": "markdown",
   "id": "27121cf2-8c17-42ce-8f55-6c56f633cfe9",
   "metadata": {
    "editable": true,
    "slideshow": {
     "slide_type": "subslide"
    },
    "tags": []
   },
   "source": [
    "Using this information, we can replace `StationaryRBReductor` by `CoerciveRBReductor`, which will add an reduction-error estimator to our ROM:"
   ]
  },
  {
   "cell_type": "code",
   "execution_count": null,
   "id": "5c6c9472",
   "metadata": {
    "editable": true,
    "slideshow": {
     "slide_type": ""
    },
    "tags": []
   },
   "outputs": [],
   "source": [
    "basis = gram_schmidt(snapshots, product=fom.h1_0_semi_product)\n",
    "reductor = CoerciveRBReductor(\n",
    "   fom, basis,\n",
    "   product=fom.h1_0_semi_product,\n",
    "   coercivity_estimator=ExpressionParameterFunctional('min(diffusion)', fom.parameters)\n",
    ")\n",
    "rom = reductor.reduce()"
   ]
  },
  {
   "cell_type": "markdown",
   "id": "78e5a788-320b-495f-b79a-587d55c2445b",
   "metadata": {
    "editable": true,
    "slideshow": {
     "slide_type": "subslide"
    },
    "tags": []
   },
   "source": [
    "We won't go into details here, but an 'offline-online decomposition' of the error estimator is possible similar to what we did for the projection of the system operator:"
   ]
  },
  {
   "cell_type": "code",
   "execution_count": null,
   "id": "b9766b89-cdcb-47ca-ab98-dbbf6173aa03",
   "metadata": {
    "editable": true,
    "slideshow": {
     "slide_type": ""
    },
    "tags": []
   },
   "outputs": [],
   "source": [
    "rom.error_estimator.residual"
   ]
  },
  {
   "cell_type": "markdown",
   "id": "6b038d90-dbd9-415f-a045-bd47581e2c67",
   "metadata": {
    "editable": true,
    "slideshow": {
     "slide_type": "subslide"
    },
    "tags": []
   },
   "source": [
    "Let's check if the estimator works:"
   ]
  },
  {
   "cell_type": "code",
   "execution_count": null,
   "id": "88b9de44-9d69-43e3-ba24-74d018bf5b67",
   "metadata": {
    "editable": true,
    "slideshow": {
     "slide_type": ""
    },
    "tags": []
   },
   "outputs": [],
   "source": [
    "U = fom.solve(mu)\n",
    "u_N = rom.solve(mu)\n",
    "est = rom.estimate_error(mu).item()\n",
    "err = (U - reductor.reconstruct(u_N)).norm(product=fom.h1_0_semi_product).item()\n",
    "print(f'error: {err}, estimate: {est}')"
   ]
  },
  {
   "cell_type": "markdown",
   "id": "79b9ab71-4f4e-48a1-a3cb-4f273cf6d74c",
   "metadata": {
    "editable": true,
    "slideshow": {
     "slide_type": "subslide"
    },
    "tags": []
   },
   "source": [
    "### Greedy basis generation"
   ]
  },
  {
   "cell_type": "markdown",
   "id": "714cf22e-73c2-481f-bffb-eb46f3c1f1ce",
   "metadata": {
    "editable": true,
    "slideshow": {
     "slide_type": "fragment"
    },
    "tags": []
   },
   "source": [
    "So far, we have built the reduced space $V_N$ by just randomly picking snapshot parameters. A theoretically well-founded approach which leads to quasi-optimal approximation spaces it the so-called weak greedy algorithm. In the weak greedy algorithm, $V_N$ is constructed iteratively by enlarging $V_N$ by an $u_h(\\mu_{N+1})$ such that\n",
    "\n",
    "$$ \\inf_{v_N \\in V_N} \\|\\nabla u_h(\\mu_{N+1}) - \\nabla v_N\\|_{L^2(\\Omega)}\n",
    "\\geq C \\cdot \\sup_{\\mu \\in \\mathcal{P}}\\inf_{v_N \\in V_N} \\|\\nabla u_h(\\mu) - \\nabla v_N\\|_{L^2(\\Omega)}, $$\n",
    "\n",
    "for some fixed constant $C > 0$."
   ]
  },
  {
   "cell_type": "markdown",
   "id": "7da982be-e26b-44b1-851b-aac663ff1465",
   "metadata": {
    "editable": true,
    "slideshow": {
     "slide_type": "fragment"
    },
    "tags": []
   },
   "source": [
    "In RB methods, we find such a $\\mu_{N+1}$ by picking the parameter for which the estimated reduction error is maximized. \n",
    "\n",
    "In order to make this maximization procedure computationally feasible, the infinite set $\\mathcal{P}$ is replaced by a finite subset of training parameters:"
   ]
  },
  {
   "cell_type": "code",
   "execution_count": null,
   "id": "5a9fd907",
   "metadata": {
    "editable": true,
    "slideshow": {
     "slide_type": ""
    },
    "tags": []
   },
   "outputs": [],
   "source": [
    "training_set = p.parameter_space.sample_uniformly(4)\n",
    "len(training_set)"
   ]
  },
  {
   "cell_type": "markdown",
   "id": "9045e986-1dc8-42c9-89de-aa98a1900535",
   "metadata": {
    "editable": true,
    "slideshow": {
     "slide_type": "subslide"
    },
    "tags": []
   },
   "source": [
    "Given this training set, we can use `rb_greedy` to compute $V_N$. In order to start with an empty basis, we create a new reductor that, by default, is initialized with an empty basis:"
   ]
  },
  {
   "cell_type": "code",
   "execution_count": null,
   "id": "8a712b40",
   "metadata": {
    "editable": true,
    "scrolled": true,
    "slideshow": {
     "slide_type": ""
    },
    "tags": []
   },
   "outputs": [],
   "source": [
    "reductor = CoerciveRBReductor(\n",
    "   fom,\n",
    "   product=fom.h1_0_semi_product,\n",
    "   coercivity_estimator=ExpressionParameterFunctional('min(diffusion)', fom.parameters)\n",
    ")\n",
    "greedy_data = rb_greedy(fom, reductor, training_set, max_extensions=20)\n",
    "print(greedy_data.keys())\n",
    "rom = greedy_data['rom']"
   ]
  },
  {
   "cell_type": "markdown",
   "id": "5976eeb9",
   "metadata": {
    "editable": true,
    "slideshow": {
     "slide_type": "subslide"
    },
    "tags": []
   },
   "source": [
    "### Testing the ROM\n",
    "\n",
    "Let's compute the error again:"
   ]
  },
  {
   "cell_type": "code",
   "execution_count": null,
   "id": "6c802252",
   "metadata": {
    "editable": true,
    "slideshow": {
     "slide_type": ""
    },
    "tags": []
   },
   "outputs": [],
   "source": [
    "mu = p.parameter_space.sample_randomly()\n",
    "U = fom.solve(mu)\n",
    "u_rom = rom.solve(mu)\n",
    "ERR = U - reductor.reconstruct(u_rom)\n",
    "ERR.norm(fom.h1_0_semi_product)"
   ]
  },
  {
   "cell_type": "markdown",
   "id": "2f0ed708",
   "metadata": {
    "editable": true,
    "slideshow": {
     "slide_type": "fragment"
    },
    "tags": []
   },
   "source": [
    "and compare it with the estimated error:"
   ]
  },
  {
   "cell_type": "code",
   "execution_count": null,
   "id": "17613968",
   "metadata": {
    "editable": true,
    "slideshow": {
     "slide_type": ""
    },
    "tags": []
   },
   "outputs": [],
   "source": [
    "rom.estimate_error(mu)"
   ]
  },
  {
   "cell_type": "markdown",
   "id": "cc8de7f4",
   "metadata": {
    "editable": true,
    "slideshow": {
     "slide_type": "subslide"
    },
    "tags": []
   },
   "source": [
    "### Is it actually faster?\n",
    "\n",
    "Finally, we check if our ROM is really any faster than the ROM:"
   ]
  },
  {
   "cell_type": "code",
   "execution_count": null,
   "id": "c3672505",
   "metadata": {
    "editable": true,
    "slideshow": {
     "slide_type": ""
    },
    "tags": []
   },
   "outputs": [],
   "source": [
    "from time import perf_counter\n",
    "mus = p.parameter_space.sample_randomly(10)\n",
    "tic = perf_counter()\n",
    "for mu in mus:\n",
    "    fom.solve(mu)\n",
    "t_fom = perf_counter() - tic\n",
    "tic = perf_counter()\n",
    "for mu in mus:\n",
    "    rom.solve(mu)\n",
    "t_rom = perf_counter() - tic\n",
    "print(f'Speedup: {t_fom/t_rom}')"
   ]
  },
  {
   "cell_type": "markdown",
   "id": "bca12676",
   "metadata": {
    "editable": true,
    "slideshow": {
     "slide_type": "subslide"
    },
    "tags": []
   },
   "source": [
    "### Some more exercises\n",
    "\n",
    "- Plot the MOR error vs. the dimension of the reduced space. (Use `reductor.reduce(N)` to project onto a sub-basis of dimension `N`.)\n",
    " \n",
    "- Plot the speedup vs. the dimension of the reduced space.\n",
    "\n",
    "- Compute the maximum/minimum efficiency of the error estimator over the parameter space.\n",
    "\n",
    "- Try different numbers of subdomains."
   ]
  },
  {
   "cell_type": "code",
   "execution_count": null,
   "id": "cdcc8b0f-3320-4d38-817a-64378dc6a2f5",
   "metadata": {
    "tags": []
   },
   "outputs": [],
   "source": [
    "# your code here"
   ]
  }
 ],
 "metadata": {
  "jupytext": {
   "formats": "ipynb,md:myst"
  },
  "kernelspec": {
   "display_name": "Python 3 (ipykernel)",
   "language": "python",
   "name": "python3"
  },
  "language_info": {
   "codemirror_mode": {
    "name": "ipython",
    "version": 3
   },
   "file_extension": ".py",
   "mimetype": "text/x-python",
   "name": "python",
   "nbconvert_exporter": "python",
   "pygments_lexer": "ipython3",
   "version": "3.10.11"
  }
 },
 "nbformat": 4,
 "nbformat_minor": 5
}
