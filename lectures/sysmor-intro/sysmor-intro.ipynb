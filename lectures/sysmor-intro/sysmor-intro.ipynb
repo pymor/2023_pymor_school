{
 "cells": [
  {
   "cell_type": "markdown",
   "id": "21a7da39",
   "metadata": {
    "slideshow": {
     "slide_type": "slide"
    }
   },
   "source": [
    "# System-theoretic Methods\n",
    "\n",
    "<h2>\n",
    "September 19, 2023<br/>\n",
    "pyMOR School 2023\n",
    "</h2>\n",
    "\n",
    "$$\n",
    "\\newcommand{\\bbC}{\\mathbb{C}}\n",
    "\\newcommand{\\Cnn}{\\bbC^{n \\times n}}\n",
    "\\newcommand{\\Cpm}{\\bbC^{p \\times m}}\n",
    "\\newcommand{\\bbR}{\\mathbb{R}}\n",
    "\\newcommand{\\Rn}{\\bbR^{n}}\n",
    "\\newcommand{\\Rr}{\\bbR^{r}}\n",
    "\\newcommand{\\Rm}{\\bbR^{m}}\n",
    "\\newcommand{\\Rp}{\\bbR^{p}}\n",
    "\\newcommand{\\Rk}{\\bbR^{k}}\n",
    "\\newcommand{\\Rnn}{\\bbR^{n \\times n}}\n",
    "\\newcommand{\\Rnm}{\\bbR^{n \\times m}}\n",
    "\\newcommand{\\Rpn}{\\bbR^{p \\times n}}\n",
    "\\newcommand{\\Rpm}{\\bbR^{p \\times m}}\n",
    "\\newcommand{\\Rnr}{\\bbR^{n \\times r}}\n",
    "\\newcommand{\\Rrr}{\\bbR^{r \\times r}}\n",
    "\\newcommand{\\Rrm}{\\bbR^{r \\times m}}\n",
    "\\newcommand{\\Rpr}{\\bbR^{p \\times r}}\n",
    "\\newcommand{\\cH}{\\mathcal{H}}\n",
    "\\newcommand{\\cK}{\\mathcal{K}}\n",
    "\\newcommand{\\cL}{\\mathcal{L}}\n",
    "\\newcommand{\\cT}{\\mathcal{T}}\n",
    "\\newcommand{\\hA}{\\hat{A}}\n",
    "\\newcommand{\\hB}{\\hat{B}}\n",
    "\\newcommand{\\hC}{\\hat{C}}\n",
    "\\newcommand{\\hE}{\\hat{E}}\n",
    "\\newcommand{\\hH}{\\hat{H}}\n",
    "\\newcommand{\\hY}{\\hat{Y}}\n",
    "\\newcommand{\\hx}{\\hat{x}}\n",
    "\\newcommand{\\hy}{\\hat{y}}\n",
    "\\newcommand{\\tA}{\\tilde{A}}\n",
    "\\newcommand{\\tB}{\\tilde{B}}\n",
    "\\newcommand{\\tC}{\\tilde{C}}\n",
    "\\newcommand{\\tE}{\\tilde{E}}\n",
    "\\newcommand{\\tran}{\\operatorname{T}}\n",
    "\\newcommand{\\herm}{\\operatorname{H}}\n",
    "\\newcommand{\\Real}{\\operatorname{Re}}\n",
    "\\newcommand{\\imag}{\\boldsymbol{\\imath}}\n",
    "\\newcommand{\\tr}{\\operatorname{tr}}\n",
    "\\newcommand{\\myspan}{\\operatorname{span}}\n",
    "\\newcommand{\\dif}[1]{\\operatorname{d}\\!{#1}}\n",
    "$$"
   ]
  },
  {
   "cell_type": "markdown",
   "id": "0e3826c3",
   "metadata": {
    "slideshow": {
     "slide_type": "subslide"
    }
   },
   "source": [
    "# What this actually is all about:\n",
    "\n",
    "<center>\n",
    "<img src=\"figures/system_fom.svg\" alt=\"system\" width=\"60%\">\n",
    "</center>"
   ]
  },
  {
   "cell_type": "markdown",
   "id": "79222962",
   "metadata": {
    "slideshow": {
     "slide_type": "subslide"
    }
   },
   "source": [
    "<center>\n",
    "<img src=\"figures/mor_system_fo_v2.svg\" alt=\"mor\" width=\"40%\">\n",
    "</center>"
   ]
  },
  {
   "cell_type": "markdown",
   "id": "1417f81a",
   "metadata": {
    "slideshow": {
     "slide_type": "subslide"
    }
   },
   "source": [
    "# Outline\n",
    "\n",
    "<h2>\n",
    "1. Linear Time-Invariant (LTI) Systems<br/>\n",
    "2. Transfer Function and Realizations<br/>\n",
    "3. Projection-based Model order Reduction<br />\n",
    "4. System Analysis<br/>\n",
    "5. A Selection of MOR Methods<br/>\n",
    "</h2>"
   ]
  },
  {
   "cell_type": "markdown",
   "id": "e29eeb66",
   "metadata": {
    "slideshow": {
     "slide_type": "subslide"
    }
   },
   "source": [
    "# Restrictions for this lecture\n",
    "\n",
    "- Only continuous-time systems\n",
    "  - Discrete-time is treated in\n",
    "    [[Antoulas '05]](https://doi.org/10.1137/1.9780898718713)\n",
    "- Only unstructured systems\n",
    "- No differential-algebraic systems\n",
    "  - For DAE aspects see\n",
    "    [[Voigt '19]](https://www.math.uni-hamburg.de/home/voigt/Modellreduktion_SoSe19/Notes_ModelReduction.pdf),\n",
    "    [[Gugercin/Stykel/Wyatt '13]](https://doi.org/10.1137/130906635),\n",
    "    [[Mehrmann/Stykel '05]](https://doi.org/10.1007/3-540-27909-1_3),\n",
    "    [[Stykel '04]](https://doi.org/10.1007/s00498-004-0141-4)\n",
    "- No non-linearities\n",
    "- No parameter dependencies"
   ]
  },
  {
   "cell_type": "markdown",
   "id": "03d0c384",
   "metadata": {
    "slideshow": {
     "slide_type": "slide"
    }
   },
   "source": [
    "# Linear Time-Invariant (LTI) Systems\n",
    "\n",
    "## Setting for this course\n",
    "\n",
    "### First-order State-space Systems (pyMOR: [`LTIModel`](https://docs.pymor.org/2023-1-0/autoapi/pymor/models/iosys/index.html#pymor.models.iosys.LTIModel))\n",
    "\n",
    "$$\n",
    "\\begin{equation}\\tag{$\\Sigma$}\n",
    "  \\begin{aligned}\n",
    "    E \\dot{x}(t) & = A x(t) + B u(t), \\\\\n",
    "    y(t) & = C x(t) + D u(t).\n",
    "  \\end{aligned}\n",
    "\\end{equation}\n",
    "$$\n",
    "\n",
    "Here\n",
    "\n",
    "- $x(t) \\in \\Rn$ is called the *state*,\n",
    "- $u(t) \\in \\Rm$ is called the *input*,\n",
    "- $y(t) \\in \\Rp$ is called the *output*\n",
    "\n",
    "of the LTI system.\n",
    "Correspondingly, we have\n",
    "\n",
    "$$\n",
    "\\begin{align*}\n",
    "  E, A \\in \\Rnn, \\qquad\n",
    "  B \\in \\Rnm, \\qquad\n",
    "  C \\in \\Rpn, \\quad\\text{and}\\quad\n",
    "  D \\in \\Rpm.\n",
    "\\end{align*}\n",
    "$$\n",
    "\n",
    "We assume\n",
    "$t \\in [0, \\infty)$,\n",
    "$x(0) = 0$,\n",
    "$E$ is invertible,\n",
    "$E^{-1} A$ is Hurwitz, and\n",
    "$D = 0$."
   ]
  },
  {
   "cell_type": "markdown",
   "id": "96a2a011",
   "metadata": {
    "slideshow": {
     "slide_type": "subslide"
    }
   },
   "source": [
    "## Examples\n",
    "\n",
    "### Heat Equation ([MORWiki thermal block](https://morwiki.mpi-magdeburg.mpg.de/morwiki/index.php/Thermal_Block))\n",
    "\n",
    "<table>\n",
    "<tr>\n",
    "<td>\n",
    "\n",
    "For $t \\in (0, T)$, $\\xi \\in \\Omega$ and initial values\n",
    "\n",
    "$$\n",
    "\\theta(0, \\xi) = 0,\\text{ for } \\xi \\in \\Omega,\n",
    "$$\n",
    "\n",
    "consider\n",
    "\n",
    "$$\n",
    "\\begin{align*}\n",
    "  \\partial_t \\theta(t, \\xi)\n",
    "  + \\nabla \\cdot (-\\sigma(\\xi) \\nabla \\theta(t, \\xi))\n",
    "  & = 0,\n",
    "\\end{align*}\n",
    "$$\n",
    "\n",
    "with boundary conditions\n",
    "\n",
    "$$\n",
    "\\begin{align*}\n",
    "  \\sigma(\\xi) \\nabla \\theta(t, \\xi) \\cdot n(\\xi) & = u(t)\n",
    "  & t \\in (0, T),\n",
    "  & \\ \\xi \\in \\Gamma_{\\text{in}}, \\\\\n",
    "  \\sigma(\\xi) \\nabla \\theta(t, \\xi) \\cdot n(\\xi) & = 0\n",
    "  & t \\in (0, T),\n",
    "  & \\ \\xi \\in \\Gamma_{\\text{N}}, \\\\\n",
    "  \\theta(t, \\xi) & = 0\n",
    "  & t \\in (0, T),\n",
    "  & \\ \\xi \\in \\Gamma_{\\text{D}},\n",
    "\\end{align*}\n",
    "$$\n",
    "\n",
    "and outputs\n",
    "\n",
    "$$\n",
    "y_i(t) = \\int_{\\Omega_i} \\theta(t, \\xi) \\dif{\\xi}, \\quad\n",
    "i = 1, 2, 3, 4.\n",
    "$$\n",
    "\n",
    "</td>\n",
    "<td>\n",
    "<center>\n",
    "<img src=\"figures/cookie.svg\" alt=\"cookie domain\" width=\"30%\">\n",
    "<img src=\"figures/Euler_100_Tf.png\" alt=\"cookie snapshot\" width=\"30%\">\n",
    "</center>\n",
    "</td>\n",
    "</tr>\n",
    "</table>"
   ]
  },
  {
   "cell_type": "markdown",
   "id": "6b07fb54",
   "metadata": {
    "slideshow": {
     "slide_type": "subslide"
    }
   },
   "source": [
    "#### Finite element semi-discretization in space\n",
    "\n",
    "- pairwise inner products of ansatz functions $\\leadsto E$\n",
    "- discretized spatial operator + Dirichlet boundary condition $\\leadsto A$\n",
    "- discretized non-zero Neumann boundary condition $\\leadsto B$\n",
    "- average temperatures on the inclusions $\\leadsto C$\n",
    "\n",
    "---\n",
    "\n",
    "- $n = 7\\,488$\n",
    "- $m = 1$\n",
    "- $p = 4$"
   ]
  },
  {
   "cell_type": "markdown",
   "id": "1733c56e",
   "metadata": {
    "slideshow": {
     "slide_type": "subslide"
    }
   },
   "source": [
    "### Penzl Example ([MORWiki](https://morwiki.mpi-magdeburg.mpg.de/morwiki/index.php/Penzl%27s_FOM))"
   ]
  },
  {
   "cell_type": "code",
   "execution_count": null,
   "id": "2c9617b9",
   "metadata": {
    "slideshow": {
     "slide_type": ""
    }
   },
   "outputs": [],
   "source": [
    "import numpy as np\n",
    "import scipy.sparse as sps\n",
    "from pymor.models.iosys import LTIModel\n",
    "\n",
    "A1 = np.array([[-1, 100], [-100, -1]])\n",
    "A2 = np.array([[-1, 200], [-200, -1]])\n",
    "A3 = np.array([[-1, 400], [-400, -1]])\n",
    "A4 = sps.diags(np.arange(-1, -1001, -1))\n",
    "A = sps.block_diag((A1, A2, A3, A4), format='csc')\n",
    "B = np.ones((1006, 1))\n",
    "B[:6] = 10\n",
    "C = B.T\n",
    "\n",
    "fom = LTIModel.from_matrices(A, B, C)"
   ]
  },
  {
   "cell_type": "code",
   "execution_count": null,
   "id": "f329e2e7",
   "metadata": {
    "slideshow": {
     "slide_type": "fragment"
    }
   },
   "outputs": [],
   "source": [
    "fom"
   ]
  },
  {
   "cell_type": "code",
   "execution_count": null,
   "id": "540d17d6",
   "metadata": {
    "slideshow": {
     "slide_type": "fragment"
    }
   },
   "outputs": [],
   "source": [
    "print(fom)"
   ]
  },
  {
   "cell_type": "markdown",
   "id": "674a2dde",
   "metadata": {
    "slideshow": {
     "slide_type": "subslide"
    }
   },
   "source": [
    "We can perform time-domain simulation, but the final time and the time stepper need to be specified in the `Model`."
   ]
  },
  {
   "cell_type": "code",
   "execution_count": null,
   "id": "7356fa26",
   "metadata": {
    "slideshow": {
     "slide_type": "fragment"
    }
   },
   "outputs": [],
   "source": [
    "from pymor.algorithms.timestepping import ImplicitEulerTimeStepper\n",
    "\n",
    "T = 2\n",
    "nt = 10000\n",
    "fom = fom.with_(T=T, time_stepper=ImplicitEulerTimeStepper(nt))"
   ]
  },
  {
   "cell_type": "markdown",
   "id": "47c8111d",
   "metadata": {
    "slideshow": {
     "slide_type": "subslide"
    }
   },
   "source": [
    "We first simulate the impulse response, i.e., the output in response to $x(0) = 0$ and $u(t) = \\delta(t)$.\n",
    "\n",
    "$$\n",
    "\\begin{align*}\n",
    "  y(t)\n",
    "  & =\n",
    "    C e^{t E^{-1} A} x(0)\n",
    "    + \\int_0^t C e^{\\tau E^{-1} A} E^{-1} B u(t - \\tau) \\operatorname{d\\!}\\tau\n",
    "    + D u(t) \\\\\n",
    "  & =\n",
    "    C e^{t E^{-1} A} E^{-1} B\n",
    "    + D \\delta(t)\n",
    "\\end{align*}\n",
    "$$"
   ]
  },
  {
   "cell_type": "code",
   "execution_count": null,
   "id": "d12cb4e4",
   "metadata": {
    "slideshow": {
     "slide_type": "fragment"
    }
   },
   "outputs": [],
   "source": [
    "y_impulse = fom.impulse_resp()\n",
    "print(y_impulse.shape)"
   ]
  },
  {
   "cell_type": "code",
   "execution_count": null,
   "id": "b03b8216",
   "metadata": {
    "slideshow": {
     "slide_type": "fragment"
    }
   },
   "outputs": [],
   "source": [
    "import matplotlib.pyplot as plt\n",
    "\n",
    "_ = plt.plot(np.linspace(0, T, nt + 1), y_impulse[:, 0, 0])"
   ]
  },
  {
   "cell_type": "markdown",
   "id": "1bdbc6b6",
   "metadata": {
    "slideshow": {
     "slide_type": "subslide"
    }
   },
   "source": [
    "Next we simulate the response to a sinusoidal input."
   ]
  },
  {
   "cell_type": "code",
   "execution_count": null,
   "id": "0f73b90e",
   "metadata": {
    "slideshow": {
     "slide_type": "fragment"
    }
   },
   "outputs": [],
   "source": [
    "y_sin_100 = fom.output(input='sin(100 * t)')\n",
    "print(y_sin_100.shape)"
   ]
  },
  {
   "cell_type": "code",
   "execution_count": null,
   "id": "937006cd",
   "metadata": {
    "slideshow": {
     "slide_type": "fragment"
    }
   },
   "outputs": [],
   "source": [
    "_ = plt.plot(np.linspace(0, T, nt + 1), y_sin_100[:, 0])"
   ]
  },
  {
   "cell_type": "code",
   "execution_count": null,
   "id": "9076bbff",
   "metadata": {
    "slideshow": {
     "slide_type": "subslide"
    }
   },
   "outputs": [],
   "source": [
    "y_sin_50 = fom.output(input='sin(50 * t)')"
   ]
  },
  {
   "cell_type": "code",
   "execution_count": null,
   "id": "ab59b74f",
   "metadata": {
    "slideshow": {
     "slide_type": "fragment"
    }
   },
   "outputs": [],
   "source": [
    "_ = plt.plot(np.linspace(0, T, nt + 1), y_sin_50[:, 0])"
   ]
  },
  {
   "cell_type": "markdown",
   "id": "31535af3",
   "metadata": {
    "slideshow": {
     "slide_type": "subslide"
    }
   },
   "source": [
    "#### Exercise\n",
    "\n",
    "- Use the time stepper specified above and simulate the model using the input function $u(t) = e^{-t}$. \n",
    "- Change the number of timesteps `nt` to `50000`. Repeat the simulation of the model using $u(t) = e^{-t}$."
   ]
  },
  {
   "cell_type": "code",
   "execution_count": null,
   "id": "4d0af13b",
   "metadata": {
    "slideshow": {
     "slide_type": ""
    }
   },
   "outputs": [],
   "source": []
  },
  {
   "cell_type": "markdown",
   "id": "d0d2a945",
   "metadata": {
    "slideshow": {
     "slide_type": "slide"
    }
   },
   "source": [
    "# Transfer Function"
   ]
  },
  {
   "cell_type": "markdown",
   "id": "9d76a7a9",
   "metadata": {
    "slideshow": {
     "slide_type": "subslide"
    }
   },
   "source": [
    "## Laplace Transform\n",
    "\n",
    "> ### Definition\n",
    ">\n",
    "> Let $f \\colon [0, \\infty) \\to \\Rn$ be exponentially bounded with bounding\n",
    "> exponent $\\alpha$.\n",
    "> Then\n",
    "> $$\\cL\\{f\\}(s) := \\int_0^\\infty f(\\tau) e^{-s \\tau} \\dif{\\tau}$$\n",
    "> for $\\Real(s) > \\alpha$ is called the ***Laplace transform*** of $f$.\n",
    "> The process of forming the Laplace transform is called\n",
    "> ***Laplace transformation***.\n",
    "\n",
    "It can be shown that the integral converges uniformly in a domain with\n",
    "$\\Real(s) \\ge \\beta$ for all $\\beta > \\alpha$."
   ]
  },
  {
   "cell_type": "markdown",
   "id": "5bfb4005",
   "metadata": {
    "slideshow": {
     "slide_type": "fragment"
    }
   },
   "source": [
    "> Allows us to map time signals to frequency signals."
   ]
  },
  {
   "cell_type": "markdown",
   "id": "fd77a138",
   "metadata": {
    "slideshow": {
     "slide_type": "subslide"
    }
   },
   "source": [
    "> ### Theorem\n",
    ">\n",
    "> Let $f, g, h \\colon [0, \\infty) \\to \\bbR^n$ be given.\n",
    "> Then the following two statements hold true:\n",
    ">\n",
    "> 1. The Laplace transformation is linear, i.e.,\n",
    ">    if $f$ and $g$ are exponentially bounded,\n",
    ">    then $h := \\gamma f + \\delta g$ is also exponentially bounded and\n",
    ">\n",
    ">    $$\n",
    "     \\cL\\left\\{h\\right\\} = \\gamma\\cL\\left\\{f\\right\\} +\n",
    "     \\delta\\cL\\left\\{g\\right\\}\n",
    "     $$\n",
    ">\n",
    ">    holds for all $\\gamma, \\delta \\in \\bbC$.\n",
    "> 2. If $f \\in \\mathcal{PC}^1([0, \\infty), \\Rn)$ and $\\dot{f}$ is exponentially\n",
    ">    bounded, then $f$ is exponentially bounded and\n",
    ">\n",
    ">    $$\n",
    "     \\cL\\bigl\\{\\dot{f}\\bigr\\}(s) = s \\cL\\{f\\}(s) - f(0).\n",
    "     $$"
   ]
  },
  {
   "cell_type": "markdown",
   "id": "ba620e1b",
   "metadata": {
    "slideshow": {
     "slide_type": "fragment"
    }
   },
   "source": [
    "- $X(s) := \\cL\\{x\\}(s)$,\n",
    "  $U(s) := \\cL\\{u\\}(s)$, and\n",
    "  $Y(s) := \\cL\\{y\\}(s)$\n",
    "- $A x(t) + B u(t) \\leadsto A X(s) + B U(s)$\n",
    "- $y(t) = C x(t) \\leadsto Y(s) = C X(s)$\n",
    "- $s X(s) := \\cL\\{\\dot{x}\\}(s)$ (since $x(0) = 0$)"
   ]
  },
  {
   "cell_type": "markdown",
   "id": "84ccc992",
   "metadata": {
    "slideshow": {
     "slide_type": "subslide"
    }
   },
   "source": [
    "## Transfer Function\n",
    "\n",
    "In summary we have:\n",
    "\n",
    "- $s E X(s) = A X(s) + B U(s)$\n",
    "- $Y(s) = C X(s)$\n",
    "\n",
    "Thus the mapping from inputs to outputs in frequency domain can be expressed as\n",
    "\n",
    "$$\n",
    "H(s) = C {\\left(s E - A\\right)}^{-1} B.\n",
    "$$"
   ]
  },
  {
   "cell_type": "markdown",
   "id": "214bb69d",
   "metadata": {
    "slideshow": {
     "slide_type": "fragment"
    }
   },
   "source": [
    "$$\n",
    "H \\text{ is analytic in } \\bbC \\setminus \\Lambda(E, A).\n",
    "$$"
   ]
  },
  {
   "cell_type": "markdown",
   "id": "1ee2a9a9",
   "metadata": {
    "slideshow": {
     "slide_type": "fragment"
    }
   },
   "source": [
    "### Pole-residue Form\n",
    "\n",
    "Let $(\\lambda_{i}, w_{i}, v_{i})$ be the eigentriplets of the pair $(E, A)$\n",
    "with no degenerate eigenspaces. Then the ***poles*** of $H$ are given by the eigenvalues $\\lambda_1,\\ldots,\\lambda_n$ and we have\n",
    "\n",
    "$$\n",
    "H(s) = \\sum_{i = 1}^{n} \\frac{R_{i}}{s - \\lambda_{i}},\n",
    "$$\n",
    "\n",
    "where $R_{i} = (C v_{i}) (w_{i}^{\\herm} B)$,\n",
    "assuming $w_{i}^{\\herm} E v_{i} = 1$."
   ]
  },
  {
   "cell_type": "markdown",
   "id": "b7e401d9",
   "metadata": {
    "slideshow": {
     "slide_type": "subslide"
    }
   },
   "source": [
    "### Example"
   ]
  },
  {
   "cell_type": "code",
   "execution_count": null,
   "id": "937cd8fb",
   "metadata": {
    "slideshow": {
     "slide_type": "-"
    }
   },
   "outputs": [],
   "source": [
    "fom.transfer_function"
   ]
  },
  {
   "cell_type": "code",
   "execution_count": null,
   "id": "10e05a2c",
   "metadata": {
    "slideshow": {
     "slide_type": "-"
    }
   },
   "outputs": [],
   "source": [
    "fom.transfer_function.eval_tf(0)"
   ]
  },
  {
   "cell_type": "code",
   "execution_count": null,
   "id": "76a72f90",
   "metadata": {
    "slideshow": {
     "slide_type": "-"
    }
   },
   "outputs": [],
   "source": [
    "fom.transfer_function.eval_tf(10j)"
   ]
  },
  {
   "cell_type": "markdown",
   "id": "59052b12",
   "metadata": {
    "slideshow": {
     "slide_type": "subslide"
    }
   },
   "source": [
    "#### Exercise\n",
    "\n",
    "- Use the [`poles`](https://docs.pymor.org/2023-1-0/autoapi/pymor/models/iosys/index.html#pymor.models.iosys.LTIModel.poles) method of the [`LTIModel`](https://docs.pymor.org/2023-1-0/autoapi/pymor/models/iosys/index.html#pymor.models.iosys.LTIModel) class to compute the poles of the transfer function of `fom`. Compute the imaginary parts of the poles.\n",
    "- Evaluate the transfer function for several values on the imaginary axis. Select some values that correspond to the imaginary parts of the poles and others which are close by."
   ]
  },
  {
   "cell_type": "code",
   "execution_count": null,
   "id": "6389eb6f",
   "metadata": {
    "slideshow": {
     "slide_type": ""
    }
   },
   "outputs": [],
   "source": []
  },
  {
   "cell_type": "markdown",
   "id": "2c1ebda9",
   "metadata": {
    "slideshow": {
     "slide_type": "subslide"
    }
   },
   "source": [
    "### Frequency-Domain Analysis\n",
    "\n",
    "#### Bode Plots\n",
    "\n",
    "The Bode plot for $H$ consists of a ***magnitude plot*** and a ***phase plot***.\n",
    "\n",
    "> ##### Bode magnitude plot\n",
    ">\n",
    "> - component-wise graph of the function $\\lvert H(\\imag \\omega) \\rvert$\n",
    ">   for frequencies $\\omega \\in [\\omega_{\\min}, \\omega_{\\max}] \\subset \\bbR$.\n",
    "> - $\\omega$-axis is logarithmic.\n",
    "> - magnitude is given in decibels, i.e., $\\lvert H(\\imag \\cdot) \\rvert$ is\n",
    ">   plotted as $20 \\log_{10}(\\lvert H(\\imag \\cdot) \\rvert)$.\n",
    "\n",
    "> ##### Bode phase plot\n",
    ">\n",
    "> - component-wise graph of the function $\\arg{H(\\imag \\omega)}$\n",
    ">   for frequencies $\\omega \\in [\\omega_{\\min}, \\omega_{\\max}] \\subset \\bbR$.\n",
    "> - $\\omega$-axis is logarithmic.\n",
    "> - phase is given in degrees on a linear scale."
   ]
  },
  {
   "cell_type": "markdown",
   "id": "9e8f04ca",
   "metadata": {
    "slideshow": {
     "slide_type": "subslide"
    }
   },
   "source": [
    "#### Bode Plot for the Thermal Block Example\n",
    "\n",
    "<center>\n",
    "<img src=\"figures/cookie_bode.svg\" alt=\"cookie bode\" width=\"60%\">\n",
    "</center>"
   ]
  },
  {
   "cell_type": "code",
   "execution_count": null,
   "id": "40a1f38b",
   "metadata": {
    "slideshow": {
     "slide_type": "subslide"
    }
   },
   "outputs": [],
   "source": [
    "# w = (1e-1, 1e5)\n",
    "w, _ = fom.transfer_function.freq_resp((1e-1, 1e5))"
   ]
  },
  {
   "cell_type": "code",
   "execution_count": null,
   "id": "c6d85d00",
   "metadata": {
    "slideshow": {
     "slide_type": "fragment"
    }
   },
   "outputs": [],
   "source": [
    "_ = fom.transfer_function.bode_plot(w)"
   ]
  },
  {
   "cell_type": "markdown",
   "id": "03bbc99c",
   "metadata": {
    "slideshow": {
     "slide_type": "subslide"
    }
   },
   "source": [
    "> #### (Sigma) Magnitude Plots\n",
    ">\n",
    "> - 2-norm-wise graph of the function $H(\\imag \\omega)$\n",
    ">   for frequencies $\\omega \\in [\\omega_{\\min}, \\omega_{\\max}] \\subset \\bbR$.\n",
    "> - $\\omega$-axis is logarithmic.\n",
    "\n",
    "The name is due to the fact that for a given matrix $M$ the norm\n",
    "$\\lVert M \\rVert_2$ is given by its largest singular value.\n",
    "\n",
    "The real sigma magnitude plot depicts all singular values as functions of\n",
    "$\\omega$."
   ]
  },
  {
   "cell_type": "code",
   "execution_count": null,
   "id": "47397adb",
   "metadata": {
    "slideshow": {
     "slide_type": "fragment"
    }
   },
   "outputs": [],
   "source": [
    "_ = fom.transfer_function.mag_plot(w)"
   ]
  },
  {
   "cell_type": "markdown",
   "id": "4cba3ecb",
   "metadata": {
    "slideshow": {
     "slide_type": "slide"
    }
   },
   "source": [
    "## Projection-based MOR\n",
    "\n",
    "### Ritz/Petrov-Galerkin Projection\n",
    "\n",
    "$$\n",
    "\\begin{align*}\n",
    "  E \\dot{x}(t) - A x(t) - B u(t) & = 0, \\\\\n",
    "  y(t) - C x(t) - D u(t) & = 0.\n",
    "\\end{align*}\n",
    "$$"
   ]
  },
  {
   "cell_type": "markdown",
   "id": "3b46da52",
   "metadata": {
    "slideshow": {
     "slide_type": "subslide"
    }
   },
   "source": [
    "**Step I: Use truncated state transformation**\n",
    "\n",
    "Replace\n",
    "\n",
    "$$\n",
    "x(t) \\approx V \\hx(t)\n",
    "$$\n",
    "\n",
    "with $V \\in \\Rnr$ and $\\hx(t) \\in \\Rr$.\n",
    "\n",
    "$$\n",
    "\\begin{align*}\n",
    "  E V \\dot{\\hx}(t) - A V \\hx(t) - B u(t) & = e_{\\text{res}}(t), \\\\\n",
    "  y(t) - C V \\hx(t) - D u(t) & = e_{\\text{output}}(t).\n",
    "\\end{align*}\n",
    "$$"
   ]
  },
  {
   "cell_type": "markdown",
   "id": "b5b033bb",
   "metadata": {
    "slideshow": {
     "slide_type": "subslide"
    }
   },
   "source": [
    "**Step II: Mitigate transformation error**\n",
    "\n",
    "Suppress truncation residual through left projection.\n",
    "\n",
    "- one-sided method: use $V$ again.\n",
    "\n",
    "  $$\n",
    "  \\begin{align*}\n",
    "    V^{\\tran} E V \\dot{\\hx}(t)\n",
    "    - V^{\\tran} A V \\hx(t)\n",
    "    - V^{\\tran} B u(t)\n",
    "    & = 0, \\\\\n",
    "    y(t) - C V \\hx(t) - D u(t) & = e_{\\text{output}}(t).\n",
    "  \\end{align*}\n",
    "  $$"
   ]
  },
  {
   "cell_type": "markdown",
   "id": "11bb3953",
   "metadata": {
    "slideshow": {
     "slide_type": "subslide"
    }
   },
   "source": [
    "- two-sided method: find $W \\in \\Rnr$.\n",
    "\n",
    "  $$\n",
    "  \\begin{align*}\n",
    "    W^{\\tran} E V \\dot{\\hx}(t)\n",
    "    - W^{\\tran} A V \\hx(t)\n",
    "    - W^{\\tran} B u(t)\n",
    "    & = 0, \\\\\n",
    "    y(t) - C V \\hx(t) - D u(t) & = e_{\\text{output}}(t).\n",
    "  \\end{align*}\n",
    "  $$"
   ]
  },
  {
   "cell_type": "markdown",
   "id": "56f08fd9",
   "metadata": {
    "slideshow": {
     "slide_type": "subslide"
    }
   },
   "source": [
    "<center>\n",
    "<img src=\"figures/compress_A.svg\" alt=\"compress A\" width=\"80%\">\n",
    "</center>"
   ]
  },
  {
   "cell_type": "markdown",
   "id": "7e0cf1ab",
   "metadata": {
    "slideshow": {
     "slide_type": "subslide"
    }
   },
   "source": [
    "### Reduced order model (ROM) (pyMOR: [`LTIPGReductor`](https://docs.pymor.org/2023-1-0/autoapi/pymor/reductors/basic/index.html?highlight=ltipgred#pymor.reductors.basic.LTIPGReductor))\n",
    "\n",
    "Define\n",
    "$\\hE = W^{\\tran} E V$,\n",
    "$\\hA = W^{\\tran} A V \\in \\Rrr$,\n",
    "$\\hB = W^{\\tran} B \\in \\Rrm$, and\n",
    "$\\hC = C V \\in \\Rpr$.\n",
    "Then\n",
    "\n",
    "$$\n",
    "\\begin{equation}\\tag{ROM}\n",
    "  \\begin{aligned}\n",
    "    \\hE \\dot{\\hx}(t) & = \\hA \\hx(t) + \\hB u(t), \\\\\n",
    "    \\hy(t) & = \\hC \\hx(t) + D u(t)\n",
    "  \\end{aligned}\n",
    "\\end{equation}\n",
    "$$\n",
    "\n",
    "approximates the dynamics of the full-order model $\\Sigma$ with output error\n",
    "\n",
    "$$\n",
    "y(t) - \\hy(t) = e_{\\text{output}}(t).\n",
    "$$\n",
    "\n",
    "- We call the corresponding transfer function $\\hH$.\n",
    "- Model order reduction (MOR) $\\leadsto$\n",
    "  Find $W, V \\in \\Rnr$ such that $e_{\\text{output}}(t)$ is small in a suitable\n",
    "  sense.\n",
    "- We will focus on eigenvalue-based, energy-based and\n",
    "  interpolation-based methods today."
   ]
  },
  {
   "cell_type": "markdown",
   "id": "c5134b92",
   "metadata": {
    "slideshow": {
     "slide_type": "subslide"
    }
   },
   "source": [
    "### Example"
   ]
  },
  {
   "cell_type": "code",
   "execution_count": null,
   "id": "02a74282",
   "metadata": {
    "slideshow": {
     "slide_type": "-"
    }
   },
   "outputs": [],
   "source": [
    "from pymor.reductors.basic import LTIPGReductor\n",
    "\n",
    "V = fom.solution_space.random(10)\n",
    "pg = LTIPGReductor(fom, V, V)\n",
    "rom_pg = pg.reduce()"
   ]
  },
  {
   "cell_type": "markdown",
   "id": "fbb29137",
   "metadata": {
    "slideshow": {
     "slide_type": "subslide"
    }
   },
   "source": [
    "The resulting model `rom_pg` will again be an [`LTIModel`](https://docs.pymor.org/2023-1-0/autoapi/pymor/models/iosys/index.html?highlight=ltimodel#pymor.models.iosys.LTIModel)."
   ]
  },
  {
   "cell_type": "code",
   "execution_count": null,
   "id": "e1af5c9f",
   "metadata": {
    "slideshow": {
     "slide_type": "-"
    }
   },
   "outputs": [],
   "source": [
    "rom_pg"
   ]
  },
  {
   "cell_type": "code",
   "execution_count": null,
   "id": "edbd5c77",
   "metadata": {
    "slideshow": {
     "slide_type": "subslide"
    }
   },
   "outputs": [],
   "source": [
    "_ = fom.transfer_function.mag_plot(w, label='FOM')\n",
    "_ = rom_pg.transfer_function.mag_plot(w, label='Random PG')\n",
    "_ = plt.legend()"
   ]
  },
  {
   "cell_type": "markdown",
   "id": "bbc68e39",
   "metadata": {
    "slideshow": {
     "slide_type": "subslide"
    }
   },
   "source": [
    "#### Exercise\n",
    "\n",
    "- Simulate the state of the `rom_pg` with $u(t) = e^{-t}$ from $t_{start}=0$ to $t_{end}=2$ using its [`solve`](https://docs.pymor.org/2023-1-0/autoapi/pymor/models/interface/index.html#pymor.models.interface.Model.solve) method.\n",
    "- The solve method computes a [`VectorArray`](https://docs.pymor.org/2023-1-0/autoapi/pymor/vectorarrays/interface/index.html?highlight=vectorarray#pymor.vectorarrays.interface.VectorArray) with all computed state vectors from the time-domain simulation. Consider the last state (i.e., at time $t_{end}$) from the previous computation. Use the [`reconstruct`](https://docs.pymor.org/2023-1-0/autoapi/pymor/reductors/basic/index.html?highlight=reconstruct#pymor.reductors.basic.LTIPGReductor.reconstruct) method of `pg` to obtain the reconstructed state vector in the full-order model state space.\n",
    "- Perform the same simulation with `fom`. Compare the final state with the state that has been reconstructed using the ROM simulation."
   ]
  },
  {
   "cell_type": "code",
   "execution_count": null,
   "id": "5608cc4d",
   "metadata": {
    "slideshow": {
     "slide_type": "-"
    }
   },
   "outputs": [],
   "source": []
  },
  {
   "cell_type": "markdown",
   "id": "5c0789f1",
   "metadata": {
    "slideshow": {
     "slide_type": "slide"
    }
   },
   "source": [
    "# System Analysis\n",
    "\n",
    "## System Norms and Hardy Spaces\n",
    "\n",
    "We have $$Y(s) = H(s) U(s)$$ and $$\\hY(s) = \\hH(s) U(s).$$\n",
    "\n",
    "> ### Question\n",
    ">\n",
    "> What are suitable norms such that\n",
    ">\n",
    "> $$\n",
    "  \\lVert y - \\hy \\rVert\n",
    "  \\le\n",
    "  \\left\\lVert H - \\hH \\right\\rVert\n",
    "  \\lVert u \\rVert?\n",
    "  $$"
   ]
  },
  {
   "cell_type": "markdown",
   "id": "109ed465",
   "metadata": {
    "slideshow": {
     "slide_type": "subslide"
    }
   },
   "source": [
    "### The Banach Space $\\cH_\\infty^{p \\times m}$\n",
    "\n",
    "$$\n",
    "\\cH_\\infty^{p \\times m}\n",
    ":=\n",
    "\\left\\{\n",
    "  G \\colon \\bbC^+ \\to \\Cpm :\n",
    "  G \\text{ is analytic in $\\bbC^+$ and }\n",
    "  \\sup_{s \\in \\bbC^+} \\left\\lVert G(s) \\right\\rVert_2 < \\infty\n",
    "\\right\\}.\n",
    "$$"
   ]
  },
  {
   "cell_type": "markdown",
   "id": "1ad2290d",
   "metadata": {
    "slideshow": {
     "slide_type": "fragment"
    }
   },
   "source": [
    "$\\cH_\\infty^{p \\times m}$ is a Banach space equipped with the\n",
    "***$\\cH_\\infty$-norm***\n",
    "\n",
    "$$\n",
    "\\left\\lVert G \\right\\rVert_{\\cH_\\infty}\n",
    ":= \\sup_{\\omega \\in \\bbR} \\left\\lVert G(\\imag \\omega) \\right\\rVert_2.\n",
    "$$"
   ]
  },
  {
   "cell_type": "markdown",
   "id": "dc627b8b",
   "metadata": {
    "slideshow": {
     "slide_type": "fragment"
    }
   },
   "source": [
    "> Can show:\n",
    ">\n",
    "> $$\n",
    "  \\lVert y - \\hy \\rVert_{\\cL_{2}}\n",
    "  \\le\n",
    "  \\left\\lVert H - \\hH \\right\\rVert_{\\cH_{\\infty}}\n",
    "  \\lVert u \\rVert_{\\cL_{2}}.\n",
    "  $$\n",
    "\n",
    "This bound can even be shown to be sharp."
   ]
  },
  {
   "cell_type": "code",
   "execution_count": null,
   "id": "3fb6747b",
   "metadata": {
    "slideshow": {
     "slide_type": "subslide"
    }
   },
   "outputs": [],
   "source": [
    "fom.hinf_norm()"
   ]
  },
  {
   "cell_type": "markdown",
   "id": "d44884b3",
   "metadata": {
    "slideshow": {
     "slide_type": "subslide"
    }
   },
   "source": [
    "### The Hilbert Space $\\cH_2^{p \\times m}$\n",
    "\n",
    "$$\n",
    "\\cH_2^{p \\times m}\n",
    ":= \\left\\{\n",
    "  G \\colon \\bbC^+ \\to \\Cpm :\n",
    "  G \\text{ is analytic in $\\bbC^+$ and }\n",
    "  \\sup_{\\xi > 0}\n",
    "  \\int_{-\\infty}^\\infty\n",
    "  \\left\\lVert\n",
    "  G(\\xi + \\imag \\omega)\n",
    "  \\right\\rVert_{\\operatorname{F}}^2\n",
    "  \\dif{\\omega}\n",
    "  < \\infty\n",
    "\\right\\}.\n",
    "$$"
   ]
  },
  {
   "cell_type": "markdown",
   "id": "14a2c3f9",
   "metadata": {
    "slideshow": {
     "slide_type": "fragment"
    }
   },
   "source": [
    "$\\cH_2^{p \\times m}$ is a Hilbert space with the inner product\n",
    "\n",
    "$$\n",
    "\\langle F, G \\rangle_{\\cH_2}\n",
    ":=\n",
    "\\frac{1}{2 \\pi}\n",
    "\\int_{-\\infty}^\\infty\n",
    "\\tr\\!\\left({F(\\imag \\omega)}^{\\herm} G(\\imag \\omega)\\right)\n",
    "\\dif{\\omega}\n",
    "$$\n",
    "\n",
    "and induced norm\n",
    "\n",
    "$$\n",
    "\\left\\lVert G \\right\\rVert_{\\cH_2}\n",
    ":= \\langle G, G \\rangle_{\\cH_2}^{1/2}\n",
    "= {\n",
    "  \\left(\n",
    "    \\frac{1}{2 \\pi}\n",
    "    \\int_{-\\infty}^\\infty\n",
    "    \\left\\lVert G(\\imag \\omega) \\right\\rVert_{\\operatorname{F}}^2\n",
    "    \\dif{\\omega}\n",
    "  \\right)\n",
    "}^{1/2}.\n",
    "$$"
   ]
  },
  {
   "cell_type": "markdown",
   "id": "2a97e712",
   "metadata": {
    "slideshow": {
     "slide_type": "fragment"
    }
   },
   "source": [
    "> Can show:\n",
    ">\n",
    "> $$\n",
    "  \\lVert y - \\hy \\rVert_{\\cL_{\\infty}}\n",
    "  \\le\n",
    "  \\left\\lVert H - \\hH \\right\\rVert_{\\cH_{2}}\n",
    "  \\lVert u \\rVert_{\\cL_{2}}.\n",
    "  $$"
   ]
  },
  {
   "cell_type": "code",
   "execution_count": null,
   "id": "264071b5",
   "metadata": {
    "slideshow": {
     "slide_type": "subslide"
    }
   },
   "outputs": [],
   "source": [
    "fom.h2_norm()"
   ]
  },
  {
   "cell_type": "markdown",
   "id": "6a6465d9",
   "metadata": {
    "slideshow": {
     "slide_type": "subslide"
    }
   },
   "source": [
    "### System Gramians and $\\cH_{2}$ trace formula\n",
    "\n",
    "A system $\\Sigma$ with $\\Lambda(E, A) \\subset \\bbC^{-}$ is called\n",
    "***asymptotically stable***.\n",
    "Then, all state trajectories decay exponentially as $t \\to \\infty$ and\n",
    "\n",
    "- the infinite controllability and observability ***Gramians*** exist:\n",
    "\n",
    "  $$\n",
    "  \\begin{align*}\n",
    "    P\n",
    "    & =\n",
    "      \\int_0^{\\infty}\n",
    "      e^{E^{-1} A t}\n",
    "      E^{-1}\n",
    "      B B^{\\tran}\n",
    "      E^{-\\tran}\n",
    "      e^{A^{\\tran} E^{-\\tran} t}\n",
    "      \\dif{t} \\\\\n",
    "    E^{\\tran} Q E\n",
    "    & =\n",
    "      \\int_0^{\\infty}\n",
    "      e^{A^{\\tran} E^{-\\tran} t}\n",
    "      C^{\\tran} C\n",
    "      e^{E^{-1} A t}\n",
    "      \\dif{t}.\n",
    "  \\end{align*}\n",
    "  $$\n",
    "- $P$, $Q$ solve the two ***Lyapunov equations***\n",
    "\n",
    "  $$\n",
    "  A P E^{\\tran} + E P A^{\\tran} + B B^{\\tran} = 0, \\qquad\n",
    "  A^{\\tran} Q E + E^{\\tran} Q A + C^{\\tran} C = 0\n",
    "  $$\n",
    "<!-- - If $(A, B)$ is controllable and $(A, C)$ is observable, -->\n",
    "<!--   it moreover holds that $P = P^{\\tran} \\succ 0$ and $Q = Q^{\\tran} \\succ 0$. -->\n",
    "<!--   (Otherwise we just have $P = P^{\\tran} \\succcurlyeq 0$ and -->\n",
    "<!--   $Q = Q^{\\tran} \\succcurlyeq 0$.) -->\n",
    "- the $\\cH_{2}$-norm can be expressed as\n",
    "\n",
    "  $$\n",
    "  \\lVert H \\rVert_{\\cH_{2}}^{2}\n",
    "  = \\tr\\!\\left(C P C^{\\tran}\\right)\n",
    "  = \\tr\\!\\left(B^{\\tran} Q B\\right).\n",
    "  $$"
   ]
  },
  {
   "cell_type": "markdown",
   "id": "a33c69ab",
   "metadata": {
    "slideshow": {
     "slide_type": "slide"
    }
   },
   "source": [
    "# A Selection of MOR Methods"
   ]
  },
  {
   "cell_type": "markdown",
   "id": "0a535371",
   "metadata": {
    "slideshow": {
     "slide_type": "subslide"
    }
   },
   "source": [
    "## Modal Methods"
   ]
  },
  {
   "cell_type": "markdown",
   "id": "d85fbdf0",
   "metadata": {
    "slideshow": {
     "slide_type": "subslide"
    }
   },
   "source": [
    "### Modal Coordinates\n",
    "\n",
    "Assume that the pair $(E, A)$ is simultaneously diagonalizable in $\\Cnn$.\n",
    "\n",
    "> #### Classic Modal Truncation\n",
    ">\n",
    "> - Compute diagonal realization from an eigendecomposition.\n",
    "> - State-space transformation matrices contain eigenvectors (modes).\n",
    "> - Use $W = V$.\n",
    "> - Populate $V$ with modes corresponding to eigenvalues closest to\n",
    ">   $\\imag \\bbR$.\n",
    "> - Add a few domain-specific or \"anxiety\" modes.\n",
    "\n",
    "> #### Problem\n",
    ">\n",
    "> - Does not take inputs and outputs into account!\n",
    "> - How many \"anxiety\" modes are necessary?"
   ]
  },
  {
   "cell_type": "markdown",
   "id": "ba6a06ff",
   "metadata": {
    "slideshow": {
     "slide_type": "subslide"
    }
   },
   "source": [
    "### Dominant Poles Approximation (pyMOR: [`MTReductor`](https://docs.pymor.org/2023-1-0/autoapi/pymor/reductors/mt/index.html?highlight=mtreductor#pymor.reductors.mt.MTReductor))\n",
    "\n",
    "Recall the pole residue form of the transfer function\n",
    "\n",
    "$$\n",
    "H(s) = \\sum_{i = 1}^{n} \\frac{R_{i}}{s - \\lambda_{i}},\n",
    "$$\n",
    "\n",
    "where $R_{i} = (C v_{i})(w_{i}^{\\herm} B)$, assuming\n",
    "$w_{i}^{\\herm} E v_{i} = 1$."
   ]
  },
  {
   "cell_type": "markdown",
   "id": "f1714f1c",
   "metadata": {
    "slideshow": {
     "slide_type": "fragment"
    }
   },
   "source": [
    "Suppose the modes are sorted based on the magnitude of the\n",
    "$\\lVert R_{i} \\rVert / \\Real(\\lambda_{i})$.\n",
    "Then we use the truncated pole residue form\n",
    "\n",
    "$$\n",
    "H(s) = \\sum_{i = 1}^{r} \\frac{R_{i}}{s - \\lambda_{i}},\n",
    "$$\n",
    "\n",
    "as our ROM. This is motivated by the following\n",
    "\n",
    "> #### Error bound\n",
    ">\n",
    "> $$\n",
    "  \\left\\lVert H - \\hH \\right\\rVert_{\\cH_\\infty}\n",
    "  \\le\n",
    "  \\sum_{i = r + 1}^{n}\n",
    "  \\frac{\\lVert R_{i} \\rVert}{\\lvert \\Real(\\lambda_{i}) \\rvert}\n",
    "  $$"
   ]
  },
  {
   "cell_type": "markdown",
   "id": "3c60ebca",
   "metadata": {
    "slideshow": {
     "slide_type": "fragment"
    }
   },
   "source": [
    "Computation is feasible via *subspace accelerated MIMO dominant pole algorithm*\n",
    "(SAMDP)."
   ]
  },
  {
   "cell_type": "code",
   "execution_count": null,
   "id": "15e023a3",
   "metadata": {
    "slideshow": {
     "slide_type": "subslide"
    }
   },
   "outputs": [],
   "source": [
    "from pymor.reductors.mt import MTReductor\n",
    "\n",
    "mt = MTReductor(fom)\n",
    "rom_mt = mt.reduce(10)"
   ]
  },
  {
   "cell_type": "code",
   "execution_count": null,
   "id": "ac2ea5d8",
   "metadata": {
    "slideshow": {
     "slide_type": "subslide"
    }
   },
   "outputs": [],
   "source": [
    "_ = fom.transfer_function.mag_plot(w, label='FOM')\n",
    "_ = rom_mt.transfer_function.mag_plot(w, label='MT')\n",
    "_ = plt.legend()"
   ]
  },
  {
   "cell_type": "code",
   "execution_count": null,
   "id": "697c1cb7",
   "metadata": {
    "slideshow": {
     "slide_type": "subslide"
    }
   },
   "outputs": [],
   "source": [
    "err_mt = fom - rom_mt"
   ]
  },
  {
   "cell_type": "code",
   "execution_count": null,
   "id": "fdc63f66",
   "metadata": {
    "slideshow": {
     "slide_type": "-"
    }
   },
   "outputs": [],
   "source": [
    "_ = err_mt.transfer_function.mag_plot(w, label='MT')\n",
    "_ = plt.legend()"
   ]
  },
  {
   "cell_type": "markdown",
   "id": "fc27ce03",
   "metadata": {
    "slideshow": {
     "slide_type": "subslide"
    }
   },
   "source": [
    "#### Exercise\n",
    "\n",
    "- Compute the $\\mathcal{H}_2$-norm of the error system `err_mt`. Note that the [`LTIModel`](https://docs.pymor.org/2023-1-0/autoapi/pymor/models/iosys/index.html?highlight=ltimodel#pymor.models.iosys.LTIModel) class has an [`h2_norm`](iosys/index.html?highlight=ltimodel#pymor.models.iosys.LTIModel.h2_norm) method.\n",
    "- Consider the input $u(t) = e^{-t}$ which has the $\\cL_{2}$-norm $\\lVert u \\rVert_{\\cL_{2}} = \\frac{\\sqrt{2}}{2}$. Simulate the error system `err_mt` with the input $u(t) = e^{-t}$ and verify the input-output error bound $\\lVert y - \\hy \\rVert_{\\cL_{\\infty}}\n",
    "  \\le\n",
    "  \\left\\lVert H - \\hH \\right\\rVert_{\\cH_{2}}\n",
    "  \\lVert u \\rVert_{\\cL_{2}}$."
   ]
  },
  {
   "cell_type": "code",
   "execution_count": null,
   "id": "2a2028b4",
   "metadata": {
    "slideshow": {
     "slide_type": "-"
    }
   },
   "outputs": [],
   "source": []
  },
  {
   "cell_type": "markdown",
   "id": "7e3e446d",
   "metadata": {
    "slideshow": {
     "slide_type": "subslide"
    }
   },
   "source": [
    "## Balancing-based MOR\n",
    "\n",
    "### Balanced Truncation aka. Lyapunov Balancing\n",
    "\n",
    "#### Idea\n",
    "\n",
    "- The system $\\Sigma$, in realization $(E = I, A, B, C)$,\n",
    "  is called ***balanced***, if the solutions $P, Q$ of the Lyapunov equations\n",
    "\n",
    "  $$\n",
    "  A P + P A^{\\tran} + B B^{\\tran} = 0, \\qquad\n",
    "  A^{\\tran} Q + Q A + C^{\\tran} C = 0,\n",
    "  $$\n",
    "\n",
    "  satisfy:\n",
    "  $P = Q = \\operatorname{diag}(\\sigma_1, \\ldots, \\sigma_n)$\n",
    "  where\n",
    "  $\\sigma_1 \\ge \\sigma_2 \\ge \\cdots \\ge \\sigma_n > 0$."
   ]
  },
  {
   "cell_type": "markdown",
   "id": "88c0a11c",
   "metadata": {
    "slideshow": {
     "slide_type": "fragment"
    }
   },
   "source": [
    "- $\\{\\sigma_1, \\ldots, \\sigma_n\\}$ are the *Hankel singular values (HSVs)* of\n",
    "  $\\Sigma$."
   ]
  },
  {
   "cell_type": "markdown",
   "id": "e925f534",
   "metadata": {
    "slideshow": {
     "slide_type": "fragment"
    }
   },
   "source": [
    "- A so-called ***balanced realization*** is computed via state-space transformation\n",
    "\n",
    "  $$\n",
    "  \\begin{align*}\n",
    "    \\cT \\colon (I, A, B, C) \\mapsto {} & (I, T A T^{-1}, T B, C T^{-1}) \\\\\n",
    "    & =\n",
    "      \\left(\n",
    "        I,\n",
    "        \\begin{bmatrix}\n",
    "          A_{11} & A_{12} \\\\\n",
    "          A_{21} & A_{22}\n",
    "        \\end{bmatrix},\n",
    "        \\begin{bmatrix}\n",
    "          B_{1} \\\\\n",
    "          B_{2}\n",
    "        \\end{bmatrix},\n",
    "        \\begin{bmatrix}\n",
    "          C_{1} & C_{2}\n",
    "        \\end{bmatrix}\n",
    "      \\right).\n",
    "  \\end{align*}\n",
    "  $$"
   ]
  },
  {
   "cell_type": "markdown",
   "id": "0548683f",
   "metadata": {},
   "source": [
    "- In a balanced realization the state variables are sorted based on their contribution to the input-output mapping."
   ]
  },
  {
   "cell_type": "markdown",
   "id": "11fa8abe",
   "metadata": {
    "slideshow": {
     "slide_type": "fragment"
    }
   },
   "source": [
    "- Truncation removes state variables which are not important for input-ouput behaviour $\\leadsto$ reduced order model:\n",
    "  $(I, \\hA, \\hB, \\hC) = (I, A_{11}, B_{1}, C_{1})$."
   ]
  },
  {
   "cell_type": "markdown",
   "id": "c0f54e8b",
   "metadata": {
    "slideshow": {
     "slide_type": "subslide"
    }
   },
   "source": [
    "### Implementation: The Square Root Method\n",
    "\n",
    "#### The SR Method (pyMOR: [`BTReductor`](https://docs.pymor.org/2023-1-0/autoapi/pymor/reductors/bt/index.html?highlight=btreductor#pymor.reductors.bt.BTReductor))\n",
    "\n",
    "1. Compute (Cholesky) factors of the solutions to the Lyapunov equation,\n",
    "\n",
    "   $$\n",
    "   P = S^{\\tran} S, \\quad\n",
    "   Q = R^{\\tran} R.\n",
    "   $$"
   ]
  },
  {
   "cell_type": "markdown",
   "id": "e8748009",
   "metadata": {
    "slideshow": {
     "slide_type": "fragment"
    }
   },
   "source": [
    "2. Compute singular value decomposition\n",
    "\n",
    "   $$\n",
    "   S R^{\\tran}\n",
    "   =\n",
    "   \\begin{bmatrix}\n",
    "     U_1 & U_2\n",
    "   \\end{bmatrix}\n",
    "   \\begin{bmatrix}\n",
    "     \\Sigma_1 & 0 \\\\\n",
    "     0 & \\Sigma_2\n",
    "   \\end{bmatrix}\n",
    "   \\begin{bmatrix}\n",
    "     V_1^{\\tran} \\\\\n",
    "     V_2^{\\tran}\n",
    "   \\end{bmatrix}.\n",
    "   $$"
   ]
  },
  {
   "cell_type": "markdown",
   "id": "ee6d2ec0",
   "metadata": {
    "slideshow": {
     "slide_type": "fragment"
    }
   },
   "source": [
    "3. Define\n",
    "\n",
    "   $$\n",
    "   W := R^{\\tran} V_1 \\Sigma_1^{-1/2}, \\quad\n",
    "   V := S^{\\tran} U_1 \\Sigma_1^{-1/2}.\n",
    "   $$\n",
    "4. Then the reduced-order model is\n",
    "   $(W^{\\tran} A V, W^{\\tran} B, C V)$."
   ]
  },
  {
   "cell_type": "markdown",
   "id": "4e21affe",
   "metadata": {
    "slideshow": {
     "slide_type": "subslide"
    }
   },
   "source": [
    "#### Properties\n",
    "\n",
    "- Lyapunov balancing **preserves asymptotic stability**.\n",
    "- We have the **a priori error bound**:\n",
    "  $$\n",
    "  \\left\\lVert H - \\hH \\right\\rVert_{\\cH_{\\infty}}\n",
    "  \\le\n",
    "  2 \\sum\\limits_{k = r + 1}^{n} \\sigma_{k}\n",
    "  $$"
   ]
  },
  {
   "cell_type": "markdown",
   "id": "33c9942c",
   "metadata": {
    "slideshow": {
     "slide_type": "subslide"
    }
   },
   "source": [
    "#### Variants (pyMOR: [`PRBTReductor`](https://docs.pymor.org/2023-1-0/autoapi/pymor/reductors/bt/index.html?highlight=btreductor#pymor.reductors.bt.PRBTReductor), [`BRBTReductor`](https://docs.pymor.org/2023-1-0/autoapi/pymor/reductors/bt/index.html?highlight=btreductor#pymor.reductors.bt.BRBTReductor), [`LQGBTReductor`](https://docs.pymor.org/2023-1-0/autoapi/pymor/reductors/bt/index.html?highlight=btreductor#pymor.reductors.bt.LQGBTReductor))\n",
    "\n",
    "Other versions for special classes of systems or applications exist, such as\n",
    "\n",
    "- **positive-real balancing** (passivity-preserving),\n",
    "- **bounded-real balancing** (contractivity-preserving),\n",
    "- **linear-quadratic Gaussian balancing**\n",
    "  (stability preserving, aims at low-order output feedback controllers).\n",
    "\n",
    "The given ones all compute $P, Q$ as solutions of ***algebraic Riccati\n",
    "equations*** of the form:\n",
    "\n",
    "$$\n",
    "\\begin{align*}\n",
    "  0\n",
    "  & =\n",
    "    \\tA P \\tE^{\\tran}\n",
    "    + \\tE P \\tA^{\\tran}\n",
    "    + \\tB \\tB^{\\tran}\n",
    "    \\pm \\tE P \\tC^{\\tran} \\tC P \\tE^{\\tran} \\\\\n",
    "  0\n",
    "  & =\n",
    "    \\tA^{\\tran} Q \\tE\n",
    "    + \\tE^{\\tran} Q \\tA\n",
    "    + \\tC^{\\tran} \\tC\n",
    "    \\pm \\tE^{\\tran} Q \\tB \\tB^{\\tran} Q \\tE.\n",
    "\\end{align*}\n",
    "$$"
   ]
  },
  {
   "cell_type": "code",
   "execution_count": null,
   "id": "83d1d282",
   "metadata": {
    "slideshow": {
     "slide_type": "subslide"
    }
   },
   "outputs": [],
   "source": [
    "from pymor.reductors.bt import BTReductor\n",
    "\n",
    "bt = BTReductor(fom)\n",
    "rom_bt = bt.reduce(10)"
   ]
  },
  {
   "cell_type": "code",
   "execution_count": null,
   "id": "76e64de0",
   "metadata": {
    "slideshow": {
     "slide_type": "subslide"
    }
   },
   "outputs": [],
   "source": [
    "_ = fom.transfer_function.mag_plot(w, label='FOM')\n",
    "_ = rom_mt.transfer_function.mag_plot(w, label='MT')\n",
    "_ = rom_bt.transfer_function.mag_plot(w, label='BT')\n",
    "_ = plt.legend()"
   ]
  },
  {
   "cell_type": "code",
   "execution_count": null,
   "id": "e941e90d",
   "metadata": {
    "slideshow": {
     "slide_type": "subslide"
    }
   },
   "outputs": [],
   "source": [
    "err_bt = fom - rom_bt"
   ]
  },
  {
   "cell_type": "code",
   "execution_count": null,
   "id": "80b5ffb3",
   "metadata": {
    "slideshow": {
     "slide_type": "-"
    }
   },
   "outputs": [],
   "source": [
    "_ = err_mt.transfer_function.mag_plot(w, label='MT')\n",
    "_ = err_bt.transfer_function.mag_plot(w, label='BT')\n",
    "_ = plt.legend()"
   ]
  },
  {
   "cell_type": "markdown",
   "id": "eb380a84",
   "metadata": {
    "slideshow": {
     "slide_type": "subslide"
    }
   },
   "source": [
    "#### Exercise\n",
    "\n",
    "- Aside from a desired order, the [`reduce`](https://docs.pymor.org/2023-1-0/autoapi/pymor/reductors/bt/index.html?highlight=btreductor#pymor.reductors.bt.GenericBTReductor.reduce) method of the [`BTReductor`](https://docs.pymor.org/2023-1-0/autoapi/pymor/reductors/bt/index.html?highlight=btreductor#pymor.reductors.bt.BTReductor) allows for specifying a truncation tolerance based on the a priori error bound. Use the `bt` instance of the [`BTReductor`](https://docs.pymor.org/2023-1-0/autoapi/pymor/reductors/bt/index.html?highlight=btreductor#pymor.reductors.bt.BTReductor) to compute a ROM based on a specified tolerance `tol=1e-5`.\n",
    "- Use the [`LQGBTReductor`](https://docs.pymor.org/2023-1-0/autoapi/pymor/reductors/bt/index.html?highlight=btreductor#pymor.reductors.bt.LQGBTReductor) to reduce `fom` using a truncation tolerance of `tol=1e-5`. Check the dimension of the ROM.\n",
    "- Compare the $\\cH_{2}$-norms and orders of the ROMs obtained by both BT variants."
   ]
  },
  {
   "cell_type": "code",
   "execution_count": null,
   "id": "d5d7d34a",
   "metadata": {
    "slideshow": {
     "slide_type": "-"
    }
   },
   "outputs": [],
   "source": []
  },
  {
   "cell_type": "markdown",
   "id": "4ef4dbe2",
   "metadata": {
    "slideshow": {
     "slide_type": "subslide"
    }
   },
   "source": [
    "## Transfer Function Approximation\n",
    "\n",
    "The transfer function $H$ is a degree-$n$ rational function\n",
    "\n",
    "$$\n",
    "H(s) = \\frac{P(s)}{Q(s)}, \\quad P,Q \\text{ polynomials}\n",
    "$$\n",
    "\n",
    "such that deg$(P) \\leq n$ and deg$(Q) \\leq n$."
   ]
  },
  {
   "cell_type": "markdown",
   "id": "e3f4244f",
   "metadata": {
    "slideshow": {
     "slide_type": "fragment"
    }
   },
   "source": [
    "MOR via rational approximation: Find a degree-$r$ rational function $\\hH$ with $r \\ll n$ such that\n",
    "\n",
    "$$\n",
    "H \\approx \\hH\n",
    "$$"
   ]
  },
  {
   "cell_type": "markdown",
   "id": "2aa85c49",
   "metadata": {
    "slideshow": {
     "slide_type": "subslide"
    }
   },
   "source": [
    "### Rational Interpolation\n",
    "\n",
    "Pick some complex values $\\sigma_1, \\ldots, \\sigma_r$ and enforce interpolation\n",
    "\n",
    "$$\n",
    "\\hH(\\sigma_j) = H(\\sigma_j) \\quad \\text{for } j = 1, \\ldots, r.\n",
    "$$"
   ]
  },
  {
   "cell_type": "markdown",
   "id": "820fd75c",
   "metadata": {
    "slideshow": {
     "slide_type": "subslide"
    }
   },
   "source": [
    "Can also pick tangential directions $b_1, \\ldots, b_r \\in \\mathbb{C}^m$ and $c_1, \\ldots, c_r \\in \\mathbb{C}^p$ and enforce bitangential Hermite interpolation\n",
    "\n",
    "$$\n",
    "\\begin{align*}\n",
    "  \\hH(\\sigma_j)b_j &= H(\\sigma_j) b_j, \\\\\n",
    "  c_j^* \\hH(\\sigma_j) &= c_j^* H(\\sigma_j), \\\\\n",
    "  c_j^* \\hH'(\\sigma_j) b_j &= c_j^* H'(\\sigma_j) b_j, \\\\\n",
    "\\end{align*}\n",
    "\\quad \\text{for } j=1,\\ldots,r.\n",
    "$$"
   ]
  },
  {
   "cell_type": "markdown",
   "id": "e11a69f2",
   "metadata": {
    "slideshow": {
     "slide_type": "subslide"
    }
   },
   "source": [
    "### Interpolation via Projection\n",
    "\n",
    "Given $E,A,B,C$, how to enforce interpolation?\n",
    "\n",
    "> ### Theorem\n",
    ">\n",
    "> Let $\\hH$ be the transfer function of the ROM obtained from a Petrov Galerkin projection using $V$ and $W$.\n",
    "> For $b \\in \\mathbb{C}^m$, $c \\in \\mathbb{C}^p$ and $\\sigma \\in \\mathbb{C}$ we have\n",
    ">\n",
    "> 1. $(\\sigma E - A)^{-1} B b \\in \\mathrm{Range}(V)$ implies $H(\\sigma) b = \\hH(\\sigma) b$\n",
    "> 2. $(\\sigma E - A)^{-*} C^* c \\in \\mathrm{Range}(W)$ implies $c^* H(\\sigma) = c^* \\hH(\\sigma)$\n",
    "> 3. If 1. and 2. are satisfied, then $c^* H'(\\sigma) b = c^* \\hH'(\\sigma) b$\n",
    "\n",
    "Using bases $V$ and $W$ for rational Krylov subspaces allows for interpolatory MOR [[Antoulas/Beattie/Güğercin '20]](https://doi.org/10.1137/1.9781611976083).\n",
    "\n",
    "In pyMOR [`LTIBHIReductor`](https://docs.pymor.org/2023-1-0/autoapi/pymor/reductors/interpolation/index.html?highlight=ltibhired#pymor.reductors.interpolation.LTIBHIReductor) is based on projection and [`TFBHIReductor`](https://docs.pymor.org/2023-1-0/autoapi/pymor/reductors/interpolation/index.html?highlight=tfbhi#pymor.reductors.interpolation.TFBHIReductor) only uses evaluations of the transfer function $H$."
   ]
  },
  {
   "cell_type": "code",
   "execution_count": null,
   "id": "631ed76e",
   "metadata": {
    "slideshow": {
     "slide_type": "subslide"
    }
   },
   "outputs": [],
   "source": [
    "from pymor.reductors.interpolation import LTIBHIReductor\n",
    "\n",
    "interp = LTIBHIReductor(fom)\n",
    "sigma = np.array([50, 100, 200, 400, 800])\n",
    "sigma = np.concatenate((1j * sigma, -1j * sigma))\n",
    "b = np.ones((len(sigma), fom.dim_input))\n",
    "c = np.ones((len(sigma), fom.dim_output))\n",
    "rom_interp = interp.reduce(sigma, b, c)"
   ]
  },
  {
   "cell_type": "code",
   "execution_count": null,
   "id": "507e6838",
   "metadata": {
    "slideshow": {
     "slide_type": "subslide"
    }
   },
   "outputs": [],
   "source": [
    "_ = fom.transfer_function.mag_plot(w, label='FOM')\n",
    "_ = rom_mt.transfer_function.mag_plot(w, label='MT')\n",
    "_ = rom_bt.transfer_function.mag_plot(w, label='BT')\n",
    "_ = rom_interp.transfer_function.mag_plot(w, label='Interpolation')\n",
    "_ = plt.legend()"
   ]
  },
  {
   "cell_type": "code",
   "execution_count": null,
   "id": "1405689c",
   "metadata": {
    "slideshow": {
     "slide_type": "subslide"
    }
   },
   "outputs": [],
   "source": [
    "err_interp = fom - rom_interp"
   ]
  },
  {
   "cell_type": "code",
   "execution_count": null,
   "id": "3f394f72",
   "metadata": {
    "slideshow": {
     "slide_type": "-"
    }
   },
   "outputs": [],
   "source": [
    "_ = err_mt.transfer_function.mag_plot(w, label='MT')\n",
    "_ = err_bt.transfer_function.mag_plot(w, label='BT')\n",
    "_ = err_interp.transfer_function.mag_plot(w, label='Interpolation')\n",
    "_ = plt.legend()"
   ]
  },
  {
   "cell_type": "markdown",
   "id": "3a0c72ea",
   "metadata": {
    "slideshow": {
     "slide_type": "subslide"
    }
   },
   "source": [
    "### Iterative Rational Krylov Algorithm (IRKA)\n",
    "\n",
    "> #### $\\cH_2$-optimal MOR problem\n",
    ">\n",
    "> Find a stable $\\hH$ of order $r$ such that $\\lVert H - \\hH \\rVert_{\\cH_{2}}$\n",
    "> is minimized."
   ]
  },
  {
   "cell_type": "markdown",
   "id": "3d8ad079",
   "metadata": {
    "slideshow": {
     "slide_type": "fragment"
    }
   },
   "source": [
    "> #### Interpolatory necessary $\\cH_2$-optimality conditions\n",
    ">\n",
    "> Let $\\hH(s) = \\sum_{i = 1}^r \\frac{\\phi_i}{s - \\lambda_i}$ be an\n",
    "> $\\cH_2$-optimal reduced-order model for $H$.\n",
    "> Then\n",
    "> $$\n",
    "  \\begin{align*}\n",
    "    H\\!\\left(-\\overline{\\lambda_i}\\right)\n",
    "    & = \\hH\\!\\left(-\\overline{\\lambda_i}\\right), \\\\\n",
    "    H'\\!\\left(-\\overline{\\lambda_i}\\right)\n",
    "    & = \\hH'\\!\\left(-\\overline{\\lambda_i}\\right),\n",
    "  \\end{align*}\n",
    "  $$\n",
    "> for $i = 1, 2, \\ldots, r$."
   ]
  },
  {
   "cell_type": "markdown",
   "id": "314662d6",
   "metadata": {
    "slideshow": {
     "slide_type": "subslide"
    }
   },
   "source": [
    "> ***Hermite interpolation*** of the transfer function is necessary for $\\cH_2$-optimality."
   ]
  },
  {
   "cell_type": "markdown",
   "id": "3542bc8c",
   "metadata": {
    "slideshow": {
     "slide_type": "fragment"
    }
   },
   "source": [
    "> #### IRKA (pyMOR: [`IRKAReductor`](https://docs.pymor.org/2023-1-0/autoapi/pymor/reductors/h2/index.html?highlight=irkared#pymor.reductors.h2.IRKAReductor))\n",
    ">\n",
    "> Fixed point iteration based on interpolatory necessary optimality conditions."
   ]
  },
  {
   "cell_type": "code",
   "execution_count": null,
   "id": "ed84bbee",
   "metadata": {
    "slideshow": {
     "slide_type": "subslide"
    }
   },
   "outputs": [],
   "source": [
    "from pymor.reductors.h2 import IRKAReductor\n",
    "\n",
    "irka = IRKAReductor(fom)\n",
    "rom_irka = irka.reduce(10)"
   ]
  },
  {
   "cell_type": "code",
   "execution_count": null,
   "id": "bebf0179",
   "metadata": {
    "slideshow": {
     "slide_type": "subslide"
    }
   },
   "outputs": [],
   "source": [
    "_ = fom.transfer_function.mag_plot(w, label='FOM')\n",
    "_ = rom_mt.transfer_function.mag_plot(w, label='MT')\n",
    "_ = rom_bt.transfer_function.mag_plot(w, label='BT')\n",
    "_ = rom_interp.transfer_function.mag_plot(w, label='Interpolation')\n",
    "_ = rom_irka.transfer_function.mag_plot(w, label='IRKA')\n",
    "_ = plt.legend()"
   ]
  },
  {
   "cell_type": "code",
   "execution_count": null,
   "id": "a5c93ffe",
   "metadata": {
    "slideshow": {
     "slide_type": "subslide"
    }
   },
   "outputs": [],
   "source": [
    "err_irka = fom - rom_irka"
   ]
  },
  {
   "cell_type": "code",
   "execution_count": null,
   "id": "f2ec0380",
   "metadata": {
    "slideshow": {
     "slide_type": "-"
    }
   },
   "outputs": [],
   "source": [
    "_ = err_mt.transfer_function.mag_plot(w, label='MT')\n",
    "_ = err_bt.transfer_function.mag_plot(w, label='BT')\n",
    "_ = err_interp.transfer_function.mag_plot(w, label='Interpolation')\n",
    "_ = err_irka.transfer_function.mag_plot(w, label='IRKA')\n",
    "_ = plt.legend()"
   ]
  },
  {
   "cell_type": "markdown",
   "id": "8365509c",
   "metadata": {
    "slideshow": {
     "slide_type": "subslide"
    }
   },
   "source": [
    "#### Exercise\n",
    "\n",
    "- Compute 5 random values `sigma` in the interval $[0,1000]$ using `np.random.rand`. Then use the [`TFBHIReductor`](https://docs.pymor.org/2023-1-0/autoapi/pymor/reductors/interpolation/index.html?highlight=tfbhi#pymor.reductors.interpolation.TFBHIReductor) to compute a ROM which interpolates `fom.transfer_function` at the random values and its complex conjugates along the imaginary axis (i.e., use interpolation points `np.concatenate((1j * sigma, -1j * sigma))`). Compute the relative $\\cH_{2}$-error of the resulting ROM. Compare it to the relative $\\cH_{2}$-error of the interpolation points chosen in the example above where we chose `sigma = np.array([50, 100, 200, 400, 800])`.\n",
    "- Repeat the previous computations with 10 random values (i.e., a total of 20 interpolation points).\n",
    "- Use the `sigma` specified below as an initial guess for the [`reduce`](https://docs.pymor.org/2023-1-0/autoapi/pymor/reductors/h2/index.html?highlight=irkared#pymor.reductors.h2.IRKAReductor.reduce) method of the [`IRKAReductor`](https://docs.pymor.org/2023-1-0/autoapi/pymor/reductors/h2/index.html?highlight=irkared#pymor.reductors.h2.IRKAReductor):\n",
    "```\n",
    "sigma = np.array([50, 100, 200, 400, 800]);\n",
    "sigma = np.concatenate((1j * sigma, -1j * sigma))\n",
    "```"
   ]
  },
  {
   "cell_type": "code",
   "execution_count": null,
   "id": "7e351802",
   "metadata": {},
   "outputs": [],
   "source": []
  },
  {
   "cell_type": "markdown",
   "id": "baa73153",
   "metadata": {
    "slideshow": {
     "slide_type": "subslide"
    }
   },
   "source": [
    "<center>Questions?</center>"
   ]
  }
 ],
 "metadata": {
  "kernelspec": {
   "display_name": "Python 3 (ipykernel)",
   "language": "python",
   "name": "python3"
  }
 },
 "nbformat": 4,
 "nbformat_minor": 5
}
