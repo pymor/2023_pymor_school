{
 "cells": [
  {
   "cell_type": "code",
   "execution_count": 1,
   "id": "ea80b196-5ace-4bcd-9150-344109833c89",
   "metadata": {
    "editable": true,
    "slideshow": {
     "slide_type": "skip"
    },
    "tags": []
   },
   "outputs": [],
   "source": [
    "# Fix `from_passive_LTIModel`\n",
    "# Add calls to contract() for J,R,G,P\n",
    "\n",
    "from pymor.models.iosys import PHLTIModel\n",
    "from pymor.operators.constructions import (\n",
    "    InverseOperator,\n",
    "    VectorArrayOperator\n",
    ")\n",
    "from pymor.algorithms.simplify import contract\n",
    "\n",
    "def from_passive_LTIModel(model):\n",
    "    # Determine solution of KYP inequality\n",
    "    L = VectorArrayOperator(model.gramian('pr_o_lrcf'), adjoint=True)\n",
    "    X = L.H @ L\n",
    "\n",
    "    Q = X\n",
    "    E = model.E\n",
    "    J = contract(0.5 * (model.A @ InverseOperator(X) - InverseOperator(X) @ model.A.H))\n",
    "    R = contract(-0.5 * (model.A @ InverseOperator(X) + InverseOperator(X) @ model.A.H))\n",
    "    G = contract(0.5 * (InverseOperator(X) @ model.C.H + model.B))\n",
    "    P = contract(0.5 * (InverseOperator(X) @ model.C.H - model.B))\n",
    "    S = 0.5 * (model.D + model.D.H)\n",
    "    N = 0.5 * (model.D - model.D.H)\n",
    "\n",
    "    return PHLTIModel(E=E, J=J, R=R, G=G, P=P, S=S, N=N, Q=Q, solver_options=model.solver_options,\n",
    "               error_estimator=model.error_estimator, visualizer=model.visualizer, name=model.name)\n",
    "\n",
    "PHLTIModel.from_passive_LTIModel = from_passive_LTIModel"
   ]
  },
  {
   "cell_type": "markdown",
   "id": "8bd3a1f2-e37e-438c-b0a0-f530704f92e8",
   "metadata": {
    "editable": true,
    "slideshow": {
     "slide_type": ""
    },
    "tags": []
   },
   "source": [
    "# LTI systems\n",
    "\n",
    "$$\n",
    "\\begin{align}\n",
    "E\\dot{x}(t) &= Ax(t) + Bu(t) \\tag{LTI1} \\\\\n",
    "y(t) &= Cx(t) + Du(t) \\tag{LTI2}\n",
    "\\end{align}\n",
    "$$\n",
    "\n",
    "with matrices\n",
    "\n",
    "$$\n",
    "\\begin{align*}\n",
    "  E, A \\in \\mathbb{R}^{n,n}, \\qquad\n",
    "  B \\in \\mathbb{R}^{n,m}, \\qquad\n",
    "  C \\in \\mathbb{R}^{m,n}, \\quad\\text{and}\\quad\n",
    "  D \\in \\mathbb{R}^{m,m}.\n",
    "\\end{align*}\n",
    "$$\n",
    "\n",
    "Here,\n",
    "\n",
    "- $x(t) \\in \\mathbb{R}^n$ is called the *state*,\n",
    "- $u(t) \\in \\mathbb{R}^m$ is called the *input*,\n",
    "- $y(t) \\in \\mathbb{R}^m$ is called the *output*."
   ]
  },
  {
   "cell_type": "markdown",
   "id": "3ce2c0e6-baa0-48c3-97c0-7591e74b3503",
   "metadata": {
    "editable": true,
    "slideshow": {
     "slide_type": "fragment"
    },
    "tags": []
   },
   "source": [
    "We denote the system by $\\Sigma = (E,A,B,C,D)$.\n",
    "\n",
    "Transfer function $G(s) := C(sE-A)^{-1}B+D$."
   ]
  },
  {
   "cell_type": "markdown",
   "id": "04eb102e-01a3-4aad-93eb-61df941210ed",
   "metadata": {
    "editable": true,
    "slideshow": {
     "slide_type": "slide"
    },
    "tags": []
   },
   "source": [
    "# Assumptions\n",
    "\n",
    "- Only continuous-time systems,\n",
    "- $E$ nonsingular (no differential-algebraic systems),\n",
    "- No parameter dependencies,\n",
    "- No non-linearities."
   ]
  },
  {
   "cell_type": "markdown",
   "id": "5a28c5fe-a779-4cff-b337-d8748606ea82",
   "metadata": {
    "editable": true,
    "slideshow": {
     "slide_type": "slide"
    },
    "tags": []
   },
   "source": [
    "# Caveats\n",
    "\n",
    "Currently, at several places dense solvers/algorithms are involved copying all data to numpy.\n",
    "\n",
    "For example, currently, computation of positive-real Gramians might call dense solvers, despite of `_lrcf` suffix. "
   ]
  },
  {
   "cell_type": "markdown",
   "id": "b4d923da-fa5a-42c3-88a0-27de0f2a30da",
   "metadata": {
    "editable": true,
    "slideshow": {
     "slide_type": "slide"
    },
    "tags": []
   },
   "source": [
    "# Port-Hamiltonian systems\n",
    "\n",
    "Structured LTI system\n",
    "\n",
    "$$\n",
    "\\begin{align}\n",
    "    E \\dot{x}(t) & = (J - R) Q x(t) + (G-P) u(t),\\\\\n",
    "    y(t) & = (G+P)^T Q x(t) + (S-N) u(t)\n",
    "\\end{align}\n",
    "$$\n",
    "\n",
    "$$\n",
    "E,J,R,Q \\in \\mathbb{R}^{n,n}, \\qquad\n",
    "G,P \\in \\mathbb{R}^{n,m},\n",
    "\\qquad S,N \\in \\mathbb{R}^{m,m}\n",
    "$$"
   ]
  },
  {
   "cell_type": "markdown",
   "id": "bf75575d-5280-45b3-ac5c-e0ddb0c11928",
   "metadata": {
    "editable": true,
    "slideshow": {
     "slide_type": "fragment"
    },
    "tags": []
   },
   "source": [
    "$$\n",
    "\\text{Let} \\quad H := Q^T E, \\qquad\n",
    "\\text{structure matrix}\\ \\Gamma :=\n",
    "\\begin{bmatrix}\n",
    "    J & G \\\\\n",
    "    -G^T & N\n",
    "\\end{bmatrix}, \\qquad\n",
    "\\text{dissipation matrix}\\ \\mathcal{W} :=\n",
    "\\begin{bmatrix}\n",
    "    R & P \\\\\n",
    "    P^T & S\n",
    "\\end{bmatrix}.\n",
    "$$"
   ]
  },
  {
   "cell_type": "markdown",
   "id": "cd106d36-26e1-4879-ae27-0f26894444ac",
   "metadata": {
    "editable": true,
    "slideshow": {
     "slide_type": "fragment"
    },
    "tags": []
   },
   "source": [
    "The LTI system is *port-Hamiltonian* if it holds:\n",
    "\n",
    "$$\n",
    "H = H^T \\succ 0, \\quad\n",
    "\\Gamma^T = -\\Gamma \\quad \\text{and} \\quad\n",
    "\\mathcal{W} = \\mathcal{W}^T \\succcurlyeq 0.\n",
    "$$"
   ]
  },
  {
   "cell_type": "markdown",
   "id": "8b9efa74-e3cc-4c91-9ede-6150e2507562",
   "metadata": {
    "editable": true,
    "slideshow": {
     "slide_type": "fragment"
    },
    "tags": []
   },
   "source": [
    "energy function/Hamiltonian $\\mathcal{H}(x) := \\tfrac{1}{2} x^T H x$"
   ]
  },
  {
   "cell_type": "markdown",
   "id": "c5682f27-93f6-4dc6-9d1f-09703dc4a5de",
   "metadata": {
    "editable": true,
    "slideshow": {
     "slide_type": "slide"
    },
    "tags": []
   },
   "source": [
    "# Simple example: RLC circuit"
   ]
  },
  {
   "cell_type": "markdown",
   "id": "041e0ada-87ef-4302-ac9d-c0cc1bb12da5",
   "metadata": {
    "editable": true,
    "slideshow": {
     "slide_type": ""
    },
    "tags": []
   },
   "source": [
    "<img style=\"float: left;\" src=\"rlc_circuit.svg\" width=\"60%\">"
   ]
  },
  {
   "cell_type": "markdown",
   "id": "821416d1-e23e-4f20-8325-d3b27b051c13",
   "metadata": {
    "editable": true,
    "slideshow": {
     "slide_type": "subslide"
    },
    "tags": []
   },
   "source": [
    "# Simple example: RLC circuit\n",
    "\n",
    "Circuit equations:\n",
    "\n",
    "$$\n",
    "\\begin{aligned}\n",
    "    U - U_\\mathcal{R} - U_L - U_C &= 0,\\\\\n",
    "    U_\\mathcal{R} &= \\mathcal{R} \\mathcal{I}, \\quad\n",
    "    U_L = L\\dot{\\mathcal{I}}\\\\\n",
    "    \\mathcal{I} &= C\\dot{U}_C.\n",
    "\\end{aligned}\n",
    "$$"
   ]
  },
  {
   "cell_type": "markdown",
   "id": "b6172dc2-83b1-47eb-8004-1f9bed638a62",
   "metadata": {
    "editable": true,
    "slideshow": {
     "slide_type": "fragment"
    },
    "tags": []
   },
   "source": [
    "Insert the second and third equation into the first equation:\n",
    "\n",
    "$$\n",
    "\\begin{align*}\n",
    "    L\\dot{\\mathcal{I}}&=U-\\mathcal{R} \\mathcal{I}-U_C\\\\\n",
    "    \\mathcal{I}&=C\\dot{U}_C\n",
    "\\end{align*}\n",
    "$$"
   ]
  },
  {
   "cell_type": "markdown",
   "id": "ace6a3f2-0a99-4c88-b86a-6d550c1526d4",
   "metadata": {
    "editable": true,
    "slideshow": {
     "slide_type": "fragment"
    },
    "tags": []
   },
   "source": [
    "Write in matrix form and amend an output equation:\n",
    "\n",
    "$$\n",
    "\\begin{align}\n",
    "    \\begin{bmatrix}\n",
    "        C&0\\\\0&L\n",
    "    \\end{bmatrix} \\begin{bmatrix}\n",
    "        \\dot{U}_C\\\\\\dot{\\mathcal{I}}\n",
    "    \\end{bmatrix} &= \\begin{bmatrix}\n",
    "        0&1\\\\-1&-\\mathcal{R}\n",
    "    \\end{bmatrix} \\begin{bmatrix}\n",
    "        U_C\\\\\\mathcal{I}\n",
    "    \\end{bmatrix} + \\begin{bmatrix}\n",
    "        0\\\\1\n",
    "    \\end{bmatrix} U \\\\\n",
    "    \\mathcal{I} &= \\begin{bmatrix}\n",
    "        0&1\n",
    "    \\end{bmatrix} \\begin{bmatrix}\n",
    "        U_C\\\\\\mathcal{I}\n",
    "    \\end{bmatrix}\n",
    "\\end{align}\n",
    "$$"
   ]
  },
  {
   "cell_type": "markdown",
   "id": "486e88cc-e29d-44d8-a199-66246ac472fa",
   "metadata": {
    "editable": true,
    "slideshow": {
     "slide_type": "slide"
    },
    "tags": []
   },
   "source": [
    "Note: \n",
    "- The product of the output and\n",
    "input $IU$ corresponds to the electrical power supplied to the circuit.\n",
    "- The Hamiltonian $H = \\frac{1}{2} CU_C^2 + \\frac{1}{2} L\\mathcal{I}^2$ corresponds to the energy\n",
    "stored in the circuit by the capacitance and inductance."
   ]
  },
  {
   "cell_type": "markdown",
   "id": "15933561-5970-4959-811a-8d425ef6a3f3",
   "metadata": {
    "editable": true,
    "slideshow": {
     "slide_type": "slide"
    },
    "tags": []
   },
   "source": [
    "# More system-theoretic properties\n",
    "\n",
    "### Passive\n",
    "\n",
    "We call an LTI system *passive*, if there\n",
    "exists a matrix $Q$ with $Q^TE = E^TQ$, such that for all $x_0 \\in \\mathbb{R}^n$ and trajectories\n",
    "$(x,u,y)$ satisfying $\\mathrm{(LTI1,LTI2)}$, the function\n",
    "$S(x) := \\frac{1}{2} x^T Q^TE x$, called the\n",
    "*storage function*, satisfies\n",
    "\n",
    "$$\n",
    "S(x(T)) - S(x(0)) \\leq \\int_0^T y(s)^Tu(s)\\ \\mathrm{d}s\n",
    "\\quad \\text{and} \\quad\n",
    "S(x(T)) \\geq 0 \\quad \\text{for all $T\\geq 0$}.\n",
    "$$"
   ]
  },
  {
   "cell_type": "markdown",
   "id": "735d523e-2d0e-46cb-bb9c-d48cda5f8db9",
   "metadata": {
    "editable": true,
    "slideshow": {
     "slide_type": "fragment"
    },
    "tags": []
   },
   "source": [
    "### Positive-real\n",
    "\n",
    "We call an LTI system *positive real*,\n",
    "if its transfer function $G$ has no poles in $\\mathbb{C}^+$, i.e. the system is\n",
    "stable, and if $G(s) + (G(s))^H \\geq 0$ for all $s \\in \\mathbb{C}^+$."
   ]
  },
  {
   "cell_type": "markdown",
   "id": "579cd1cf-3fec-4ab0-9517-7bfa13e7826e",
   "metadata": {
    "editable": true,
    "slideshow": {
     "slide_type": "slide"
    },
    "tags": []
   },
   "source": [
    "# More system-theoretic properties\n",
    "\n",
    "### KYP-LMI\n",
    "\n",
    "An LTI system has a solution to the *KYP-LMI* if there exists a matrix $X \\in \\mathbb{R}^{n,n}$ satisfying\n",
    "\n",
    "$$\n",
    "\\mathcal{W}_E(X) := \\begin{bmatrix}\n",
    "    -A^TXE-E^TXA&C^T-E^TXB\\\\\n",
    "    C-B^TXE&D+D^T\n",
    "\\end{bmatrix} \\geq 0 \\quad\n",
    "\\text{and} \\quad X=X^T > 0.\n",
    "\\tag{KYP}\n",
    "$$"
   ]
  },
  {
   "cell_type": "markdown",
   "id": "d803c566-5e46-4e3d-81bb-c28785aa0428",
   "metadata": {
    "editable": true,
    "slideshow": {
     "slide_type": "slide"
    },
    "tags": []
   },
   "source": [
    "If an LTI system is minimal, the following are equivalent:\n",
    "\n",
    "- The system is port-Hamiltonian;\n",
    "- The system is passive;\n",
    "- The system is positive-real;\n",
    "- There exists a matrix $X$ satisfying the KYP-LMI."
   ]
  },
  {
   "cell_type": "markdown",
   "id": "a244c180-336b-41a4-b52f-d319257f5f69",
   "metadata": {
    "editable": true,
    "slideshow": {
     "slide_type": "fragment"
    },
    "tags": []
   },
   "source": [
    "Furthermore:\n",
    "\n",
    "A matrix $X$ satisfying the KYP-LMI gives a $Q$ for a port-Hamiltonian representation (and vice-versa)."
   ]
  },
  {
   "cell_type": "markdown",
   "id": "133c4acb-f582-48cb-a6b7-8ebad813f8fc",
   "metadata": {
    "editable": true,
    "slideshow": {
     "slide_type": "slide"
    },
    "tags": []
   },
   "source": [
    "### Riccati equation\n",
    "\n",
    "If $(D + D^T)^{-1}$ is invertible, a solution to the *Riccati equation*\n",
    "\n",
    "$$\n",
    "A^T X E + E^T X A + (C^T - E^T X B) (D + D^T)^{-1} (C - B^T X E) = 0, \\quad X=X^T\n",
    "$$\n",
    "\n",
    "is also a solution to the KYP-LMI (use Schur-Complement)."
   ]
  },
  {
   "cell_type": "markdown",
   "id": "98ce0d79-6240-4e6d-9852-116b06301776",
   "metadata": {
    "editable": true,
    "slideshow": {
     "slide_type": "fragment"
    },
    "tags": []
   },
   "source": [
    "It is known that there exist symmetric matrices $X_\\mathrm{min}$ and $X_\\mathrm{max}$ such that the symmetric solutions of  the Riccati equation are bounded in the sense of\n",
    "\n",
    "$$\n",
    "X_\\mathrm{min} \\leq X \\leq X_\\mathrm{max}.\n",
    "$$\n",
    "\n",
    "If LTI system is minimal and passive, then $0 < X_\\mathrm{min}$."
   ]
  },
  {
   "cell_type": "markdown",
   "id": "bf41f3c3-42cd-48e5-99d5-af5c9c6b6425",
   "metadata": {
    "editable": true,
    "slideshow": {
     "slide_type": "slide"
    },
    "tags": []
   },
   "source": [
    "# Slycot\n",
    "\n",
    "Dense matrix equation solvers for system-theoretic methods and H-infinity norm calculation (requires OpenBLAS headers and a Fortran compiler)\n",
    "\n",
    "```\n",
    "$ pip install slycot\n",
    "```"
   ]
  },
  {
   "cell_type": "markdown",
   "id": "d5bbd9f2-89cd-42dc-a9a7-ce2ca01d41e3",
   "metadata": {
    "editable": true,
    "raw_mimetype": "",
    "slideshow": {
     "slide_type": "slide"
    },
    "tags": []
   },
   "source": [
    "# A toy problem: Mass-spring-damper chain"
   ]
  },
  {
   "cell_type": "markdown",
   "id": "4fecf17f-a13a-4ab8-8678-68404d42f9c1",
   "metadata": {
    "editable": true,
    "raw_mimetype": "",
    "slideshow": {
     "slide_type": ""
    },
    "tags": []
   },
   "source": [
    "<img style=\"float: left;\" src=\"msd_example.svg\" width=\"70%\">"
   ]
  },
  {
   "cell_type": "markdown",
   "id": "af7df938-55b7-4dc6-83c1-63ec3242cf04",
   "metadata": {
    "editable": true,
    "slideshow": {
     "slide_type": ""
    },
    "tags": []
   },
   "source": [
    "The inputs $u_1$ and $u_2$ are the external forces on the first two\n",
    "masses $m_1$ and $m_2$.\n",
    "\n",
    "The system outputs $y_1$ and $y_2$\n",
    "correspond to the velocities of the first two masses $m_1$ and $m_2$.\n",
    "\n",
    "Here, for $i=1,\\dots,n/2$:\n",
    "- spring constants $k_i$,\n",
    "- damping constants $c_i$."
   ]
  },
  {
   "cell_type": "code",
   "execution_count": 2,
   "id": "df656149-aa0e-4636-b399-b9221bbb6f69",
   "metadata": {
    "editable": true,
    "slideshow": {
     "slide_type": "slide"
    },
    "tags": []
   },
   "outputs": [],
   "source": [
    "import numpy as np\n",
    "from pymor.models.iosys import PHLTIModel\n",
    "from pymordemos.phlti import msd\n",
    "\n",
    "J, R, G, P, S, N, E, Q = msd(50, 2)\n",
    "\n",
    "# tolerance for solving the Riccati equation instead of KYP-LMI\n",
    "# by introducing a regularization feedthrough term D\n",
    "# (required for PRBTReductor and SpectralFactorReductor reductors)\n",
    "S += np.eye(S.shape[0]) * 1e-12\n",
    "\n",
    "fom = PHLTIModel.from_matrices(J, R, G, P=P, S=S, N=N, E=E, Q=Q, solver_options={'ricc_pos_lrcf': 'slycot'})"
   ]
  },
  {
   "cell_type": "code",
   "execution_count": 3,
   "id": "4a5db246-f809-4eec-ac96-e646ae89d2b6",
   "metadata": {
    "editable": true,
    "slideshow": {
     "slide_type": "fragment"
    },
    "tags": []
   },
   "outputs": [
    {
     "name": "stdout",
     "output_type": "stream",
     "text": [
      "PHLTIModel\n",
      "    class: PHLTIModel\n",
      "    number of equations: 50\n",
      "    number of inputs:    2\n",
      "    number of outputs:   2\n",
      "    continuous-time\n",
      "    port-Hamiltonian\n",
      "    linear time-invariant\n",
      "    solution_space:  NumpyVectorSpace(50, id='STATE')\n"
     ]
    }
   ],
   "source": [
    "print(fom)"
   ]
  },
  {
   "cell_type": "code",
   "execution_count": 4,
   "id": "898ef1ef-2e95-4571-ae2f-4216fc73f26e",
   "metadata": {
    "editable": true,
    "slideshow": {
     "slide_type": "slide"
    },
    "tags": []
   },
   "outputs": [
    {
     "data": {
      "image/png": "[encoded data removed]",
      "text/plain": [
       "<Figure size 640x480 with 1 Axes>"
      ]
     },
     "metadata": {},
     "output_type": "display_data"
    }
   ],
   "source": [
    "w = (1e-4, 1e3)\n",
    "_ = fom.transfer_function.mag_plot(w)"
   ]
  },
  {
   "cell_type": "code",
   "execution_count": 5,
   "id": "a3a356f7-1781-4a5b-88ca-5fbb8cac0e8a",
   "metadata": {
    "editable": true,
    "slideshow": {
     "slide_type": "fragment"
    },
    "tags": []
   },
   "outputs": [
    {
     "data": {
      "text/plain": [
       "True"
      ]
     },
     "execution_count": 5,
     "metadata": {},
     "output_type": "execute_result"
    }
   ],
   "source": [
    "from pymor.models.iosys import LTIModel\n",
    "isinstance(fom, LTIModel) # PHLTIModel inherits from LTIModel"
   ]
  },
  {
   "cell_type": "markdown",
   "id": "927d37b6-d270-4b0b-8a31-e52728028125",
   "metadata": {
    "editable": true,
    "slideshow": {
     "slide_type": "slide"
    },
    "tags": []
   },
   "source": [
    "# Structure-preserving MOR\n",
    "\n",
    "**Goal**: Preserve the port-Hamiltonian structure, i.e., compute a ROM that is also port-Hamiltonian.\n",
    "\n",
    "We have a look at:\n",
    "\n",
    "- pH-IRKA ([`PHIRKAReductor`](https://docs.pymor.org/2023-1-0/autoapi/pymor/reductors/ph/ph_irka/index.html#pymor.reductors.ph.ph_irka.PHIRKAReductor)) [GPBvandSchaft12],\n",
    "- PRBT ([`PRBTReductor`](https://docs.pymor.org/2023-1-0/autoapi/pymor/reductors/bt/index.html#pymor.reductors.bt.PRBTReductor)) [DP84, GA04, HJS84],\n",
    "- passivity preserving model reduction via spectral factorization\n",
    "  ([`SpectralFactorReductor`](https://docs.pymor.org/2023-1-0/autoapi/pymor/reductors/spectral_factor/index.html#pymor.reductors.spectral_factor.SpectralFactorReductor)) [BU22]."
   ]
  },
  {
   "cell_type": "markdown",
   "id": "106b5172-6809-4fb9-94ce-ae24527f624a",
   "metadata": {
    "editable": true,
    "slideshow": {
     "slide_type": "slide"
    },
    "tags": []
   },
   "source": [
    "# pH-IRKA [GPBvandSchaft12]\n",
    "\n",
    "**Projection-based MOR $V,W \\in \\mathbb{R}^{n,r}$:**\n",
    "\n",
    "$$\n",
    "\\begin{align}\n",
    "    \\underbrace{(W^T E V)}_{= \\hat{E}} \\dot{\\hat{x}} &=\n",
    "    \\underbrace{(W^TAV)}_{= \\hat{A}}\\hat{x}\n",
    "    + \\underbrace{(W^TB)}_{= \\hat{B}}u \\\\\n",
    "    y &= \\underbrace{(CV)}_{= \\hat{C}}\\hat{x}\n",
    "    + \\underbrace{D}_{= \\hat{D}}u\n",
    "\\end{align}\n",
    "$$"
   ]
  },
  {
   "cell_type": "markdown",
   "id": "0cc68dc5-9579-415d-a574-90de7fe6e7d5",
   "metadata": {
    "editable": true,
    "slideshow": {
     "slide_type": "fragment"
    },
    "tags": []
   },
   "source": [
    "The IRKA fixed-point iteration is performed,\n",
    "but the left projection matrix is chosen as $W := QV$.\n",
    "This yields a pH ROM with:\n",
    "\n",
    "- $\\hat{E} = W^TEV= V^TQ^TEV$,\n",
    "- $\\hat{Q} = I$,\n",
    "- $\\hat{A} = W^TAV = W^T (J-R) QV =\n",
    "\\underbrace{V^T Q^TJ QV}_{=\\hat{J}} - \\underbrace{V^TQ^T R QV}_{=\\hat{R}}$,\n",
    "- $\\hat{B} = W^TB = W^T(G-P) = \\underbrace{V^TQ^TG}_{=\\hat{G}} - \\underbrace{V^TQ^TP}_{=\\hat{P}}$,\n",
    "- $\\hat{C} = CV = (G+P)^TQV = \\underbrace{G^TQV}_{=\\hat{G}^T} + \\underbrace{P^TQV}_{=\\hat{P}^T}$,\n",
    "- $\\hat{S} = S$ and $\\hat{N} = N$."
   ]
  },
  {
   "cell_type": "code",
   "execution_count": 6,
   "id": "4fee02e7-ba10-4f2d-a575-bee97781838c",
   "metadata": {
    "collapsed": true,
    "editable": true,
    "jupyter": {
     "outputs_hidden": true
    },
    "scrolled": true,
    "slideshow": {
     "slide_type": "slide"
    },
    "tags": []
   },
   "outputs": [
    {
     "name": "stderr",
     "output_type": "stream",
     "text": [
      "00:00 \u001b[1mPHIRKAReductor\u001b[0m: Generating initial interpolation data\n",
      "00:00 \u001b[1mPHIRKAReductor\u001b[0m: Starting pH-IRKA\n",
      "00:00 \u001b[1mgram_schmidt\u001b[0m: Orthonormalizing vector 2 again\n",
      "00:00 \u001b[1mgram_schmidt\u001b[0m: Orthonormalizing vector 3 again\n",
      "00:00 \u001b[1mgram_schmidt\u001b[0m: Orthonormalizing vector 4 again\n",
      "00:00 \u001b[1mgram_schmidt\u001b[0m: Orthonormalizing vector 5 again\n",
      "00:00 \u001b[1mgram_schmidt\u001b[0m: Orthonormalizing vector 6 again\n",
      "00:00 \u001b[1mgram_schmidt\u001b[0m: Orthonormalizing vector 7 again\n",
      "00:00 \u001b[1mgram_schmidt\u001b[0m: Orthonormalizing vector 8 again\n",
      "00:00 \u001b[1mgram_schmidt\u001b[0m: Orthonormalizing vector 9 again\n",
      "00:00 \u001b[1mPHLTIPGReductor\u001b[0m: Operator projection ...\n",
      "00:00 \u001b[1mPHLTIPGReductor\u001b[0m: Building ROM ...\n",
      "00:00 \u001b[1mPHIRKAReductor\u001b[0m: Convergence criterion in iteration 1: 1.808009e+01\n",
      "00:00 \u001b[1mgram_schmidt\u001b[0m: Orthonormalizing vector 2 again\n",
      "00:00 \u001b[1mgram_schmidt\u001b[0m: Orthonormalizing vector 3 again\n",
      "00:00 \u001b[1mgram_schmidt\u001b[0m: Orthonormalizing vector 4 again\n",
      "00:00 \u001b[1mgram_schmidt\u001b[0m: Orthonormalizing vector 5 again\n",
      "00:00 \u001b[1mgram_schmidt\u001b[0m: Orthonormalizing vector 6 again\n",
      "00:00 \u001b[1mgram_schmidt\u001b[0m: Orthonormalizing vector 7 again\n",
      "00:00 \u001b[1mgram_schmidt\u001b[0m: Orthonormalizing vector 8 again\n",
      "00:00 \u001b[1mgram_schmidt\u001b[0m: Orthonormalizing vector 9 again\n",
      "00:00 \u001b[1mPHLTIPGReductor\u001b[0m: Operator projection ...\n",
      "00:00 \u001b[1mPHLTIPGReductor\u001b[0m: Building ROM ...\n",
      "00:00 \u001b[1mPHIRKAReductor\u001b[0m: Convergence criterion in iteration 2: 2.979038e-01\n",
      "00:00 \u001b[1mgram_schmidt\u001b[0m: Orthonormalizing vector 2 again\n",
      "00:00 \u001b[1mgram_schmidt\u001b[0m: Orthonormalizing vector 3 again\n",
      "00:00 \u001b[1mgram_schmidt\u001b[0m: Orthonormalizing vector 4 again\n",
      "00:00 \u001b[1mgram_schmidt\u001b[0m: Orthonormalizing vector 5 again\n",
      "00:00 \u001b[1mgram_schmidt\u001b[0m: Orthonormalizing vector 6 again\n",
      "00:00 \u001b[1mgram_schmidt\u001b[0m: Orthonormalizing vector 7 again\n",
      "00:00 \u001b[1mgram_schmidt\u001b[0m: Orthonormalizing vector 8 again\n",
      "00:00 \u001b[1mgram_schmidt\u001b[0m: Orthonormalizing vector 9 again\n",
      "00:00 \u001b[1mPHLTIPGReductor\u001b[0m: Operator projection ...\n",
      "00:00 \u001b[1mPHLTIPGReductor\u001b[0m: Building ROM ...\n",
      "00:00 \u001b[1mPHIRKAReductor\u001b[0m: Convergence criterion in iteration 3: 2.343049e-01\n",
      "00:00 \u001b[1mgram_schmidt\u001b[0m: Orthonormalizing vector 2 again\n",
      "00:00 \u001b[1mgram_schmidt\u001b[0m: Orthonormalizing vector 3 again\n",
      "00:00 \u001b[1mgram_schmidt\u001b[0m: Orthonormalizing vector 4 again\n",
      "00:00 \u001b[1mgram_schmidt\u001b[0m: Orthonormalizing vector 5 again\n",
      "00:00 \u001b[1mgram_schmidt\u001b[0m: Orthonormalizing vector 6 again\n",
      "00:00 \u001b[1mgram_schmidt\u001b[0m: Orthonormalizing vector 7 again\n",
      "00:00 \u001b[1mgram_schmidt\u001b[0m: Orthonormalizing vector 8 again\n",
      "00:00 \u001b[1mgram_schmidt\u001b[0m: Orthonormalizing vector 9 again\n",
      "00:00 \u001b[1mPHLTIPGReductor\u001b[0m: Operator projection ...\n",
      "00:00 \u001b[1mPHLTIPGReductor\u001b[0m: Building ROM ...\n",
      "00:00 \u001b[1mPHIRKAReductor\u001b[0m: Convergence criterion in iteration 4: 2.217711e-01\n",
      "00:00 \u001b[1mgram_schmidt\u001b[0m: Orthonormalizing vector 2 again\n",
      "00:00 \u001b[1mgram_schmidt\u001b[0m: Orthonormalizing vector 3 again\n",
      "00:00 \u001b[1mgram_schmidt\u001b[0m: Orthonormalizing vector 4 again\n",
      "00:00 \u001b[1mgram_schmidt\u001b[0m: Orthonormalizing vector 5 again\n",
      "00:00 \u001b[1mgram_schmidt\u001b[0m: Orthonormalizing vector 6 again\n",
      "00:00 \u001b[1mgram_schmidt\u001b[0m: Orthonormalizing vector 7 again\n",
      "00:00 \u001b[1mgram_schmidt\u001b[0m: Orthonormalizing vector 8 again\n",
      "00:00 \u001b[1mgram_schmidt\u001b[0m: Orthonormalizing vector 9 again\n",
      "00:00 \u001b[1mPHLTIPGReductor\u001b[0m: Operator projection ...\n",
      "00:00 \u001b[1mPHLTIPGReductor\u001b[0m: Building ROM ...\n",
      "00:01 \u001b[1mPHIRKAReductor\u001b[0m: Convergence criterion in iteration 5: 1.545250e-01\n",
      "00:01 \u001b[1mgram_schmidt\u001b[0m: Orthonormalizing vector 2 again\n",
      "00:01 \u001b[1mgram_schmidt\u001b[0m: Orthonormalizing vector 3 again\n",
      "00:01 \u001b[1mgram_schmidt\u001b[0m: Orthonormalizing vector 4 again\n",
      "00:01 \u001b[1mgram_schmidt\u001b[0m: Orthonormalizing vector 5 again\n",
      "00:01 \u001b[1mgram_schmidt\u001b[0m: Orthonormalizing vector 6 again\n",
      "00:01 \u001b[1mgram_schmidt\u001b[0m: Orthonormalizing vector 7 again\n",
      "00:01 \u001b[1mgram_schmidt\u001b[0m: Orthonormalizing vector 8 again\n",
      "00:01 \u001b[1mgram_schmidt\u001b[0m: Orthonormalizing vector 9 again\n",
      "00:01 \u001b[1mPHLTIPGReductor\u001b[0m: Operator projection ...\n",
      "00:01 \u001b[1mPHLTIPGReductor\u001b[0m: Building ROM ...\n",
      "00:01 \u001b[1mPHIRKAReductor\u001b[0m: Convergence criterion in iteration 6: 9.451058e-02\n",
      "00:01 \u001b[1mgram_schmidt\u001b[0m: Orthonormalizing vector 2 again\n",
      "00:01 \u001b[1mgram_schmidt\u001b[0m: Orthonormalizing vector 3 again\n",
      "00:01 \u001b[1mgram_schmidt\u001b[0m: Orthonormalizing vector 4 again\n",
      "00:01 \u001b[1mgram_schmidt\u001b[0m: Orthonormalizing vector 5 again\n",
      "00:01 \u001b[1mgram_schmidt\u001b[0m: Orthonormalizing vector 6 again\n",
      "00:01 \u001b[1mgram_schmidt\u001b[0m: Orthonormalizing vector 7 again\n",
      "00:01 \u001b[1mgram_schmidt\u001b[0m: Orthonormalizing vector 8 again\n",
      "00:01 \u001b[1mgram_schmidt\u001b[0m: Orthonormalizing vector 9 again\n",
      "00:01 \u001b[1mPHLTIPGReductor\u001b[0m: Operator projection ...\n",
      "00:01 \u001b[1mPHLTIPGReductor\u001b[0m: Building ROM ...\n",
      "00:01 \u001b[1mPHIRKAReductor\u001b[0m: Convergence criterion in iteration 7: 5.975621e-02\n",
      "00:01 \u001b[1mgram_schmidt\u001b[0m: Orthonormalizing vector 2 again\n",
      "00:01 \u001b[1mgram_schmidt\u001b[0m: Orthonormalizing vector 3 again\n",
      "00:01 \u001b[1mgram_schmidt\u001b[0m: Orthonormalizing vector 4 again\n",
      "00:01 \u001b[1mgram_schmidt\u001b[0m: Orthonormalizing vector 5 again\n",
      "00:01 \u001b[1mgram_schmidt\u001b[0m: Orthonormalizing vector 6 again\n",
      "00:01 \u001b[1mgram_schmidt\u001b[0m: Orthonormalizing vector 7 again\n",
      "00:01 \u001b[1mgram_schmidt\u001b[0m: Orthonormalizing vector 8 again\n",
      "00:01 \u001b[1mgram_schmidt\u001b[0m: Orthonormalizing vector 9 again\n",
      "00:01 \u001b[1mPHLTIPGReductor\u001b[0m: Operator projection ...\n",
      "00:01 \u001b[1mPHLTIPGReductor\u001b[0m: Building ROM ...\n",
      "00:01 \u001b[1mPHIRKAReductor\u001b[0m: Convergence criterion in iteration 8: 3.987967e-02\n",
      "00:01 \u001b[1mgram_schmidt\u001b[0m: Orthonormalizing vector 2 again\n",
      "00:01 \u001b[1mgram_schmidt\u001b[0m: Orthonormalizing vector 3 again\n",
      "00:01 \u001b[1mgram_schmidt\u001b[0m: Orthonormalizing vector 4 again\n",
      "00:01 \u001b[1mgram_schmidt\u001b[0m: Orthonormalizing vector 5 again\n",
      "00:01 \u001b[1mgram_schmidt\u001b[0m: Orthonormalizing vector 6 again\n",
      "00:01 \u001b[1mgram_schmidt\u001b[0m: Orthonormalizing vector 7 again\n",
      "00:01 \u001b[1mgram_schmidt\u001b[0m: Orthonormalizing vector 8 again\n",
      "00:01 \u001b[1mgram_schmidt\u001b[0m: Orthonormalizing vector 9 again\n",
      "00:01 \u001b[1mPHLTIPGReductor\u001b[0m: Operator projection ...\n",
      "00:01 \u001b[1mPHLTIPGReductor\u001b[0m: Building ROM ...\n",
      "00:01 \u001b[1mPHIRKAReductor\u001b[0m: Convergence criterion in iteration 9: 2.773418e-02\n",
      "00:01 \u001b[1mgram_schmidt\u001b[0m: Orthonormalizing vector 2 again\n",
      "00:01 \u001b[1mgram_schmidt\u001b[0m: Orthonormalizing vector 3 again\n",
      "00:01 \u001b[1mgram_schmidt\u001b[0m: Orthonormalizing vector 4 again\n",
      "00:01 \u001b[1mgram_schmidt\u001b[0m: Orthonormalizing vector 5 again\n",
      "00:01 \u001b[1mgram_schmidt\u001b[0m: Orthonormalizing vector 6 again\n",
      "00:01 \u001b[1mgram_schmidt\u001b[0m: Orthonormalizing vector 7 again\n",
      "00:01 \u001b[1mgram_schmidt\u001b[0m: Orthonormalizing vector 8 again\n",
      "00:01 \u001b[1mgram_schmidt\u001b[0m: Orthonormalizing vector 9 again\n",
      "00:01 \u001b[1mPHLTIPGReductor\u001b[0m: Operator projection ...\n",
      "00:01 \u001b[1mPHLTIPGReductor\u001b[0m: Building ROM ...\n",
      "00:01 \u001b[1mPHIRKAReductor\u001b[0m: Convergence criterion in iteration 10: 1.982008e-02\n",
      "00:01 \u001b[1mgram_schmidt\u001b[0m: Orthonormalizing vector 2 again\n",
      "00:01 \u001b[1mgram_schmidt\u001b[0m: Orthonormalizing vector 3 again\n",
      "00:01 \u001b[1mgram_schmidt\u001b[0m: Orthonormalizing vector 4 again\n",
      "00:01 \u001b[1mgram_schmidt\u001b[0m: Orthonormalizing vector 5 again\n",
      "00:01 \u001b[1mgram_schmidt\u001b[0m: Orthonormalizing vector 6 again\n",
      "00:01 \u001b[1mgram_schmidt\u001b[0m: Orthonormalizing vector 7 again\n",
      "00:01 \u001b[1mgram_schmidt\u001b[0m: Orthonormalizing vector 8 again\n",
      "00:01 \u001b[1mgram_schmidt\u001b[0m: Orthonormalizing vector 9 again\n",
      "00:01 \u001b[1mPHLTIPGReductor\u001b[0m: Operator projection ...\n",
      "00:01 \u001b[1mPHLTIPGReductor\u001b[0m: Building ROM ...\n",
      "00:01 \u001b[1mPHIRKAReductor\u001b[0m: Convergence criterion in iteration 11: 1.561338e+00\n",
      "00:01 \u001b[1mgram_schmidt\u001b[0m: Orthonormalizing vector 2 again\n",
      "00:01 \u001b[1mgram_schmidt\u001b[0m: Orthonormalizing vector 3 again\n",
      "00:01 \u001b[1mgram_schmidt\u001b[0m: Orthonormalizing vector 4 again\n",
      "00:01 \u001b[1mgram_schmidt\u001b[0m: Orthonormalizing vector 5 again\n",
      "00:01 \u001b[1mgram_schmidt\u001b[0m: Orthonormalizing vector 6 again\n",
      "00:01 \u001b[1mgram_schmidt\u001b[0m: Orthonormalizing vector 7 again\n",
      "00:01 \u001b[1mgram_schmidt\u001b[0m: Orthonormalizing vector 8 again\n",
      "00:01 \u001b[1mgram_schmidt\u001b[0m: Orthonormalizing vector 9 again\n",
      "00:01 \u001b[1mPHLTIPGReductor\u001b[0m: Operator projection ...\n",
      "00:01 \u001b[1mPHLTIPGReductor\u001b[0m: Building ROM ...\n",
      "00:01 \u001b[1mPHIRKAReductor\u001b[0m: Convergence criterion in iteration 12: 1.059532e-02\n",
      "00:01 \u001b[1mgram_schmidt\u001b[0m: Orthonormalizing vector 2 again\n",
      "00:01 \u001b[1mgram_schmidt\u001b[0m: Orthonormalizing vector 3 again\n",
      "00:01 \u001b[1mgram_schmidt\u001b[0m: Orthonormalizing vector 4 again\n",
      "00:01 \u001b[1mgram_schmidt\u001b[0m: Orthonormalizing vector 5 again\n",
      "00:01 \u001b[1mgram_schmidt\u001b[0m: Orthonormalizing vector 6 again\n",
      "00:01 \u001b[1mgram_schmidt\u001b[0m: Orthonormalizing vector 7 again\n",
      "00:01 \u001b[1mgram_schmidt\u001b[0m: Orthonormalizing vector 8 again\n",
      "00:01 \u001b[1mgram_schmidt\u001b[0m: Orthonormalizing vector 9 again\n",
      "00:01 \u001b[1mPHLTIPGReductor\u001b[0m: Operator projection ...\n",
      "00:01 \u001b[1mPHLTIPGReductor\u001b[0m: Building ROM ...\n",
      "00:01 \u001b[1mPHIRKAReductor\u001b[0m: Convergence criterion in iteration 13: 7.847201e-03\n",
      "00:01 \u001b[1mgram_schmidt\u001b[0m: Orthonormalizing vector 2 again\n",
      "00:01 \u001b[1mgram_schmidt\u001b[0m: Orthonormalizing vector 3 again\n",
      "00:01 \u001b[1mgram_schmidt\u001b[0m: Orthonormalizing vector 4 again\n",
      "00:01 \u001b[1mgram_schmidt\u001b[0m: Orthonormalizing vector 5 again\n",
      "00:01 \u001b[1mgram_schmidt\u001b[0m: Orthonormalizing vector 6 again\n",
      "00:01 \u001b[1mgram_schmidt\u001b[0m: Orthonormalizing vector 7 again\n",
      "00:01 \u001b[1mgram_schmidt\u001b[0m: Orthonormalizing vector 8 again\n",
      "00:01 \u001b[1mgram_schmidt\u001b[0m: Orthonormalizing vector 9 again\n",
      "00:01 \u001b[1mPHLTIPGReductor\u001b[0m: Operator projection ...\n",
      "00:01 \u001b[1mPHLTIPGReductor\u001b[0m: Building ROM ...\n",
      "00:01 \u001b[1mPHIRKAReductor\u001b[0m: Convergence criterion in iteration 14: 5.841387e-03\n",
      "00:01 \u001b[1mgram_schmidt\u001b[0m: Orthonormalizing vector 2 again\n",
      "00:01 \u001b[1mgram_schmidt\u001b[0m: Orthonormalizing vector 3 again\n",
      "00:01 \u001b[1mgram_schmidt\u001b[0m: Orthonormalizing vector 4 again\n",
      "00:01 \u001b[1mgram_schmidt\u001b[0m: Orthonormalizing vector 5 again\n",
      "00:01 \u001b[1mgram_schmidt\u001b[0m: Orthonormalizing vector 6 again\n",
      "00:01 \u001b[1mgram_schmidt\u001b[0m: Orthonormalizing vector 7 again\n",
      "00:01 \u001b[1mgram_schmidt\u001b[0m: Orthonormalizing vector 8 again\n",
      "00:01 \u001b[1mgram_schmidt\u001b[0m: Orthonormalizing vector 9 again\n",
      "00:01 \u001b[1mPHLTIPGReductor\u001b[0m: Operator projection ...\n",
      "00:01 \u001b[1mPHLTIPGReductor\u001b[0m: Building ROM ...\n",
      "00:01 \u001b[1mPHIRKAReductor\u001b[0m: Convergence criterion in iteration 15: 4.364071e-03\n",
      "00:01 \u001b[1mgram_schmidt\u001b[0m: Orthonormalizing vector 2 again\n",
      "00:01 \u001b[1mgram_schmidt\u001b[0m: Orthonormalizing vector 3 again\n",
      "00:01 \u001b[1mgram_schmidt\u001b[0m: Orthonormalizing vector 4 again\n",
      "00:01 \u001b[1mgram_schmidt\u001b[0m: Orthonormalizing vector 5 again\n",
      "00:01 \u001b[1mgram_schmidt\u001b[0m: Orthonormalizing vector 6 again\n",
      "00:01 \u001b[1mgram_schmidt\u001b[0m: Orthonormalizing vector 7 again\n",
      "00:01 \u001b[1mgram_schmidt\u001b[0m: Orthonormalizing vector 8 again\n",
      "00:01 \u001b[1mgram_schmidt\u001b[0m: Orthonormalizing vector 9 again\n",
      "00:01 \u001b[1mPHLTIPGReductor\u001b[0m: Operator projection ...\n",
      "00:01 \u001b[1mPHLTIPGReductor\u001b[0m: Building ROM ...\n",
      "00:01 \u001b[1mPHIRKAReductor\u001b[0m: Convergence criterion in iteration 16: 3.269091e-03\n",
      "00:01 \u001b[1mgram_schmidt\u001b[0m: Orthonormalizing vector 2 again\n",
      "00:01 \u001b[1mgram_schmidt\u001b[0m: Orthonormalizing vector 3 again\n",
      "00:01 \u001b[1mgram_schmidt\u001b[0m: Orthonormalizing vector 4 again\n",
      "00:01 \u001b[1mgram_schmidt\u001b[0m: Orthonormalizing vector 5 again\n",
      "00:01 \u001b[1mgram_schmidt\u001b[0m: Orthonormalizing vector 6 again\n",
      "00:01 \u001b[1mgram_schmidt\u001b[0m: Orthonormalizing vector 7 again\n",
      "00:01 \u001b[1mgram_schmidt\u001b[0m: Orthonormalizing vector 8 again\n",
      "00:01 \u001b[1mgram_schmidt\u001b[0m: Orthonormalizing vector 9 again\n",
      "00:01 \u001b[1mPHLTIPGReductor\u001b[0m: Operator projection ...\n",
      "00:01 \u001b[1mPHLTIPGReductor\u001b[0m: Building ROM ...\n",
      "00:01 \u001b[1mPHIRKAReductor\u001b[0m: Convergence criterion in iteration 17: 2.453767e-03\n",
      "00:01 \u001b[1mgram_schmidt\u001b[0m: Orthonormalizing vector 2 again\n",
      "00:01 \u001b[1mgram_schmidt\u001b[0m: Orthonormalizing vector 3 again\n",
      "00:01 \u001b[1mgram_schmidt\u001b[0m: Orthonormalizing vector 4 again\n",
      "00:01 \u001b[1mgram_schmidt\u001b[0m: Orthonormalizing vector 5 again\n",
      "00:01 \u001b[1mgram_schmidt\u001b[0m: Orthonormalizing vector 6 again\n",
      "00:01 \u001b[1mgram_schmidt\u001b[0m: Orthonormalizing vector 7 again\n",
      "00:01 \u001b[1mgram_schmidt\u001b[0m: Orthonormalizing vector 8 again\n",
      "00:01 \u001b[1mgram_schmidt\u001b[0m: Orthonormalizing vector 9 again\n",
      "00:01 \u001b[1mPHLTIPGReductor\u001b[0m: Operator projection ...\n",
      "00:01 \u001b[1mPHLTIPGReductor\u001b[0m: Building ROM ...\n",
      "00:01 \u001b[1mPHIRKAReductor\u001b[0m: Convergence criterion in iteration 18: 1.844601e-03\n",
      "00:01 \u001b[1mgram_schmidt\u001b[0m: Orthonormalizing vector 2 again\n",
      "00:01 \u001b[1mgram_schmidt\u001b[0m: Orthonormalizing vector 3 again\n",
      "00:01 \u001b[1mgram_schmidt\u001b[0m: Orthonormalizing vector 4 again\n",
      "00:01 \u001b[1mgram_schmidt\u001b[0m: Orthonormalizing vector 5 again\n",
      "00:01 \u001b[1mgram_schmidt\u001b[0m: Orthonormalizing vector 6 again\n",
      "00:01 \u001b[1mgram_schmidt\u001b[0m: Orthonormalizing vector 7 again\n",
      "00:01 \u001b[1mgram_schmidt\u001b[0m: Orthonormalizing vector 8 again\n",
      "00:01 \u001b[1mgram_schmidt\u001b[0m: Orthonormalizing vector 9 again\n",
      "00:01 \u001b[1mPHLTIPGReductor\u001b[0m: Operator projection ...\n",
      "00:01 \u001b[1mPHLTIPGReductor\u001b[0m: Building ROM ...\n",
      "00:01 \u001b[1mPHIRKAReductor\u001b[0m: Convergence criterion in iteration 19: 1.388289e-03\n",
      "00:01 \u001b[1mgram_schmidt\u001b[0m: Orthonormalizing vector 2 again\n",
      "00:01 \u001b[1mgram_schmidt\u001b[0m: Orthonormalizing vector 3 again\n",
      "00:01 \u001b[1mgram_schmidt\u001b[0m: Orthonormalizing vector 4 again\n",
      "00:01 \u001b[1mgram_schmidt\u001b[0m: Orthonormalizing vector 5 again\n",
      "00:01 \u001b[1mgram_schmidt\u001b[0m: Orthonormalizing vector 6 again\n",
      "00:01 \u001b[1mgram_schmidt\u001b[0m: Orthonormalizing vector 7 again\n",
      "00:01 \u001b[1mgram_schmidt\u001b[0m: Orthonormalizing vector 8 again\n",
      "00:01 \u001b[1mgram_schmidt\u001b[0m: Orthonormalizing vector 9 again\n",
      "00:01 \u001b[1mPHLTIPGReductor\u001b[0m: Operator projection ...\n",
      "00:01 \u001b[1mPHLTIPGReductor\u001b[0m: Building ROM ...\n",
      "00:01 \u001b[1mPHIRKAReductor\u001b[0m: Convergence criterion in iteration 20: 1.045800e-03\n",
      "00:01 \u001b[1mgram_schmidt\u001b[0m: Orthonormalizing vector 2 again\n",
      "00:01 \u001b[1mgram_schmidt\u001b[0m: Orthonormalizing vector 3 again\n",
      "00:01 \u001b[1mgram_schmidt\u001b[0m: Orthonormalizing vector 4 again\n",
      "00:01 \u001b[1mgram_schmidt\u001b[0m: Orthonormalizing vector 5 again\n",
      "00:01 \u001b[1mgram_schmidt\u001b[0m: Orthonormalizing vector 6 again\n",
      "00:01 \u001b[1mgram_schmidt\u001b[0m: Orthonormalizing vector 7 again\n",
      "00:01 \u001b[1mgram_schmidt\u001b[0m: Orthonormalizing vector 8 again\n",
      "00:01 \u001b[1mgram_schmidt\u001b[0m: Orthonormalizing vector 9 again\n",
      "00:01 \u001b[1mPHLTIPGReductor\u001b[0m: Operator projection ...\n",
      "00:01 \u001b[1mPHLTIPGReductor\u001b[0m: Building ROM ...\n",
      "00:01 \u001b[1mPHIRKAReductor\u001b[0m: Convergence criterion in iteration 21: 7.883501e-04\n",
      "00:01 \u001b[1mgram_schmidt\u001b[0m: Orthonormalizing vector 2 again\n",
      "00:01 \u001b[1mgram_schmidt\u001b[0m: Orthonormalizing vector 3 again\n",
      "00:01 \u001b[1mgram_schmidt\u001b[0m: Orthonormalizing vector 4 again\n",
      "00:01 \u001b[1mgram_schmidt\u001b[0m: Orthonormalizing vector 5 again\n",
      "00:01 \u001b[1mgram_schmidt\u001b[0m: Orthonormalizing vector 6 again\n",
      "00:01 \u001b[1mgram_schmidt\u001b[0m: Orthonormalizing vector 7 again\n",
      "00:01 \u001b[1mgram_schmidt\u001b[0m: Orthonormalizing vector 8 again\n",
      "00:01 \u001b[1mgram_schmidt\u001b[0m: Orthonormalizing vector 9 again\n",
      "00:01 \u001b[1mPHLTIPGReductor\u001b[0m: Operator projection ...\n",
      "00:01 \u001b[1mPHLTIPGReductor\u001b[0m: Building ROM ...\n",
      "00:01 \u001b[1mPHIRKAReductor\u001b[0m: Convergence criterion in iteration 22: 5.945968e-04\n",
      "00:01 \u001b[1mgram_schmidt\u001b[0m: Orthonormalizing vector 2 again\n",
      "00:01 \u001b[1mgram_schmidt\u001b[0m: Orthonormalizing vector 3 again\n",
      "00:01 \u001b[1mgram_schmidt\u001b[0m: Orthonormalizing vector 4 again\n",
      "00:01 \u001b[1mgram_schmidt\u001b[0m: Orthonormalizing vector 5 again\n",
      "00:01 \u001b[1mgram_schmidt\u001b[0m: Orthonormalizing vector 6 again\n",
      "00:01 \u001b[1mgram_schmidt\u001b[0m: Orthonormalizing vector 7 again\n",
      "00:01 \u001b[1mgram_schmidt\u001b[0m: Orthonormalizing vector 8 again\n",
      "00:01 \u001b[1mgram_schmidt\u001b[0m: Orthonormalizing vector 9 again\n",
      "00:01 \u001b[1mPHLTIPGReductor\u001b[0m: Operator projection ...\n",
      "00:01 \u001b[1mPHLTIPGReductor\u001b[0m: Building ROM ...\n",
      "00:01 \u001b[1mPHIRKAReductor\u001b[0m: Convergence criterion in iteration 23: 4.486477e-04\n",
      "00:01 \u001b[1mgram_schmidt\u001b[0m: Orthonormalizing vector 2 again\n",
      "00:01 \u001b[1mgram_schmidt\u001b[0m: Orthonormalizing vector 3 again\n",
      "00:01 \u001b[1mgram_schmidt\u001b[0m: Orthonormalizing vector 4 again\n",
      "00:01 \u001b[1mgram_schmidt\u001b[0m: Orthonormalizing vector 5 again\n",
      "00:01 \u001b[1mgram_schmidt\u001b[0m: Orthonormalizing vector 6 again\n",
      "00:01 \u001b[1mgram_schmidt\u001b[0m: Orthonormalizing vector 7 again\n",
      "00:01 \u001b[1mgram_schmidt\u001b[0m: Orthonormalizing vector 8 again\n",
      "00:01 \u001b[1mgram_schmidt\u001b[0m: Orthonormalizing vector 9 again\n",
      "00:01 \u001b[1mPHLTIPGReductor\u001b[0m: Operator projection ...\n",
      "00:01 \u001b[1mPHLTIPGReductor\u001b[0m: Building ROM ...\n",
      "00:01 \u001b[1mPHIRKAReductor\u001b[0m: Convergence criterion in iteration 24: 3.386310e-04\n",
      "00:01 \u001b[1mgram_schmidt\u001b[0m: Orthonormalizing vector 2 again\n",
      "00:01 \u001b[1mgram_schmidt\u001b[0m: Orthonormalizing vector 3 again\n",
      "00:01 \u001b[1mgram_schmidt\u001b[0m: Orthonormalizing vector 4 again\n",
      "00:01 \u001b[1mgram_schmidt\u001b[0m: Orthonormalizing vector 5 again\n",
      "00:01 \u001b[1mgram_schmidt\u001b[0m: Orthonormalizing vector 6 again\n",
      "00:01 \u001b[1mgram_schmidt\u001b[0m: Orthonormalizing vector 7 again\n",
      "00:01 \u001b[1mgram_schmidt\u001b[0m: Orthonormalizing vector 8 again\n",
      "00:01 \u001b[1mgram_schmidt\u001b[0m: Orthonormalizing vector 9 again\n",
      "00:01 \u001b[1mPHLTIPGReductor\u001b[0m: Operator projection ...\n",
      "00:01 \u001b[1mPHLTIPGReductor\u001b[0m: Building ROM ...\n",
      "00:01 \u001b[1mPHIRKAReductor\u001b[0m: Convergence criterion in iteration 25: 2.556549e-04\n",
      "00:01 \u001b[1mgram_schmidt\u001b[0m: Orthonormalizing vector 2 again\n",
      "00:01 \u001b[1mgram_schmidt\u001b[0m: Orthonormalizing vector 3 again\n",
      "00:01 \u001b[1mgram_schmidt\u001b[0m: Orthonormalizing vector 4 again\n",
      "00:01 \u001b[1mgram_schmidt\u001b[0m: Orthonormalizing vector 5 again\n",
      "00:01 \u001b[1mgram_schmidt\u001b[0m: Orthonormalizing vector 6 again\n",
      "00:01 \u001b[1mgram_schmidt\u001b[0m: Orthonormalizing vector 7 again\n",
      "00:01 \u001b[1mgram_schmidt\u001b[0m: Orthonormalizing vector 8 again\n",
      "00:01 \u001b[1mgram_schmidt\u001b[0m: Orthonormalizing vector 9 again\n",
      "00:01 \u001b[1mPHLTIPGReductor\u001b[0m: Operator projection ...\n",
      "00:01 \u001b[1mPHLTIPGReductor\u001b[0m: Building ROM ...\n",
      "00:01 \u001b[1mPHIRKAReductor\u001b[0m: Convergence criterion in iteration 26: 1.930472e-04\n",
      "00:01 \u001b[1mgram_schmidt\u001b[0m: Orthonormalizing vector 2 again\n",
      "00:01 \u001b[1mgram_schmidt\u001b[0m: Orthonormalizing vector 3 again\n",
      "00:01 \u001b[1mgram_schmidt\u001b[0m: Orthonormalizing vector 4 again\n",
      "00:01 \u001b[1mgram_schmidt\u001b[0m: Orthonormalizing vector 5 again\n",
      "00:01 \u001b[1mgram_schmidt\u001b[0m: Orthonormalizing vector 6 again\n",
      "00:01 \u001b[1mgram_schmidt\u001b[0m: Orthonormalizing vector 7 again\n",
      "00:01 \u001b[1mgram_schmidt\u001b[0m: Orthonormalizing vector 8 again\n",
      "00:01 \u001b[1mgram_schmidt\u001b[0m: Orthonormalizing vector 9 again\n",
      "00:01 \u001b[1mPHLTIPGReductor\u001b[0m: Operator projection ...\n",
      "00:01 \u001b[1mPHLTIPGReductor\u001b[0m: Building ROM ...\n",
      "00:01 \u001b[1mPHIRKAReductor\u001b[0m: Convergence criterion in iteration 27: 1.457926e-04\n",
      "00:01 \u001b[1mgram_schmidt\u001b[0m: Orthonormalizing vector 2 again\n",
      "00:01 \u001b[1mgram_schmidt\u001b[0m: Orthonormalizing vector 3 again\n",
      "00:01 \u001b[1mgram_schmidt\u001b[0m: Orthonormalizing vector 4 again\n",
      "00:01 \u001b[1mgram_schmidt\u001b[0m: Orthonormalizing vector 5 again\n",
      "00:01 \u001b[1mgram_schmidt\u001b[0m: Orthonormalizing vector 6 again\n",
      "00:01 \u001b[1mgram_schmidt\u001b[0m: Orthonormalizing vector 7 again\n",
      "00:01 \u001b[1mgram_schmidt\u001b[0m: Orthonormalizing vector 8 again\n",
      "00:01 \u001b[1mgram_schmidt\u001b[0m: Orthonormalizing vector 9 again\n",
      "00:01 \u001b[1mPHLTIPGReductor\u001b[0m: Operator projection ...\n",
      "00:01 \u001b[1mPHLTIPGReductor\u001b[0m: Building ROM ...\n",
      "00:01 \u001b[1mPHIRKAReductor\u001b[0m: Convergence criterion in iteration 28: 1.101172e-04\n",
      "00:01 \u001b[1mgram_schmidt\u001b[0m: Orthonormalizing vector 2 again\n",
      "00:01 \u001b[1mgram_schmidt\u001b[0m: Orthonormalizing vector 3 again\n",
      "00:01 \u001b[1mgram_schmidt\u001b[0m: Orthonormalizing vector 4 again\n",
      "00:01 \u001b[1mgram_schmidt\u001b[0m: Orthonormalizing vector 5 again\n",
      "00:01 \u001b[1mgram_schmidt\u001b[0m: Orthonormalizing vector 6 again\n",
      "00:01 \u001b[1mgram_schmidt\u001b[0m: Orthonormalizing vector 7 again\n",
      "00:01 \u001b[1mgram_schmidt\u001b[0m: Orthonormalizing vector 8 again\n",
      "00:01 \u001b[1mgram_schmidt\u001b[0m: Orthonormalizing vector 9 again\n",
      "00:01 \u001b[1mPHLTIPGReductor\u001b[0m: Operator projection ...\n",
      "00:01 \u001b[1mPHLTIPGReductor\u001b[0m: Building ROM ...\n",
      "00:01 \u001b[1mPHIRKAReductor\u001b[0m: Convergence criterion in iteration 29: 8.317867e-05\n"
     ]
    }
   ],
   "source": [
    "from pymor.reductors.ph.ph_irka import PHIRKAReductor\n",
    "\n",
    "reductor = PHIRKAReductor(fom)\n",
    "rom1 = reductor.reduce(10)"
   ]
  },
  {
   "cell_type": "code",
   "execution_count": 7,
   "id": "1f43cb7b-cd7e-4be9-ac5e-fbce8c1e3e2f",
   "metadata": {
    "editable": true,
    "slideshow": {
     "slide_type": "fragment"
    },
    "tags": []
   },
   "outputs": [
    {
     "name": "stdout",
     "output_type": "stream",
     "text": [
      "rom1 is of type <class 'pymor.models.iosys.PHLTIModel'>.\n"
     ]
    }
   ],
   "source": [
    "print(f'rom1 is of type {type(rom1)}.')"
   ]
  },
  {
   "cell_type": "markdown",
   "id": "aa022369-c7f7-4c69-a695-b8cbec13ad00",
   "metadata": {
    "editable": true,
    "slideshow": {
     "slide_type": "slide"
    },
    "tags": []
   },
   "source": [
    "# Positive-real balanced truncation (PRBT) [DP84, GA04, HJS84]\n",
    "\n",
    "Same procedure as standard BT, but different Gramians:\n",
    "\n",
    "**positive-real observability Gramian $X$:**\n",
    "\n",
    "minimal solution to $A^T X E + E^T X A + (C^T - E^T X B) (D + D^T)^{-1} (C - B^T X E) = 0$, $X=X^T$.\n",
    "\n",
    "**positive-real controllability Gramian $Y$:**\n",
    "\n",
    "minimal solution to $A Y E^T + E Y A^T +(B^T − E Y C^T)(D+D^T)^{−1}(B − CYE^T)=0$, $Y=Y^T$.\n",
    "\n",
    "The resulting ROM is positive-real (and hence passive)."
   ]
  },
  {
   "cell_type": "code",
   "execution_count": 8,
   "id": "e7f3d5f2-85bc-42c3-8f31-2cf5c39becb1",
   "metadata": {
    "editable": true,
    "slideshow": {
     "slide_type": "fragment"
    },
    "tags": []
   },
   "outputs": [
    {
     "data": {
      "text/plain": [
       "NumpyVectorArray(\n",
       "    NumpyVectorSpace(50, id='STATE'),\n",
       "    [[-1.73828010e+00 -1.03207228e-12  2.46765814e+00 ... -2.34823074e-05\n",
       "      -1.62244243e-05 -1.15465801e-05]\n",
       "     [ 8.74090520e-01 -2.33895035e-12  1.43477376e-01 ...  1.91242514e-05\n",
       "       1.33676482e-05  9.39988437e-06]\n",
       "     [-3.28862689e-01  2.26670446e-12 -2.20914472e-01 ...  1.23290922e-05\n",
       "       8.35734764e-06  6.06848600e-06]\n",
       "     ...\n",
       "     [-4.16697145e-18  4.64273824e-21 -1.21648005e-17 ...  1.63561389e-06\n",
       "       5.13932195e-08 -9.52372664e-07]\n",
       "     [-9.76489579e-21 -1.10101183e-22 -1.27365655e-20 ... -1.87584473e-07\n",
       "      -2.21481596e-08  1.06135840e-07]\n",
       "     [ 4.38352919e-20  1.89353712e-22  9.50258242e-20 ...  9.96439362e-08\n",
       "      -3.16501217e-09 -5.08355647e-08]],\n",
       "    _len=50)"
      ]
     },
     "execution_count": 8,
     "metadata": {},
     "output_type": "execute_result"
    }
   ],
   "source": [
    "fom.gramian('pr_o_lrcf')"
   ]
  },
  {
   "cell_type": "code",
   "execution_count": 9,
   "id": "915fa028-1ee4-4665-8552-2e29132e8cb1",
   "metadata": {
    "collapsed": true,
    "editable": true,
    "jupyter": {
     "outputs_hidden": true
    },
    "slideshow": {
     "slide_type": "slide"
    },
    "tags": []
   },
   "outputs": [
    {
     "name": "stderr",
     "output_type": "stream",
     "text": [
      "00:01 \u001b[1mgram_schmidt\u001b[0m: Orthonormalizing vector 3 again\n",
      "00:01 \u001b[1mgram_schmidt\u001b[0m: Orthonormalizing vector 4 again\n",
      "00:01 \u001b[1mgram_schmidt\u001b[0m: Orthonormalizing vector 5 again\n",
      "00:01 \u001b[1mgram_schmidt\u001b[0m: Orthonormalizing vector 6 again\n",
      "00:01 \u001b[1mgram_schmidt\u001b[0m: Orthonormalizing vector 7 again\n",
      "00:01 \u001b[1mgram_schmidt\u001b[0m: Orthonormalizing vector 8 again\n",
      "00:01 \u001b[1mgram_schmidt\u001b[0m: Orthonormalizing vector 9 again\n",
      "00:01 \u001b[1mgram_schmidt\u001b[0m: Orthonormalizing vector 3 again\n",
      "00:01 \u001b[1mgram_schmidt\u001b[0m: Orthonormalizing vector 4 again\n",
      "00:01 \u001b[1mgram_schmidt\u001b[0m: Orthonormalizing vector 6 again\n",
      "00:01 \u001b[1mgram_schmidt\u001b[0m: Orthonormalizing vector 7 again\n",
      "00:01 \u001b[1mgram_schmidt\u001b[0m: Orthonormalizing vector 8 again\n",
      "00:01 \u001b[1mgram_schmidt\u001b[0m: Orthonormalizing vector 9 again\n",
      "00:01 \u001b[1mLTIPGReductor\u001b[0m: Operator projection ...\n",
      "00:01 \u001b[1mLTIPGReductor\u001b[0m: Building ROM ...\n"
     ]
    }
   ],
   "source": [
    "from pymor.reductors.bt import PRBTReductor\n",
    "\n",
    "reductor = PRBTReductor(fom)\n",
    "rom2 = reductor.reduce(10)"
   ]
  },
  {
   "cell_type": "code",
   "execution_count": 10,
   "id": "9fe670c2-3c38-48f2-9820-ca862aaf3dec",
   "metadata": {
    "editable": true,
    "slideshow": {
     "slide_type": "fragment"
    },
    "tags": []
   },
   "outputs": [
    {
     "name": "stdout",
     "output_type": "stream",
     "text": [
      "rom2 is of type <class 'pymor.models.iosys.LTIModel'>.\n"
     ]
    }
   ],
   "source": [
    "print(f'rom2 is of type {type(rom2)}.')"
   ]
  },
  {
   "cell_type": "code",
   "execution_count": 11,
   "id": "a0f48aa1-a28b-4588-b4fc-fdd23decf1f7",
   "metadata": {
    "editable": true,
    "slideshow": {
     "slide_type": "fragment"
    },
    "tags": []
   },
   "outputs": [
    {
     "name": "stdout",
     "output_type": "stream",
     "text": [
      "rom2 is of type <class 'pymor.models.iosys.PHLTIModel'>.\n"
     ]
    }
   ],
   "source": [
    "rom2 = rom2.with_(solver_options={'ricc_pos_lrcf': 'slycot'})\n",
    "rom2 = PHLTIModel.from_passive_LTIModel(rom2)\n",
    "print(f'rom2 is of type {type(rom2)}.')"
   ]
  },
  {
   "cell_type": "markdown",
   "id": "48912af4-d650-43d0-9390-adbf6edca9fd",
   "metadata": {
    "editable": true,
    "slideshow": {
     "slide_type": "slide"
    },
    "tags": []
   },
   "source": [
    "# Passivity preserving model reduction via spectral factorization [BU22]\n",
    "\n",
    "Suppose the LTI system is passive. Then there exists a symmetric positive definite solution $X$ satisfying the KYP inequality $\\mathcal{W}_E(X) \\geq 0$."
   ]
  },
  {
   "cell_type": "markdown",
   "id": "1af4f536-fb23-4b4c-adf7-82e02563385c",
   "metadata": {
    "editable": true,
    "slideshow": {
     "slide_type": "fragment"
    },
    "tags": []
   },
   "source": [
    "Cholesky-like factors $L \\in \\mathbb{R}^{k,n}$,\n",
    "$M \\in \\mathbb{R}^{k,m}$:\n",
    "\n",
    "$$\n",
    "\\mathcal{W}(X) = \\begin{bmatrix}\n",
    "    L^T\\\\M^T\n",
    "\\end{bmatrix} \\begin{bmatrix}\n",
    "    L&M\n",
    "\\end{bmatrix}\n",
    "$$"
   ]
  },
  {
   "cell_type": "markdown",
   "id": "62bec971-926d-4213-88f8-6ef06ab2f605",
   "metadata": {
    "editable": true,
    "slideshow": {
     "slide_type": "fragment"
    },
    "tags": []
   },
   "source": [
    "*spectral factor* $\\Sigma_H := (E,A,B,L,M)$.\n",
    "\n",
    "transfer function $H(s) = L(sE-A)^{-1}B+M$."
   ]
  },
  {
   "cell_type": "markdown",
   "id": "cb09a940-db7d-40d3-b853-221a15dfe91a",
   "metadata": {
    "editable": true,
    "slideshow": {
     "slide_type": "slide"
    },
    "tags": []
   },
   "source": [
    "#### Theorem [BU22, Theorem 8]\n",
    "\n",
    "Consider passive, minimal and asymptotically stable systems $\\Sigma$ and $\\hat{\\Sigma}$ with transfer functions $G$ and $\\hat{G}$. Let $H$ and $\\hat{H}$ denote transfer functions of associated spectral factors. If $G-\\hat{G}, H-\\hat{H} \\in \\mathcal{H}_2$, then\n",
    "\n",
    "$$\n",
    "\\left\\lVert G-\\hat{G} \\right\\rVert_{\\mathcal{H}_2(\\mathbb{C}_+)}\n",
    "\t\t\\leq c(H,\\hat{H}) \\left\\lVert H-\\hat{H} \\right\\rVert_{{\\mathcal{H}_2}(\\mathbb{C}_+)}\n",
    "$$\n",
    "\n",
    "with a constant $c(H,\\hat{H})$ depending on $H$ and $\\hat{H}$."
   ]
  },
  {
   "cell_type": "markdown",
   "id": "078d473e-1a74-470d-8278-63bc12a15cfd",
   "metadata": {
    "editable": true,
    "slideshow": {
     "slide_type": "slide"
    },
    "tags": []
   },
   "source": [
    "**Algorithm:**\n",
    "\n",
    "*Input:* passive system $\\Sigma = (E,A,B,C,D)$, reduced order $r$.\n",
    "*Output:* passive ROM $\\hat{\\Sigma} = (\\hat{E},\\hat{A},\\hat{B},\\hat{C},\\hat{D})$ of order $r$.\n",
    "\n",
    "1. Find $X$, $X=X^T>0$ satisfying the KYP-LMI $\\mathcal{W}_E(X) \\geq 0$.\n",
    "2. Compute a Cholesky-like factorization\n",
    "    $$\n",
    "    \\mathcal{W}(X) = \\begin{bmatrix}\n",
    "        L^T\\\\M^T\n",
    "    \\end{bmatrix} \\begin{bmatrix}\n",
    "        L&M\n",
    "    \\end{bmatrix}\n",
    "    $$\n",
    "   and create the spectral factor $\\Sigma_H = (E,A,B,L,M)$.\n",
    "3. Compute ROM $\\hat{\\Sigma}_H = (\\hat{E},\\hat{A},\\hat{B},\\hat{L},\\hat{M})$ of order $r$ of the spectral factor.\n",
    "4. Set $\\hat{D} = \\frac{1}{2} \\hat{M}^T\\hat{M} + \\mathrm{skew}(D)$.\n",
    "5. Compute $\\hat{X} \\in \\mathbb{R}^{r,r}$, $\\hat{X} = \\hat{X}^T > 0$ satisfying the Lyapunov equation\n",
    "   $$\n",
    "   \\hat{A}^T \\hat{X} \\hat{E} + \\hat{E}^T \\hat{X} \\hat{A} + \\hat{L}^T\\hat{L} = 0.\n",
    "   $$\n",
    "6. Set $\\hat{C} = \\hat{B}^T \\hat{X} \\hat{E} + \\hat{M}^T \\hat{L}$."
   ]
  },
  {
   "cell_type": "markdown",
   "id": "db0f1a98-f897-49fa-8f90-abc47c901d87",
   "metadata": {
    "editable": true,
    "slideshow": {
     "slide_type": "fragment"
    },
    "tags": []
   },
   "source": [
    "By construction, $\\hat{X}$ solves the KYP-LMI for the ROM $\\hat{\\Sigma}$. Hence, the ROM $\\hat{\\Sigma}$ is passive."
   ]
  },
  {
   "cell_type": "markdown",
   "id": "013e250f-201a-4428-8938-d023ef409472",
   "metadata": {
    "editable": true,
    "slideshow": {
     "slide_type": "slide"
    },
    "tags": []
   },
   "source": [
    "#### Which solution $X$ for KYP-LMI?\n",
    "\n",
    "It can be shown that the solution $X$ for the KYP-LMI corresponding to the positive-real observability Gramian is best suited for model reduction.\n",
    "\n",
    "*Reason:* The Hankel singular values of the corresponding spectral factor are minimal with regard to all other possible spectral factors [BU22, Theorem 13]."
   ]
  },
  {
   "cell_type": "code",
   "execution_count": 12,
   "id": "c1a98270-d6e3-4f7a-ad2b-3815d80f9606",
   "metadata": {
    "collapsed": true,
    "editable": true,
    "jupyter": {
     "outputs_hidden": true
    },
    "scrolled": true,
    "slideshow": {
     "slide_type": "slide"
    },
    "tags": []
   },
   "outputs": [
    {
     "name": "stderr",
     "output_type": "stream",
     "text": [
      "00:01 \u001b[1mIRKAReductor\u001b[0m: Generating initial interpolation data\n",
      "00:01 \u001b[1mIRKAReductor\u001b[0m: Starting IRKA\n",
      "00:01 \u001b[1mgram_schmidt\u001b[0m: Orthonormalizing vector 1 again\n",
      "00:01 \u001b[1mgram_schmidt\u001b[0m: Orthonormalizing vector 2 again\n",
      "00:01 \u001b[1mgram_schmidt\u001b[0m: Orthonormalizing vector 3 again\n",
      "00:01 \u001b[1mgram_schmidt\u001b[0m: Orthonormalizing vector 4 again\n",
      "00:01 \u001b[1mgram_schmidt\u001b[0m: Orthonormalizing vector 5 again\n",
      "00:01 \u001b[1mgram_schmidt\u001b[0m: Orthonormalizing vector 6 again\n",
      "00:01 \u001b[1mgram_schmidt\u001b[0m: Orthonormalizing vector 7 again\n",
      "00:01 \u001b[1mgram_schmidt\u001b[0m: Orthonormalizing vector 8 again\n",
      "00:01 \u001b[1mgram_schmidt\u001b[0m: Orthonormalizing vector 9 again\n",
      "00:01 \u001b[1mgram_schmidt\u001b[0m: Orthonormalizing vector 1 again\n",
      "00:01 \u001b[1mgram_schmidt\u001b[0m: Orthonormalizing vector 2 again\n",
      "00:01 \u001b[1mgram_schmidt\u001b[0m: Orthonormalizing vector 3 again\n",
      "00:01 \u001b[1mgram_schmidt\u001b[0m: Orthonormalizing vector 4 again\n",
      "00:01 \u001b[1mgram_schmidt\u001b[0m: Orthonormalizing vector 5 again\n",
      "00:01 \u001b[1mgram_schmidt\u001b[0m: Orthonormalizing vector 6 again\n",
      "00:01 \u001b[1mgram_schmidt\u001b[0m: Orthonormalizing vector 7 again\n",
      "00:01 \u001b[1mgram_schmidt\u001b[0m: Orthonormalizing vector 8 again\n",
      "00:01 \u001b[1mgram_schmidt\u001b[0m: Orthonormalizing vector 9 again\n",
      "00:01 \u001b[1mLTIPGReductor\u001b[0m: Operator projection ...\n",
      "00:01 \u001b[1mLTIPGReductor\u001b[0m: Building ROM ...\n",
      "00:01 \u001b[1mIRKAReductor\u001b[0m: Convergence criterion in iteration 1: 1.846313e+01\n",
      "00:01 \u001b[1mgram_schmidt\u001b[0m: Orthonormalizing vector 2 again\n",
      "00:01 \u001b[1mgram_schmidt\u001b[0m: Orthonormalizing vector 3 again\n",
      "00:01 \u001b[1mgram_schmidt\u001b[0m: Orthonormalizing vector 4 again\n",
      "00:01 \u001b[1mgram_schmidt\u001b[0m: Orthonormalizing vector 5 again\n",
      "00:01 \u001b[1mgram_schmidt\u001b[0m: Orthonormalizing vector 6 again\n",
      "00:01 \u001b[1mgram_schmidt\u001b[0m: Orthonormalizing vector 7 again\n",
      "00:01 \u001b[1mgram_schmidt\u001b[0m: Orthonormalizing vector 8 again\n",
      "00:01 \u001b[1mgram_schmidt\u001b[0m: Orthonormalizing vector 9 again\n",
      "00:01 \u001b[1mgram_schmidt\u001b[0m: Orthonormalizing vector 1 again\n",
      "00:01 \u001b[1mgram_schmidt\u001b[0m: Orthonormalizing vector 2 again\n",
      "00:01 \u001b[1mgram_schmidt\u001b[0m: Orthonormalizing vector 3 again\n",
      "00:01 \u001b[1mgram_schmidt\u001b[0m: Orthonormalizing vector 4 again\n",
      "00:01 \u001b[1mgram_schmidt\u001b[0m: Orthonormalizing vector 5 again\n",
      "00:01 \u001b[1mgram_schmidt\u001b[0m: Orthonormalizing vector 6 again\n",
      "00:01 \u001b[1mgram_schmidt\u001b[0m: Orthonormalizing vector 7 again\n",
      "00:01 \u001b[1mgram_schmidt\u001b[0m: Orthonormalizing vector 8 again\n",
      "00:01 \u001b[1mgram_schmidt\u001b[0m: Orthonormalizing vector 9 again\n",
      "00:01 \u001b[1mLTIPGReductor\u001b[0m: Operator projection ...\n",
      "00:01 \u001b[1mLTIPGReductor\u001b[0m: Building ROM ...\n",
      "00:01 \u001b[1mIRKAReductor\u001b[0m: Convergence criterion in iteration 2: 1.979181e+01\n",
      "00:01 \u001b[1mgram_schmidt\u001b[0m: Orthonormalizing vector 1 again\n",
      "00:01 \u001b[1mgram_schmidt\u001b[0m: Orthonormalizing vector 2 again\n",
      "00:01 \u001b[1mgram_schmidt\u001b[0m: Orthonormalizing vector 3 again\n",
      "00:01 \u001b[1mgram_schmidt\u001b[0m: Orthonormalizing vector 4 again\n",
      "00:01 \u001b[1mgram_schmidt\u001b[0m: Orthonormalizing vector 5 again\n",
      "00:01 \u001b[1mgram_schmidt\u001b[0m: Orthonormalizing vector 6 again\n",
      "00:01 \u001b[1mgram_schmidt\u001b[0m: Orthonormalizing vector 7 again\n",
      "00:01 \u001b[1mgram_schmidt\u001b[0m: Orthonormalizing vector 8 again\n",
      "00:01 \u001b[1mgram_schmidt\u001b[0m: Orthonormalizing vector 9 again\n",
      "00:01 \u001b[1mgram_schmidt\u001b[0m: Orthonormalizing vector 1 again\n",
      "00:01 \u001b[1mgram_schmidt\u001b[0m: Orthonormalizing vector 2 again\n",
      "00:01 \u001b[1mgram_schmidt\u001b[0m: Orthonormalizing vector 3 again\n",
      "00:01 \u001b[1mgram_schmidt\u001b[0m: Orthonormalizing vector 4 again\n",
      "00:01 \u001b[1mgram_schmidt\u001b[0m: Orthonormalizing vector 5 again\n",
      "00:01 \u001b[1mgram_schmidt\u001b[0m: Orthonormalizing vector 6 again\n",
      "00:01 \u001b[1mgram_schmidt\u001b[0m: Orthonormalizing vector 7 again\n",
      "00:01 \u001b[1mgram_schmidt\u001b[0m: Orthonormalizing vector 8 again\n",
      "00:01 \u001b[1mgram_schmidt\u001b[0m: Orthonormalizing vector 9 again\n",
      "00:01 \u001b[1mLTIPGReductor\u001b[0m: Operator projection ...\n",
      "00:01 \u001b[1mLTIPGReductor\u001b[0m: Building ROM ...\n",
      "00:01 \u001b[1mIRKAReductor\u001b[0m: Convergence criterion in iteration 3: 9.705857e+00\n",
      "00:01 \u001b[1mgram_schmidt\u001b[0m: Orthonormalizing vector 2 again\n",
      "00:01 \u001b[1mgram_schmidt\u001b[0m: Orthonormalizing vector 3 again\n",
      "00:01 \u001b[1mgram_schmidt\u001b[0m: Orthonormalizing vector 4 again\n",
      "00:01 \u001b[1mgram_schmidt\u001b[0m: Orthonormalizing vector 5 again\n",
      "00:01 \u001b[1mgram_schmidt\u001b[0m: Orthonormalizing vector 6 again\n",
      "00:01 \u001b[1mgram_schmidt\u001b[0m: Orthonormalizing vector 7 again\n",
      "00:01 \u001b[1mgram_schmidt\u001b[0m: Orthonormalizing vector 8 again\n",
      "00:01 \u001b[1mgram_schmidt\u001b[0m: Orthonormalizing vector 9 again\n",
      "00:01 \u001b[1mgram_schmidt\u001b[0m: Orthonormalizing vector 1 again\n",
      "00:01 \u001b[1mgram_schmidt\u001b[0m: Orthonormalizing vector 2 again\n",
      "00:01 \u001b[1mgram_schmidt\u001b[0m: Orthonormalizing vector 3 again\n",
      "00:01 \u001b[1mgram_schmidt\u001b[0m: Orthonormalizing vector 4 again\n",
      "00:01 \u001b[1mgram_schmidt\u001b[0m: Orthonormalizing vector 5 again\n",
      "00:01 \u001b[1mgram_schmidt\u001b[0m: Orthonormalizing vector 6 again\n",
      "00:01 \u001b[1mgram_schmidt\u001b[0m: Orthonormalizing vector 7 again\n",
      "00:01 \u001b[1mgram_schmidt\u001b[0m: Orthonormalizing vector 8 again\n",
      "00:01 \u001b[1mgram_schmidt\u001b[0m: Orthonormalizing vector 9 again\n",
      "00:01 \u001b[1mLTIPGReductor\u001b[0m: Operator projection ...\n",
      "00:01 \u001b[1mLTIPGReductor\u001b[0m: Building ROM ...\n",
      "00:01 \u001b[1mIRKAReductor\u001b[0m: Convergence criterion in iteration 4: 1.039316e+01\n",
      "00:01 \u001b[1mgram_schmidt\u001b[0m: Orthonormalizing vector 1 again\n",
      "00:01 \u001b[1mgram_schmidt\u001b[0m: Orthonormalizing vector 2 again\n",
      "00:01 \u001b[1mgram_schmidt\u001b[0m: Orthonormalizing vector 3 again\n",
      "00:01 \u001b[1mgram_schmidt\u001b[0m: Orthonormalizing vector 4 again\n",
      "00:01 \u001b[1mgram_schmidt\u001b[0m: Orthonormalizing vector 5 again\n",
      "00:01 \u001b[1mgram_schmidt\u001b[0m: Orthonormalizing vector 6 again\n",
      "00:01 \u001b[1mgram_schmidt\u001b[0m: Orthonormalizing vector 7 again\n",
      "00:01 \u001b[1mgram_schmidt\u001b[0m: Orthonormalizing vector 8 again\n",
      "00:01 \u001b[1mgram_schmidt\u001b[0m: Orthonormalizing vector 9 again\n",
      "00:01 \u001b[1mgram_schmidt\u001b[0m: Orthonormalizing vector 1 again\n",
      "00:01 \u001b[1mgram_schmidt\u001b[0m: Orthonormalizing vector 2 again\n",
      "00:01 \u001b[1mgram_schmidt\u001b[0m: Orthonormalizing vector 3 again\n",
      "00:01 \u001b[1mgram_schmidt\u001b[0m: Orthonormalizing vector 4 again\n",
      "00:01 \u001b[1mgram_schmidt\u001b[0m: Orthonormalizing vector 5 again\n",
      "00:01 \u001b[1mgram_schmidt\u001b[0m: Orthonormalizing vector 6 again\n",
      "00:01 \u001b[1mgram_schmidt\u001b[0m: Orthonormalizing vector 7 again\n",
      "00:01 \u001b[1mgram_schmidt\u001b[0m: Orthonormalizing vector 8 again\n",
      "00:01 \u001b[1mgram_schmidt\u001b[0m: Orthonormalizing vector 9 again\n",
      "00:01 \u001b[1mLTIPGReductor\u001b[0m: Operator projection ...\n",
      "00:01 \u001b[1mLTIPGReductor\u001b[0m: Building ROM ...\n",
      "00:01 \u001b[1mIRKAReductor\u001b[0m: Convergence criterion in iteration 5: 3.839430e+01\n",
      "00:01 \u001b[1mgram_schmidt\u001b[0m: Orthonormalizing vector 2 again\n",
      "00:01 \u001b[1mgram_schmidt\u001b[0m: Orthonormalizing vector 3 again\n",
      "00:01 \u001b[1mgram_schmidt\u001b[0m: Orthonormalizing vector 4 again\n",
      "00:01 \u001b[1mgram_schmidt\u001b[0m: Orthonormalizing vector 5 again\n",
      "00:01 \u001b[1mgram_schmidt\u001b[0m: Orthonormalizing vector 6 again\n",
      "00:01 \u001b[1mgram_schmidt\u001b[0m: Orthonormalizing vector 7 again\n",
      "00:01 \u001b[1mgram_schmidt\u001b[0m: Orthonormalizing vector 8 again\n",
      "00:01 \u001b[1mgram_schmidt\u001b[0m: Orthonormalizing vector 9 again\n",
      "00:01 \u001b[1mgram_schmidt\u001b[0m: Orthonormalizing vector 1 again\n",
      "00:01 \u001b[1mgram_schmidt\u001b[0m: Orthonormalizing vector 2 again\n",
      "00:01 \u001b[1mgram_schmidt\u001b[0m: Orthonormalizing vector 3 again\n",
      "00:01 \u001b[1mgram_schmidt\u001b[0m: Orthonormalizing vector 4 again\n",
      "00:01 \u001b[1mgram_schmidt\u001b[0m: Orthonormalizing vector 5 again\n",
      "00:01 \u001b[1mgram_schmidt\u001b[0m: Orthonormalizing vector 6 again\n",
      "00:01 \u001b[1mgram_schmidt\u001b[0m: Orthonormalizing vector 7 again\n",
      "00:01 \u001b[1mgram_schmidt\u001b[0m: Orthonormalizing vector 8 again\n",
      "00:01 \u001b[1mgram_schmidt\u001b[0m: Orthonormalizing vector 9 again\n",
      "00:01 \u001b[1mLTIPGReductor\u001b[0m: Operator projection ...\n",
      "00:01 \u001b[1mLTIPGReductor\u001b[0m: Building ROM ...\n",
      "00:01 \u001b[1mIRKAReductor\u001b[0m: Convergence criterion in iteration 6: 4.730585e+00\n",
      "00:01 \u001b[1mgram_schmidt\u001b[0m: Orthonormalizing vector 2 again\n",
      "00:01 \u001b[1mgram_schmidt\u001b[0m: Orthonormalizing vector 3 again\n",
      "00:01 \u001b[1mgram_schmidt\u001b[0m: Orthonormalizing vector 4 again\n",
      "00:01 \u001b[1mgram_schmidt\u001b[0m: Orthonormalizing vector 6 again\n",
      "00:01 \u001b[1mgram_schmidt\u001b[0m: Orthonormalizing vector 7 again\n",
      "00:01 \u001b[1mgram_schmidt\u001b[0m: Orthonormalizing vector 8 again\n",
      "00:01 \u001b[1mgram_schmidt\u001b[0m: Orthonormalizing vector 9 again\n",
      "00:01 \u001b[1mgram_schmidt\u001b[0m: Orthonormalizing vector 2 again\n",
      "00:01 \u001b[1mgram_schmidt\u001b[0m: Orthonormalizing vector 3 again\n",
      "00:01 \u001b[1mgram_schmidt\u001b[0m: Orthonormalizing vector 4 again\n",
      "00:01 \u001b[1mgram_schmidt\u001b[0m: Orthonormalizing vector 5 again\n",
      "00:01 \u001b[1mgram_schmidt\u001b[0m: Orthonormalizing vector 6 again\n",
      "00:01 \u001b[1mgram_schmidt\u001b[0m: Orthonormalizing vector 7 again\n",
      "00:01 \u001b[1mgram_schmidt\u001b[0m: Orthonormalizing vector 8 again\n",
      "00:01 \u001b[1mgram_schmidt\u001b[0m: Orthonormalizing vector 9 again\n",
      "00:01 \u001b[1mLTIPGReductor\u001b[0m: Operator projection ...\n",
      "00:01 \u001b[1mLTIPGReductor\u001b[0m: Building ROM ...\n",
      "00:01 \u001b[1mIRKAReductor\u001b[0m: Convergence criterion in iteration 7: 4.591669e+00\n",
      "00:01 \u001b[1mgram_schmidt\u001b[0m: Orthonormalizing vector 1 again\n",
      "00:01 \u001b[1mgram_schmidt\u001b[0m: Orthonormalizing vector 2 again\n",
      "00:01 \u001b[1mgram_schmidt\u001b[0m: Orthonormalizing vector 3 again\n",
      "00:01 \u001b[1mgram_schmidt\u001b[0m: Orthonormalizing vector 4 again\n",
      "00:01 \u001b[1mgram_schmidt\u001b[0m: Orthonormalizing vector 5 again\n",
      "00:01 \u001b[1mgram_schmidt\u001b[0m: Orthonormalizing vector 6 again\n",
      "00:01 \u001b[1mgram_schmidt\u001b[0m: Orthonormalizing vector 7 again\n",
      "00:01 \u001b[1mgram_schmidt\u001b[0m: Orthonormalizing vector 8 again\n",
      "00:01 \u001b[1mgram_schmidt\u001b[0m: Orthonormalizing vector 9 again\n",
      "00:01 \u001b[1mgram_schmidt\u001b[0m: Orthonormalizing vector 2 again\n",
      "00:01 \u001b[1mgram_schmidt\u001b[0m: Orthonormalizing vector 3 again\n",
      "00:01 \u001b[1mgram_schmidt\u001b[0m: Orthonormalizing vector 4 again\n",
      "00:01 \u001b[1mgram_schmidt\u001b[0m: Orthonormalizing vector 5 again\n",
      "00:01 \u001b[1mgram_schmidt\u001b[0m: Orthonormalizing vector 6 again\n",
      "00:01 \u001b[1mgram_schmidt\u001b[0m: Orthonormalizing vector 7 again\n",
      "00:01 \u001b[1mgram_schmidt\u001b[0m: Orthonormalizing vector 8 again\n",
      "00:01 \u001b[1mgram_schmidt\u001b[0m: Orthonormalizing vector 9 again\n",
      "00:01 \u001b[1mLTIPGReductor\u001b[0m: Operator projection ...\n",
      "00:01 \u001b[1mLTIPGReductor\u001b[0m: Building ROM ...\n",
      "00:01 \u001b[1mIRKAReductor\u001b[0m: Convergence criterion in iteration 8: 9.427897e+00\n",
      "00:01 \u001b[1mgram_schmidt\u001b[0m: Orthonormalizing vector 2 again\n",
      "00:01 \u001b[1mgram_schmidt\u001b[0m: Orthonormalizing vector 3 again\n",
      "00:01 \u001b[1mgram_schmidt\u001b[0m: Orthonormalizing vector 4 again\n",
      "00:01 \u001b[1mgram_schmidt\u001b[0m: Orthonormalizing vector 5 again\n",
      "00:01 \u001b[1mgram_schmidt\u001b[0m: Orthonormalizing vector 6 again\n",
      "00:01 \u001b[1mgram_schmidt\u001b[0m: Orthonormalizing vector 7 again\n",
      "00:01 \u001b[1mgram_schmidt\u001b[0m: Orthonormalizing vector 8 again\n",
      "00:01 \u001b[1mgram_schmidt\u001b[0m: Orthonormalizing vector 9 again\n",
      "00:01 \u001b[1mgram_schmidt\u001b[0m: Orthonormalizing vector 1 again\n",
      "00:01 \u001b[1mgram_schmidt\u001b[0m: Orthonormalizing vector 2 again\n",
      "00:01 \u001b[1mgram_schmidt\u001b[0m: Orthonormalizing vector 3 again\n",
      "00:01 \u001b[1mgram_schmidt\u001b[0m: Orthonormalizing vector 4 again\n",
      "00:01 \u001b[1mgram_schmidt\u001b[0m: Orthonormalizing vector 5 again\n",
      "00:01 \u001b[1mgram_schmidt\u001b[0m: Orthonormalizing vector 6 again\n",
      "00:01 \u001b[1mgram_schmidt\u001b[0m: Orthonormalizing vector 7 again\n",
      "00:01 \u001b[1mgram_schmidt\u001b[0m: Orthonormalizing vector 8 again\n",
      "00:01 \u001b[1mgram_schmidt\u001b[0m: Orthonormalizing vector 9 again\n",
      "00:01 \u001b[1mLTIPGReductor\u001b[0m: Operator projection ...\n",
      "00:01 \u001b[1mLTIPGReductor\u001b[0m: Building ROM ...\n",
      "00:01 \u001b[1mIRKAReductor\u001b[0m: Convergence criterion in iteration 9: 1.002395e+01\n",
      "00:01 \u001b[1mgram_schmidt\u001b[0m: Orthonormalizing vector 1 again\n",
      "00:01 \u001b[1mgram_schmidt\u001b[0m: Orthonormalizing vector 2 again\n",
      "00:01 \u001b[1mgram_schmidt\u001b[0m: Orthonormalizing vector 3 again\n",
      "00:01 \u001b[1mgram_schmidt\u001b[0m: Orthonormalizing vector 4 again\n",
      "00:01 \u001b[1mgram_schmidt\u001b[0m: Orthonormalizing vector 5 again\n",
      "00:01 \u001b[1mgram_schmidt\u001b[0m: Orthonormalizing vector 6 again\n",
      "00:01 \u001b[1mgram_schmidt\u001b[0m: Orthonormalizing vector 7 again\n",
      "00:01 \u001b[1mgram_schmidt\u001b[0m: Orthonormalizing vector 8 again\n",
      "00:01 \u001b[1mgram_schmidt\u001b[0m: Orthonormalizing vector 9 again\n",
      "00:01 \u001b[1mgram_schmidt\u001b[0m: Orthonormalizing vector 1 again\n",
      "00:01 \u001b[1mgram_schmidt\u001b[0m: Orthonormalizing vector 2 again\n",
      "00:01 \u001b[1mgram_schmidt\u001b[0m: Orthonormalizing vector 3 again\n",
      "00:01 \u001b[1mgram_schmidt\u001b[0m: Orthonormalizing vector 4 again\n",
      "00:01 \u001b[1mgram_schmidt\u001b[0m: Orthonormalizing vector 5 again\n",
      "00:01 \u001b[1mgram_schmidt\u001b[0m: Orthonormalizing vector 6 again\n",
      "00:01 \u001b[1mgram_schmidt\u001b[0m: Orthonormalizing vector 7 again\n",
      "00:01 \u001b[1mgram_schmidt\u001b[0m: Orthonormalizing vector 8 again\n",
      "00:01 \u001b[1mgram_schmidt\u001b[0m: Orthonormalizing vector 9 again\n",
      "00:01 \u001b[1mLTIPGReductor\u001b[0m: Operator projection ...\n",
      "00:01 \u001b[1mLTIPGReductor\u001b[0m: Building ROM ...\n",
      "00:01 \u001b[1mIRKAReductor\u001b[0m: Convergence criterion in iteration 10: 4.403651e+01\n",
      "00:01 \u001b[1mgram_schmidt\u001b[0m: Orthonormalizing vector 2 again\n",
      "00:01 \u001b[1mgram_schmidt\u001b[0m: Orthonormalizing vector 3 again\n",
      "00:01 \u001b[1mgram_schmidt\u001b[0m: Orthonormalizing vector 4 again\n",
      "00:01 \u001b[1mgram_schmidt\u001b[0m: Orthonormalizing vector 5 again\n",
      "00:01 \u001b[1mgram_schmidt\u001b[0m: Orthonormalizing vector 6 again\n",
      "00:01 \u001b[1mgram_schmidt\u001b[0m: Orthonormalizing vector 7 again\n",
      "00:01 \u001b[1mgram_schmidt\u001b[0m: Orthonormalizing vector 8 again\n",
      "00:01 \u001b[1mgram_schmidt\u001b[0m: Orthonormalizing vector 9 again\n",
      "00:01 \u001b[1mgram_schmidt\u001b[0m: Orthonormalizing vector 1 again\n",
      "00:01 \u001b[1mgram_schmidt\u001b[0m: Orthonormalizing vector 2 again\n",
      "00:01 \u001b[1mgram_schmidt\u001b[0m: Orthonormalizing vector 3 again\n",
      "00:01 \u001b[1mgram_schmidt\u001b[0m: Orthonormalizing vector 4 again\n",
      "00:01 \u001b[1mgram_schmidt\u001b[0m: Orthonormalizing vector 5 again\n",
      "00:01 \u001b[1mgram_schmidt\u001b[0m: Orthonormalizing vector 6 again\n",
      "00:01 \u001b[1mgram_schmidt\u001b[0m: Orthonormalizing vector 7 again\n",
      "00:01 \u001b[1mgram_schmidt\u001b[0m: Orthonormalizing vector 8 again\n",
      "00:01 \u001b[1mgram_schmidt\u001b[0m: Orthonormalizing vector 9 again\n",
      "00:01 \u001b[1mLTIPGReductor\u001b[0m: Operator projection ...\n",
      "00:01 \u001b[1mLTIPGReductor\u001b[0m: Building ROM ...\n",
      "00:01 \u001b[1mIRKAReductor\u001b[0m: Convergence criterion in iteration 11: 1.829456e+00\n",
      "00:01 \u001b[1mgram_schmidt\u001b[0m: Orthonormalizing vector 2 again\n",
      "00:01 \u001b[1mgram_schmidt\u001b[0m: Orthonormalizing vector 3 again\n",
      "00:01 \u001b[1mgram_schmidt\u001b[0m: Orthonormalizing vector 4 again\n",
      "00:01 \u001b[1mgram_schmidt\u001b[0m: Orthonormalizing vector 6 again\n",
      "00:01 \u001b[1mgram_schmidt\u001b[0m: Orthonormalizing vector 7 again\n",
      "00:01 \u001b[1mgram_schmidt\u001b[0m: Orthonormalizing vector 8 again\n",
      "00:01 \u001b[1mgram_schmidt\u001b[0m: Orthonormalizing vector 9 again\n",
      "00:01 \u001b[1mgram_schmidt\u001b[0m: Orthonormalizing vector 2 again\n",
      "00:01 \u001b[1mgram_schmidt\u001b[0m: Orthonormalizing vector 3 again\n",
      "00:01 \u001b[1mgram_schmidt\u001b[0m: Orthonormalizing vector 4 again\n",
      "00:01 \u001b[1mgram_schmidt\u001b[0m: Orthonormalizing vector 5 again\n",
      "00:01 \u001b[1mgram_schmidt\u001b[0m: Orthonormalizing vector 6 again\n",
      "00:01 \u001b[1mgram_schmidt\u001b[0m: Orthonormalizing vector 7 again\n",
      "00:01 \u001b[1mgram_schmidt\u001b[0m: Orthonormalizing vector 8 again\n",
      "00:01 \u001b[1mgram_schmidt\u001b[0m: Orthonormalizing vector 9 again\n",
      "00:01 \u001b[1mLTIPGReductor\u001b[0m: Operator projection ...\n",
      "00:01 \u001b[1mLTIPGReductor\u001b[0m: Building ROM ...\n",
      "00:01 \u001b[1mIRKAReductor\u001b[0m: Convergence criterion in iteration 12: 7.621355e+00\n",
      "00:01 \u001b[1mgram_schmidt\u001b[0m: Orthonormalizing vector 1 again\n",
      "00:01 \u001b[1mgram_schmidt\u001b[0m: Orthonormalizing vector 2 again\n",
      "00:01 \u001b[1mgram_schmidt\u001b[0m: Orthonormalizing vector 3 again\n",
      "00:01 \u001b[1mgram_schmidt\u001b[0m: Orthonormalizing vector 4 again\n",
      "00:01 \u001b[1mgram_schmidt\u001b[0m: Orthonormalizing vector 5 again\n",
      "00:01 \u001b[1mgram_schmidt\u001b[0m: Orthonormalizing vector 6 again\n",
      "00:01 \u001b[1mgram_schmidt\u001b[0m: Orthonormalizing vector 7 again\n",
      "00:01 \u001b[1mgram_schmidt\u001b[0m: Orthonormalizing vector 8 again\n",
      "00:01 \u001b[1mgram_schmidt\u001b[0m: Orthonormalizing vector 9 again\n",
      "00:01 \u001b[1mgram_schmidt\u001b[0m: Orthonormalizing vector 1 again\n",
      "00:01 \u001b[1mgram_schmidt\u001b[0m: Orthonormalizing vector 2 again\n",
      "00:01 \u001b[1mgram_schmidt\u001b[0m: Orthonormalizing vector 3 again\n",
      "00:01 \u001b[1mgram_schmidt\u001b[0m: Orthonormalizing vector 4 again\n",
      "00:01 \u001b[1mgram_schmidt\u001b[0m: Orthonormalizing vector 5 again\n",
      "00:01 \u001b[1mgram_schmidt\u001b[0m: Orthonormalizing vector 6 again\n",
      "00:01 \u001b[1mgram_schmidt\u001b[0m: Orthonormalizing vector 7 again\n",
      "00:01 \u001b[1mgram_schmidt\u001b[0m: Orthonormalizing vector 8 again\n",
      "00:01 \u001b[1mgram_schmidt\u001b[0m: Orthonormalizing vector 9 again\n",
      "00:01 \u001b[1mLTIPGReductor\u001b[0m: Operator projection ...\n",
      "00:01 \u001b[1mLTIPGReductor\u001b[0m: Building ROM ...\n",
      "00:01 \u001b[1mIRKAReductor\u001b[0m: Convergence criterion in iteration 13: 4.252716e+01\n",
      "00:01 \u001b[1mgram_schmidt\u001b[0m: Orthonormalizing vector 1 again\n",
      "00:01 \u001b[1mgram_schmidt\u001b[0m: Orthonormalizing vector 3 again\n",
      "00:01 \u001b[1mgram_schmidt\u001b[0m: Orthonormalizing vector 4 again\n",
      "00:01 \u001b[1mgram_schmidt\u001b[0m: Orthonormalizing vector 5 again\n",
      "00:01 \u001b[1mgram_schmidt\u001b[0m: Orthonormalizing vector 6 again\n",
      "00:01 \u001b[1mgram_schmidt\u001b[0m: Orthonormalizing vector 7 again\n",
      "00:01 \u001b[1mgram_schmidt\u001b[0m: Orthonormalizing vector 8 again\n",
      "00:01 \u001b[1mgram_schmidt\u001b[0m: Orthonormalizing vector 9 again\n",
      "00:01 \u001b[1mgram_schmidt\u001b[0m: Orthonormalizing vector 2 again\n",
      "00:01 \u001b[1mgram_schmidt\u001b[0m: Orthonormalizing vector 3 again\n",
      "00:01 \u001b[1mgram_schmidt\u001b[0m: Orthonormalizing vector 4 again\n",
      "00:01 \u001b[1mgram_schmidt\u001b[0m: Orthonormalizing vector 5 again\n",
      "00:01 \u001b[1mgram_schmidt\u001b[0m: Orthonormalizing vector 6 again\n",
      "00:01 \u001b[1mgram_schmidt\u001b[0m: Orthonormalizing vector 7 again\n",
      "00:01 \u001b[1mgram_schmidt\u001b[0m: Orthonormalizing vector 8 again\n",
      "00:01 \u001b[1mgram_schmidt\u001b[0m: Orthonormalizing vector 9 again\n",
      "00:01 \u001b[1mLTIPGReductor\u001b[0m: Operator projection ...\n",
      "00:01 \u001b[1mLTIPGReductor\u001b[0m: Building ROM ...\n",
      "00:01 \u001b[1mIRKAReductor\u001b[0m: Convergence criterion in iteration 14: 8.657071e+00\n",
      "00:01 \u001b[1mgram_schmidt\u001b[0m: Orthonormalizing vector 1 again\n",
      "00:01 \u001b[1mgram_schmidt\u001b[0m: Orthonormalizing vector 2 again\n",
      "00:01 \u001b[1mgram_schmidt\u001b[0m: Orthonormalizing vector 3 again\n",
      "00:01 \u001b[1mgram_schmidt\u001b[0m: Orthonormalizing vector 4 again\n",
      "00:01 \u001b[1mgram_schmidt\u001b[0m: Orthonormalizing vector 5 again\n",
      "00:01 \u001b[1mgram_schmidt\u001b[0m: Orthonormalizing vector 6 again\n",
      "00:01 \u001b[1mgram_schmidt\u001b[0m: Orthonormalizing vector 7 again\n",
      "00:01 \u001b[1mgram_schmidt\u001b[0m: Orthonormalizing vector 8 again\n",
      "00:01 \u001b[1mgram_schmidt\u001b[0m: Orthonormalizing vector 9 again\n",
      "00:01 \u001b[1mgram_schmidt\u001b[0m: Orthonormalizing vector 2 again\n",
      "00:01 \u001b[1mgram_schmidt\u001b[0m: Orthonormalizing vector 3 again\n",
      "00:01 \u001b[1mgram_schmidt\u001b[0m: Orthonormalizing vector 4 again\n",
      "00:01 \u001b[1mgram_schmidt\u001b[0m: Orthonormalizing vector 5 again\n",
      "00:01 \u001b[1mgram_schmidt\u001b[0m: Orthonormalizing vector 6 again\n",
      "00:01 \u001b[1mgram_schmidt\u001b[0m: Orthonormalizing vector 7 again\n",
      "00:01 \u001b[1mgram_schmidt\u001b[0m: Orthonormalizing vector 8 again\n",
      "00:01 \u001b[1mgram_schmidt\u001b[0m: Orthonormalizing vector 9 again\n",
      "00:01 \u001b[1mLTIPGReductor\u001b[0m: Operator projection ...\n",
      "00:01 \u001b[1mLTIPGReductor\u001b[0m: Building ROM ...\n",
      "00:01 \u001b[1mIRKAReductor\u001b[0m: Convergence criterion in iteration 15: 9.943123e+00\n",
      "00:01 \u001b[1mgram_schmidt\u001b[0m: Orthonormalizing vector 1 again\n",
      "00:01 \u001b[1mgram_schmidt\u001b[0m: Orthonormalizing vector 2 again\n",
      "00:01 \u001b[1mgram_schmidt\u001b[0m: Orthonormalizing vector 3 again\n",
      "00:01 \u001b[1mgram_schmidt\u001b[0m: Orthonormalizing vector 4 again\n",
      "00:01 \u001b[1mgram_schmidt\u001b[0m: Orthonormalizing vector 5 again\n",
      "00:01 \u001b[1mgram_schmidt\u001b[0m: Orthonormalizing vector 6 again\n",
      "00:01 \u001b[1mgram_schmidt\u001b[0m: Orthonormalizing vector 7 again\n",
      "00:01 \u001b[1mgram_schmidt\u001b[0m: Orthonormalizing vector 8 again\n",
      "00:01 \u001b[1mgram_schmidt\u001b[0m: Orthonormalizing vector 9 again\n",
      "00:01 \u001b[1mgram_schmidt\u001b[0m: Orthonormalizing vector 1 again\n",
      "00:01 \u001b[1mgram_schmidt\u001b[0m: Orthonormalizing vector 2 again\n",
      "00:01 \u001b[1mgram_schmidt\u001b[0m: Orthonormalizing vector 3 again\n",
      "00:01 \u001b[1mgram_schmidt\u001b[0m: Orthonormalizing vector 4 again\n",
      "00:01 \u001b[1mgram_schmidt\u001b[0m: Orthonormalizing vector 5 again\n",
      "00:01 \u001b[1mgram_schmidt\u001b[0m: Orthonormalizing vector 6 again\n",
      "00:01 \u001b[1mgram_schmidt\u001b[0m: Orthonormalizing vector 7 again\n",
      "00:01 \u001b[1mgram_schmidt\u001b[0m: Orthonormalizing vector 8 again\n",
      "00:01 \u001b[1mgram_schmidt\u001b[0m: Orthonormalizing vector 9 again\n",
      "00:01 \u001b[1mLTIPGReductor\u001b[0m: Operator projection ...\n",
      "00:01 \u001b[1mLTIPGReductor\u001b[0m: Building ROM ...\n",
      "00:01 \u001b[1mIRKAReductor\u001b[0m: Convergence criterion in iteration 16: 1.537821e-01\n",
      "00:01 \u001b[1mgram_schmidt\u001b[0m: Orthonormalizing vector 1 again\n",
      "00:01 \u001b[1mgram_schmidt\u001b[0m: Orthonormalizing vector 2 again\n",
      "00:01 \u001b[1mgram_schmidt\u001b[0m: Orthonormalizing vector 3 again\n",
      "00:01 \u001b[1mgram_schmidt\u001b[0m: Orthonormalizing vector 4 again\n",
      "00:01 \u001b[1mgram_schmidt\u001b[0m: Orthonormalizing vector 5 again\n",
      "00:01 \u001b[1mgram_schmidt\u001b[0m: Orthonormalizing vector 6 again\n",
      "00:01 \u001b[1mgram_schmidt\u001b[0m: Orthonormalizing vector 7 again\n",
      "00:01 \u001b[1mgram_schmidt\u001b[0m: Orthonormalizing vector 8 again\n",
      "00:01 \u001b[1mgram_schmidt\u001b[0m: Orthonormalizing vector 9 again\n",
      "00:01 \u001b[1mgram_schmidt\u001b[0m: Orthonormalizing vector 2 again\n",
      "00:01 \u001b[1mgram_schmidt\u001b[0m: Orthonormalizing vector 3 again\n",
      "00:01 \u001b[1mgram_schmidt\u001b[0m: Orthonormalizing vector 4 again\n",
      "00:01 \u001b[1mgram_schmidt\u001b[0m: Orthonormalizing vector 5 again\n",
      "00:01 \u001b[1mgram_schmidt\u001b[0m: Orthonormalizing vector 6 again\n",
      "00:01 \u001b[1mgram_schmidt\u001b[0m: Orthonormalizing vector 7 again\n",
      "00:01 \u001b[1mgram_schmidt\u001b[0m: Orthonormalizing vector 8 again\n",
      "00:01 \u001b[1mgram_schmidt\u001b[0m: Orthonormalizing vector 9 again\n",
      "00:01 \u001b[1mLTIPGReductor\u001b[0m: Operator projection ...\n",
      "00:01 \u001b[1mLTIPGReductor\u001b[0m: Building ROM ...\n",
      "00:01 \u001b[1mIRKAReductor\u001b[0m: Convergence criterion in iteration 17: 9.604178e+00\n",
      "00:01 \u001b[1mgram_schmidt\u001b[0m: Orthonormalizing vector 1 again\n",
      "00:01 \u001b[1mgram_schmidt\u001b[0m: Orthonormalizing vector 2 again\n",
      "00:01 \u001b[1mgram_schmidt\u001b[0m: Orthonormalizing vector 3 again\n",
      "00:01 \u001b[1mgram_schmidt\u001b[0m: Orthonormalizing vector 4 again\n",
      "00:01 \u001b[1mgram_schmidt\u001b[0m: Orthonormalizing vector 5 again\n",
      "00:01 \u001b[1mgram_schmidt\u001b[0m: Orthonormalizing vector 6 again\n",
      "00:01 \u001b[1mgram_schmidt\u001b[0m: Orthonormalizing vector 7 again\n",
      "00:01 \u001b[1mgram_schmidt\u001b[0m: Orthonormalizing vector 8 again\n",
      "00:01 \u001b[1mgram_schmidt\u001b[0m: Orthonormalizing vector 9 again\n",
      "00:01 \u001b[1mgram_schmidt\u001b[0m: Orthonormalizing vector 1 again\n",
      "00:01 \u001b[1mgram_schmidt\u001b[0m: Orthonormalizing vector 2 again\n",
      "00:01 \u001b[1mgram_schmidt\u001b[0m: Orthonormalizing vector 3 again\n",
      "00:01 \u001b[1mgram_schmidt\u001b[0m: Orthonormalizing vector 4 again\n",
      "00:01 \u001b[1mgram_schmidt\u001b[0m: Orthonormalizing vector 5 again\n",
      "00:01 \u001b[1mgram_schmidt\u001b[0m: Orthonormalizing vector 6 again\n",
      "00:01 \u001b[1mgram_schmidt\u001b[0m: Orthonormalizing vector 7 again\n",
      "00:01 \u001b[1mgram_schmidt\u001b[0m: Orthonormalizing vector 8 again\n",
      "00:01 \u001b[1mgram_schmidt\u001b[0m: Orthonormalizing vector 9 again\n",
      "00:01 \u001b[1mLTIPGReductor\u001b[0m: Operator projection ...\n",
      "00:01 \u001b[1mLTIPGReductor\u001b[0m: Building ROM ...\n",
      "00:01 \u001b[1mIRKAReductor\u001b[0m: Convergence criterion in iteration 18: 9.470952e+00\n",
      "00:01 \u001b[1mgram_schmidt\u001b[0m: Orthonormalizing vector 1 again\n",
      "00:01 \u001b[1mgram_schmidt\u001b[0m: Orthonormalizing vector 2 again\n",
      "00:01 \u001b[1mgram_schmidt\u001b[0m: Orthonormalizing vector 3 again\n",
      "00:01 \u001b[1mgram_schmidt\u001b[0m: Orthonormalizing vector 4 again\n",
      "00:01 \u001b[1mgram_schmidt\u001b[0m: Orthonormalizing vector 5 again\n",
      "00:01 \u001b[1mgram_schmidt\u001b[0m: Orthonormalizing vector 6 again\n",
      "00:01 \u001b[1mgram_schmidt\u001b[0m: Orthonormalizing vector 7 again\n",
      "00:01 \u001b[1mgram_schmidt\u001b[0m: Orthonormalizing vector 8 again\n",
      "00:01 \u001b[1mgram_schmidt\u001b[0m: Orthonormalizing vector 9 again\n",
      "00:01 \u001b[1mgram_schmidt\u001b[0m: Orthonormalizing vector 1 again\n",
      "00:01 \u001b[1mgram_schmidt\u001b[0m: Orthonormalizing vector 2 again\n",
      "00:01 \u001b[1mgram_schmidt\u001b[0m: Orthonormalizing vector 3 again\n",
      "00:01 \u001b[1mgram_schmidt\u001b[0m: Orthonormalizing vector 4 again\n",
      "00:01 \u001b[1mgram_schmidt\u001b[0m: Orthonormalizing vector 5 again\n",
      "00:01 \u001b[1mgram_schmidt\u001b[0m: Orthonormalizing vector 6 again\n",
      "00:01 \u001b[1mgram_schmidt\u001b[0m: Orthonormalizing vector 7 again\n",
      "00:01 \u001b[1mgram_schmidt\u001b[0m: Orthonormalizing vector 8 again\n",
      "00:01 \u001b[1mgram_schmidt\u001b[0m: Orthonormalizing vector 9 again\n",
      "00:01 \u001b[1mLTIPGReductor\u001b[0m: Operator projection ...\n",
      "00:01 \u001b[1mLTIPGReductor\u001b[0m: Building ROM ...\n",
      "00:01 \u001b[1mIRKAReductor\u001b[0m: Convergence criterion in iteration 19: 1.052442e-02\n",
      "00:01 \u001b[1mgram_schmidt\u001b[0m: Orthonormalizing vector 1 again\n",
      "00:01 \u001b[1mgram_schmidt\u001b[0m: Orthonormalizing vector 2 again\n",
      "00:01 \u001b[1mgram_schmidt\u001b[0m: Orthonormalizing vector 3 again\n",
      "00:01 \u001b[1mgram_schmidt\u001b[0m: Orthonormalizing vector 4 again\n",
      "00:01 \u001b[1mgram_schmidt\u001b[0m: Orthonormalizing vector 5 again\n",
      "00:01 \u001b[1mgram_schmidt\u001b[0m: Orthonormalizing vector 6 again\n",
      "00:01 \u001b[1mgram_schmidt\u001b[0m: Orthonormalizing vector 7 again\n",
      "00:01 \u001b[1mgram_schmidt\u001b[0m: Orthonormalizing vector 8 again\n",
      "00:01 \u001b[1mgram_schmidt\u001b[0m: Orthonormalizing vector 9 again\n",
      "00:01 \u001b[1mgram_schmidt\u001b[0m: Orthonormalizing vector 1 again\n",
      "00:01 \u001b[1mgram_schmidt\u001b[0m: Orthonormalizing vector 2 again\n",
      "00:01 \u001b[1mgram_schmidt\u001b[0m: Orthonormalizing vector 3 again\n",
      "00:01 \u001b[1mgram_schmidt\u001b[0m: Orthonormalizing vector 4 again\n",
      "00:01 \u001b[1mgram_schmidt\u001b[0m: Orthonormalizing vector 5 again\n",
      "00:01 \u001b[1mgram_schmidt\u001b[0m: Orthonormalizing vector 6 again\n",
      "00:01 \u001b[1mgram_schmidt\u001b[0m: Orthonormalizing vector 7 again\n",
      "00:01 \u001b[1mgram_schmidt\u001b[0m: Orthonormalizing vector 8 again\n",
      "00:01 \u001b[1mgram_schmidt\u001b[0m: Orthonormalizing vector 9 again\n",
      "00:01 \u001b[1mLTIPGReductor\u001b[0m: Operator projection ...\n",
      "00:01 \u001b[1mLTIPGReductor\u001b[0m: Building ROM ...\n",
      "00:01 \u001b[1mIRKAReductor\u001b[0m: Convergence criterion in iteration 20: 3.858605e-03\n",
      "00:01 \u001b[1mgram_schmidt\u001b[0m: Orthonormalizing vector 1 again\n",
      "00:01 \u001b[1mgram_schmidt\u001b[0m: Orthonormalizing vector 2 again\n",
      "00:01 \u001b[1mgram_schmidt\u001b[0m: Orthonormalizing vector 3 again\n",
      "00:01 \u001b[1mgram_schmidt\u001b[0m: Orthonormalizing vector 4 again\n",
      "00:01 \u001b[1mgram_schmidt\u001b[0m: Orthonormalizing vector 5 again\n",
      "00:01 \u001b[1mgram_schmidt\u001b[0m: Orthonormalizing vector 6 again\n",
      "00:01 \u001b[1mgram_schmidt\u001b[0m: Orthonormalizing vector 7 again\n",
      "00:01 \u001b[1mgram_schmidt\u001b[0m: Orthonormalizing vector 8 again\n",
      "00:01 \u001b[1mgram_schmidt\u001b[0m: Orthonormalizing vector 9 again\n",
      "00:01 \u001b[1mgram_schmidt\u001b[0m: Orthonormalizing vector 1 again\n",
      "00:01 \u001b[1mgram_schmidt\u001b[0m: Orthonormalizing vector 2 again\n",
      "00:01 \u001b[1mgram_schmidt\u001b[0m: Orthonormalizing vector 3 again\n",
      "00:01 \u001b[1mgram_schmidt\u001b[0m: Orthonormalizing vector 4 again\n",
      "00:01 \u001b[1mgram_schmidt\u001b[0m: Orthonormalizing vector 5 again\n",
      "00:01 \u001b[1mgram_schmidt\u001b[0m: Orthonormalizing vector 6 again\n",
      "00:01 \u001b[1mgram_schmidt\u001b[0m: Orthonormalizing vector 7 again\n",
      "00:01 \u001b[1mgram_schmidt\u001b[0m: Orthonormalizing vector 8 again\n",
      "00:01 \u001b[1mgram_schmidt\u001b[0m: Orthonormalizing vector 9 again\n",
      "00:01 \u001b[1mLTIPGReductor\u001b[0m: Operator projection ...\n",
      "00:01 \u001b[1mLTIPGReductor\u001b[0m: Building ROM ...\n",
      "00:01 \u001b[1mIRKAReductor\u001b[0m: Convergence criterion in iteration 21: 1.454503e-03\n",
      "00:01 \u001b[1mgram_schmidt\u001b[0m: Orthonormalizing vector 1 again\n",
      "00:01 \u001b[1mgram_schmidt\u001b[0m: Orthonormalizing vector 2 again\n",
      "00:01 \u001b[1mgram_schmidt\u001b[0m: Orthonormalizing vector 3 again\n",
      "00:01 \u001b[1mgram_schmidt\u001b[0m: Orthonormalizing vector 4 again\n",
      "00:01 \u001b[1mgram_schmidt\u001b[0m: Orthonormalizing vector 5 again\n",
      "00:01 \u001b[1mgram_schmidt\u001b[0m: Orthonormalizing vector 6 again\n",
      "00:01 \u001b[1mgram_schmidt\u001b[0m: Orthonormalizing vector 7 again\n",
      "00:01 \u001b[1mgram_schmidt\u001b[0m: Orthonormalizing vector 8 again\n",
      "00:01 \u001b[1mgram_schmidt\u001b[0m: Orthonormalizing vector 9 again\n",
      "00:01 \u001b[1mgram_schmidt\u001b[0m: Orthonormalizing vector 1 again\n",
      "00:01 \u001b[1mgram_schmidt\u001b[0m: Orthonormalizing vector 2 again\n",
      "00:01 \u001b[1mgram_schmidt\u001b[0m: Orthonormalizing vector 3 again\n",
      "00:01 \u001b[1mgram_schmidt\u001b[0m: Orthonormalizing vector 4 again\n",
      "00:01 \u001b[1mgram_schmidt\u001b[0m: Orthonormalizing vector 5 again\n",
      "00:01 \u001b[1mgram_schmidt\u001b[0m: Orthonormalizing vector 6 again\n",
      "00:01 \u001b[1mgram_schmidt\u001b[0m: Orthonormalizing vector 7 again\n",
      "00:01 \u001b[1mgram_schmidt\u001b[0m: Orthonormalizing vector 8 again\n",
      "00:01 \u001b[1mgram_schmidt\u001b[0m: Orthonormalizing vector 9 again\n",
      "00:01 \u001b[1mLTIPGReductor\u001b[0m: Operator projection ...\n",
      "00:01 \u001b[1mLTIPGReductor\u001b[0m: Building ROM ...\n",
      "00:01 \u001b[1mIRKAReductor\u001b[0m: Convergence criterion in iteration 22: 5.422384e-04\n",
      "00:01 \u001b[1mgram_schmidt\u001b[0m: Orthonormalizing vector 1 again\n",
      "00:01 \u001b[1mgram_schmidt\u001b[0m: Orthonormalizing vector 2 again\n",
      "00:01 \u001b[1mgram_schmidt\u001b[0m: Orthonormalizing vector 3 again\n",
      "00:01 \u001b[1mgram_schmidt\u001b[0m: Orthonormalizing vector 4 again\n",
      "00:01 \u001b[1mgram_schmidt\u001b[0m: Orthonormalizing vector 5 again\n",
      "00:01 \u001b[1mgram_schmidt\u001b[0m: Orthonormalizing vector 6 again\n",
      "00:01 \u001b[1mgram_schmidt\u001b[0m: Orthonormalizing vector 7 again\n",
      "00:01 \u001b[1mgram_schmidt\u001b[0m: Orthonormalizing vector 8 again\n",
      "00:01 \u001b[1mgram_schmidt\u001b[0m: Orthonormalizing vector 9 again\n",
      "00:01 \u001b[1mgram_schmidt\u001b[0m: Orthonormalizing vector 1 again\n",
      "00:01 \u001b[1mgram_schmidt\u001b[0m: Orthonormalizing vector 2 again\n",
      "00:01 \u001b[1mgram_schmidt\u001b[0m: Orthonormalizing vector 3 again\n",
      "00:01 \u001b[1mgram_schmidt\u001b[0m: Orthonormalizing vector 4 again\n",
      "00:01 \u001b[1mgram_schmidt\u001b[0m: Orthonormalizing vector 5 again\n",
      "00:01 \u001b[1mgram_schmidt\u001b[0m: Orthonormalizing vector 6 again\n",
      "00:01 \u001b[1mgram_schmidt\u001b[0m: Orthonormalizing vector 7 again\n",
      "00:01 \u001b[1mgram_schmidt\u001b[0m: Orthonormalizing vector 8 again\n",
      "00:01 \u001b[1mgram_schmidt\u001b[0m: Orthonormalizing vector 9 again\n",
      "00:01 \u001b[1mLTIPGReductor\u001b[0m: Operator projection ...\n",
      "00:01 \u001b[1mLTIPGReductor\u001b[0m: Building ROM ...\n",
      "00:01 \u001b[1mIRKAReductor\u001b[0m: Convergence criterion in iteration 23: 2.030559e-04\n",
      "00:01 \u001b[1mgram_schmidt\u001b[0m: Orthonormalizing vector 1 again\n",
      "00:01 \u001b[1mgram_schmidt\u001b[0m: Orthonormalizing vector 2 again\n",
      "00:01 \u001b[1mgram_schmidt\u001b[0m: Orthonormalizing vector 3 again\n",
      "00:01 \u001b[1mgram_schmidt\u001b[0m: Orthonormalizing vector 4 again\n",
      "00:01 \u001b[1mgram_schmidt\u001b[0m: Orthonormalizing vector 5 again\n",
      "00:01 \u001b[1mgram_schmidt\u001b[0m: Orthonormalizing vector 6 again\n",
      "00:01 \u001b[1mgram_schmidt\u001b[0m: Orthonormalizing vector 7 again\n",
      "00:01 \u001b[1mgram_schmidt\u001b[0m: Orthonormalizing vector 8 again\n",
      "00:01 \u001b[1mgram_schmidt\u001b[0m: Orthonormalizing vector 9 again\n",
      "00:01 \u001b[1mgram_schmidt\u001b[0m: Orthonormalizing vector 1 again\n",
      "00:01 \u001b[1mgram_schmidt\u001b[0m: Orthonormalizing vector 2 again\n",
      "00:01 \u001b[1mgram_schmidt\u001b[0m: Orthonormalizing vector 3 again\n",
      "00:01 \u001b[1mgram_schmidt\u001b[0m: Orthonormalizing vector 4 again\n",
      "00:01 \u001b[1mgram_schmidt\u001b[0m: Orthonormalizing vector 5 again\n",
      "00:01 \u001b[1mgram_schmidt\u001b[0m: Orthonormalizing vector 6 again\n",
      "00:01 \u001b[1mgram_schmidt\u001b[0m: Orthonormalizing vector 7 again\n",
      "00:01 \u001b[1mgram_schmidt\u001b[0m: Orthonormalizing vector 8 again\n",
      "00:01 \u001b[1mgram_schmidt\u001b[0m: Orthonormalizing vector 9 again\n",
      "00:01 \u001b[1mLTIPGReductor\u001b[0m: Operator projection ...\n",
      "00:01 \u001b[1mLTIPGReductor\u001b[0m: Building ROM ...\n",
      "00:01 \u001b[1mIRKAReductor\u001b[0m: Convergence criterion in iteration 24: 7.590265e-05\n"
     ]
    }
   ],
   "source": [
    "from pymor.reductors.spectral_factor import SpectralFactorReductor\n",
    "from pymor.reductors.h2 import IRKAReductor\n",
    "from pymor.algorithms.to_matrix import to_matrix\n",
    "\n",
    "reductor = SpectralFactorReductor(fom)\n",
    "rom3 = reductor.reduce(\n",
    "    lambda spectral_factor, mu : IRKAReductor(spectral_factor, mu).reduce(10)\n",
    ")"
   ]
  },
  {
   "cell_type": "code",
   "execution_count": 13,
   "id": "c9fc0217-9492-4f91-84df-81cc904ee357",
   "metadata": {
    "editable": true,
    "slideshow": {
     "slide_type": "fragment"
    },
    "tags": []
   },
   "outputs": [
    {
     "name": "stdout",
     "output_type": "stream",
     "text": [
      "rom3 is of type <class 'pymor.models.iosys.LTIModel'>.\n"
     ]
    }
   ],
   "source": [
    "print(f'rom3 is of type {type(rom3)}.')"
   ]
  },
  {
   "cell_type": "code",
   "execution_count": 14,
   "id": "2630edec-32c6-4c1b-bc30-1c5d83700a37",
   "metadata": {
    "editable": true,
    "slideshow": {
     "slide_type": "fragment"
    },
    "tags": []
   },
   "outputs": [
    {
     "name": "stdout",
     "output_type": "stream",
     "text": [
      "rom3 is of type <class 'pymor.models.iosys.PHLTIModel'>.\n"
     ]
    }
   ],
   "source": [
    "rom3 = rom3.with_(solver_options={'ricc_pos_lrcf': 'slycot'})\n",
    "rom3 = PHLTIModel.from_passive_LTIModel(rom3)\n",
    "print(f'rom3 is of type {type(rom3)}.')"
   ]
  },
  {
   "cell_type": "markdown",
   "id": "e0bf33be-93fe-419f-9335-abc69188688b",
   "metadata": {
    "editable": true,
    "slideshow": {
     "slide_type": "slide"
    },
    "tags": []
   },
   "source": [
    "# Comparison"
   ]
  },
  {
   "cell_type": "code",
   "execution_count": 15,
   "id": "2dbf8191-1cd6-48dc-b1ad-b67dd1e7b945",
   "metadata": {
    "editable": true,
    "slideshow": {
     "slide_type": ""
    },
    "tags": []
   },
   "outputs": [],
   "source": [
    "err1 = fom - rom1\n",
    "err2 = fom - rom2\n",
    "err3 = fom - rom3"
   ]
  },
  {
   "cell_type": "code",
   "execution_count": 16,
   "id": "054f02ad-931e-42f2-8258-04b8b85c0ef2",
   "metadata": {
    "editable": true,
    "scrolled": true,
    "slideshow": {
     "slide_type": "fragment"
    },
    "tags": []
   },
   "outputs": [
    {
     "data": {
      "image/png": "[encoded data removed]",
      "text/plain": [
       "<Figure size 640x480 with 1 Axes>"
      ]
     },
     "metadata": {},
     "output_type": "display_data"
    }
   ],
   "source": [
    "import matplotlib.pyplot as plt\n",
    "w = (1e-4, 1e3)\n",
    "fig, ax = plt.subplots()\n",
    "err1.transfer_function.mag_plot(w, ax=ax, label='pH-IRKA(Q)')\n",
    "err2.transfer_function.mag_plot(w, ax=ax, linestyle='--', label='PRBT')\n",
    "err3.transfer_function.mag_plot(w, ax=ax, label='spectral_factor(X)')\n",
    "_ = ax.legend()"
   ]
  },
  {
   "cell_type": "markdown",
   "id": "57e01055-5d65-419f-bf62-4185b39f2f95",
   "metadata": {
    "editable": true,
    "slideshow": {
     "slide_type": "slide"
    },
    "tags": []
   },
   "source": [
    "# pH-IRKA with positive-real observability Gramian as $Q$"
   ]
  },
  {
   "cell_type": "code",
   "execution_count": 17,
   "id": "9d79a873-4fd6-4c31-b7ce-cb34f242f187",
   "metadata": {
    "editable": true,
    "slideshow": {
     "slide_type": ""
    },
    "tags": []
   },
   "outputs": [],
   "source": [
    "fom_X = PHLTIModel.from_passive_LTIModel(fom)"
   ]
  },
  {
   "cell_type": "markdown",
   "id": "df5abd80-1dee-4af6-b561-312914cf75c6",
   "metadata": {
    "editable": true,
    "slideshow": {
     "slide_type": "fragment"
    },
    "tags": []
   },
   "source": [
    "Note that this might destroy the sparsity of $J,R$ and $Q$!"
   ]
  },
  {
   "cell_type": "code",
   "execution_count": 18,
   "id": "b63fa218-083a-435a-957e-111bb445334c",
   "metadata": {
    "collapsed": true,
    "editable": true,
    "jupyter": {
     "outputs_hidden": true
    },
    "scrolled": true,
    "slideshow": {
     "slide_type": "fragment"
    },
    "tags": []
   },
   "outputs": [
    {
     "name": "stderr",
     "output_type": "stream",
     "text": [
      "00:02 \u001b[1mPHIRKAReductor\u001b[0m: Generating initial interpolation data\n",
      "00:02 \u001b[1mPHIRKAReductor\u001b[0m: Starting pH-IRKA\n",
      "00:02 \u001b[1mgram_schmidt\u001b[0m: Orthonormalizing vector 2 again\n",
      "00:02 \u001b[1mgram_schmidt\u001b[0m: Orthonormalizing vector 3 again\n",
      "00:02 \u001b[1mgram_schmidt\u001b[0m: Orthonormalizing vector 4 again\n",
      "00:02 \u001b[1mgram_schmidt\u001b[0m: Orthonormalizing vector 5 again\n",
      "00:02 \u001b[1mgram_schmidt\u001b[0m: Orthonormalizing vector 6 again\n",
      "00:02 \u001b[1mgram_schmidt\u001b[0m: Orthonormalizing vector 7 again\n",
      "00:02 \u001b[1mgram_schmidt\u001b[0m: Orthonormalizing vector 8 again\n",
      "00:02 \u001b[1mgram_schmidt\u001b[0m: Orthonormalizing vector 9 again\n",
      "00:02 \u001b[1mPHLTIPGReductor\u001b[0m: Operator projection ...\n",
      "00:02 \u001b[1mPHLTIPGReductor\u001b[0m: Building ROM ...\n",
      "00:02 \u001b[1mPHIRKAReductor\u001b[0m: Convergence criterion in iteration 1: 1.871635e+01\n",
      "00:02 \u001b[1mgram_schmidt\u001b[0m: Orthonormalizing vector 2 again\n",
      "00:02 \u001b[1mgram_schmidt\u001b[0m: Orthonormalizing vector 3 again\n",
      "00:02 \u001b[1mgram_schmidt\u001b[0m: Orthonormalizing vector 4 again\n",
      "00:02 \u001b[1mgram_schmidt\u001b[0m: Orthonormalizing vector 5 again\n",
      "00:02 \u001b[1mgram_schmidt\u001b[0m: Orthonormalizing vector 6 again\n",
      "00:02 \u001b[1mgram_schmidt\u001b[0m: Orthonormalizing vector 7 again\n",
      "00:02 \u001b[1mgram_schmidt\u001b[0m: Orthonormalizing vector 8 again\n",
      "00:02 \u001b[1mgram_schmidt\u001b[0m: Orthonormalizing vector 9 again\n",
      "00:02 \u001b[1mPHLTIPGReductor\u001b[0m: Operator projection ...\n",
      "00:02 \u001b[1mPHLTIPGReductor\u001b[0m: Building ROM ...\n",
      "00:02 \u001b[1mPHIRKAReductor\u001b[0m: Convergence criterion in iteration 2: 8.878198e-01\n",
      "00:02 \u001b[1mgram_schmidt\u001b[0m: Orthonormalizing vector 1 again\n",
      "00:02 \u001b[1mgram_schmidt\u001b[0m: Orthonormalizing vector 2 again\n",
      "00:02 \u001b[1mgram_schmidt\u001b[0m: Orthonormalizing vector 3 again\n",
      "00:02 \u001b[1mgram_schmidt\u001b[0m: Orthonormalizing vector 4 again\n",
      "00:02 \u001b[1mgram_schmidt\u001b[0m: Orthonormalizing vector 5 again\n",
      "00:02 \u001b[1mgram_schmidt\u001b[0m: Orthonormalizing vector 6 again\n",
      "00:02 \u001b[1mgram_schmidt\u001b[0m: Orthonormalizing vector 7 again\n",
      "00:02 \u001b[1mgram_schmidt\u001b[0m: Orthonormalizing vector 8 again\n",
      "00:02 \u001b[1mgram_schmidt\u001b[0m: Orthonormalizing vector 9 again\n",
      "00:02 \u001b[1mPHLTIPGReductor\u001b[0m: Operator projection ...\n",
      "00:02 \u001b[1mPHLTIPGReductor\u001b[0m: Building ROM ...\n",
      "00:02 \u001b[1mPHIRKAReductor\u001b[0m: Convergence criterion in iteration 3: 1.879144e+00\n",
      "00:02 \u001b[1mgram_schmidt\u001b[0m: Orthonormalizing vector 1 again\n",
      "00:02 \u001b[1mgram_schmidt\u001b[0m: Orthonormalizing vector 2 again\n",
      "00:02 \u001b[1mgram_schmidt\u001b[0m: Orthonormalizing vector 3 again\n",
      "00:02 \u001b[1mgram_schmidt\u001b[0m: Orthonormalizing vector 4 again\n",
      "00:02 \u001b[1mgram_schmidt\u001b[0m: Orthonormalizing vector 5 again\n",
      "00:02 \u001b[1mgram_schmidt\u001b[0m: Orthonormalizing vector 6 again\n",
      "00:03 \u001b[1mgram_schmidt\u001b[0m: Orthonormalizing vector 7 again\n",
      "00:03 \u001b[1mgram_schmidt\u001b[0m: Orthonormalizing vector 8 again\n",
      "00:03 \u001b[1mgram_schmidt\u001b[0m: Orthonormalizing vector 9 again\n",
      "00:03 \u001b[1mPHLTIPGReductor\u001b[0m: Operator projection ...\n",
      "00:03 \u001b[1mPHLTIPGReductor\u001b[0m: Building ROM ...\n",
      "00:03 \u001b[1mPHIRKAReductor\u001b[0m: Convergence criterion in iteration 4: 1.602578e-01\n",
      "00:03 \u001b[1mgram_schmidt\u001b[0m: Orthonormalizing vector 1 again\n",
      "00:03 \u001b[1mgram_schmidt\u001b[0m: Orthonormalizing vector 2 again\n",
      "00:03 \u001b[1mgram_schmidt\u001b[0m: Orthonormalizing vector 3 again\n",
      "00:03 \u001b[1mgram_schmidt\u001b[0m: Orthonormalizing vector 4 again\n",
      "00:03 \u001b[1mgram_schmidt\u001b[0m: Orthonormalizing vector 5 again\n",
      "00:03 \u001b[1mgram_schmidt\u001b[0m: Orthonormalizing vector 6 again\n",
      "00:03 \u001b[1mgram_schmidt\u001b[0m: Orthonormalizing vector 7 again\n",
      "00:03 \u001b[1mgram_schmidt\u001b[0m: Orthonormalizing vector 8 again\n",
      "00:03 \u001b[1mgram_schmidt\u001b[0m: Orthonormalizing vector 9 again\n",
      "00:03 \u001b[1mPHLTIPGReductor\u001b[0m: Operator projection ...\n",
      "00:03 \u001b[1mPHLTIPGReductor\u001b[0m: Building ROM ...\n",
      "00:03 \u001b[1mPHIRKAReductor\u001b[0m: Convergence criterion in iteration 5: 5.668556e-02\n",
      "00:03 \u001b[1mgram_schmidt\u001b[0m: Orthonormalizing vector 1 again\n",
      "00:03 \u001b[1mgram_schmidt\u001b[0m: Orthonormalizing vector 2 again\n",
      "00:03 \u001b[1mgram_schmidt\u001b[0m: Orthonormalizing vector 3 again\n",
      "00:03 \u001b[1mgram_schmidt\u001b[0m: Orthonormalizing vector 4 again\n",
      "00:03 \u001b[1mgram_schmidt\u001b[0m: Orthonormalizing vector 5 again\n",
      "00:03 \u001b[1mgram_schmidt\u001b[0m: Orthonormalizing vector 6 again\n",
      "00:03 \u001b[1mgram_schmidt\u001b[0m: Orthonormalizing vector 7 again\n",
      "00:03 \u001b[1mgram_schmidt\u001b[0m: Orthonormalizing vector 8 again\n",
      "00:03 \u001b[1mgram_schmidt\u001b[0m: Orthonormalizing vector 9 again\n",
      "00:03 \u001b[1mPHLTIPGReductor\u001b[0m: Operator projection ...\n",
      "00:03 \u001b[1mPHLTIPGReductor\u001b[0m: Building ROM ...\n",
      "00:03 \u001b[1mPHIRKAReductor\u001b[0m: Convergence criterion in iteration 6: 1.880301e-02\n",
      "00:03 \u001b[1mgram_schmidt\u001b[0m: Orthonormalizing vector 1 again\n",
      "00:03 \u001b[1mgram_schmidt\u001b[0m: Orthonormalizing vector 2 again\n",
      "00:03 \u001b[1mgram_schmidt\u001b[0m: Orthonormalizing vector 3 again\n",
      "00:03 \u001b[1mgram_schmidt\u001b[0m: Orthonormalizing vector 4 again\n",
      "00:03 \u001b[1mgram_schmidt\u001b[0m: Orthonormalizing vector 5 again\n",
      "00:03 \u001b[1mgram_schmidt\u001b[0m: Orthonormalizing vector 6 again\n",
      "00:03 \u001b[1mgram_schmidt\u001b[0m: Orthonormalizing vector 7 again\n",
      "00:03 \u001b[1mgram_schmidt\u001b[0m: Orthonormalizing vector 8 again\n",
      "00:03 \u001b[1mgram_schmidt\u001b[0m: Orthonormalizing vector 9 again\n",
      "00:03 \u001b[1mPHLTIPGReductor\u001b[0m: Operator projection ...\n",
      "00:03 \u001b[1mPHLTIPGReductor\u001b[0m: Building ROM ...\n",
      "00:03 \u001b[1mPHIRKAReductor\u001b[0m: Convergence criterion in iteration 7: 6.021575e-03\n",
      "00:03 \u001b[1mgram_schmidt\u001b[0m: Orthonormalizing vector 1 again\n",
      "00:03 \u001b[1mgram_schmidt\u001b[0m: Orthonormalizing vector 2 again\n",
      "00:03 \u001b[1mgram_schmidt\u001b[0m: Orthonormalizing vector 3 again\n",
      "00:03 \u001b[1mgram_schmidt\u001b[0m: Orthonormalizing vector 4 again\n",
      "00:03 \u001b[1mgram_schmidt\u001b[0m: Orthonormalizing vector 5 again\n",
      "00:03 \u001b[1mgram_schmidt\u001b[0m: Orthonormalizing vector 6 again\n",
      "00:03 \u001b[1mgram_schmidt\u001b[0m: Orthonormalizing vector 7 again\n",
      "00:03 \u001b[1mgram_schmidt\u001b[0m: Orthonormalizing vector 8 again\n",
      "00:03 \u001b[1mgram_schmidt\u001b[0m: Orthonormalizing vector 9 again\n",
      "00:03 \u001b[1mPHLTIPGReductor\u001b[0m: Operator projection ...\n",
      "00:03 \u001b[1mPHLTIPGReductor\u001b[0m: Building ROM ...\n",
      "00:03 \u001b[1mPHIRKAReductor\u001b[0m: Convergence criterion in iteration 8: 1.992710e-03\n",
      "00:03 \u001b[1mgram_schmidt\u001b[0m: Orthonormalizing vector 1 again\n",
      "00:03 \u001b[1mgram_schmidt\u001b[0m: Orthonormalizing vector 2 again\n",
      "00:03 \u001b[1mgram_schmidt\u001b[0m: Orthonormalizing vector 3 again\n",
      "00:03 \u001b[1mgram_schmidt\u001b[0m: Orthonormalizing vector 4 again\n",
      "00:03 \u001b[1mgram_schmidt\u001b[0m: Orthonormalizing vector 5 again\n",
      "00:03 \u001b[1mgram_schmidt\u001b[0m: Orthonormalizing vector 6 again\n",
      "00:03 \u001b[1mgram_schmidt\u001b[0m: Orthonormalizing vector 7 again\n",
      "00:03 \u001b[1mgram_schmidt\u001b[0m: Orthonormalizing vector 8 again\n",
      "00:03 \u001b[1mgram_schmidt\u001b[0m: Orthonormalizing vector 9 again\n",
      "00:03 \u001b[1mPHLTIPGReductor\u001b[0m: Operator projection ...\n",
      "00:03 \u001b[1mPHLTIPGReductor\u001b[0m: Building ROM ...\n",
      "00:03 \u001b[1mPHIRKAReductor\u001b[0m: Convergence criterion in iteration 9: 6.510807e-04\n",
      "00:03 \u001b[1mgram_schmidt\u001b[0m: Orthonormalizing vector 1 again\n",
      "00:03 \u001b[1mgram_schmidt\u001b[0m: Orthonormalizing vector 2 again\n",
      "00:03 \u001b[1mgram_schmidt\u001b[0m: Orthonormalizing vector 3 again\n",
      "00:03 \u001b[1mgram_schmidt\u001b[0m: Orthonormalizing vector 4 again\n",
      "00:03 \u001b[1mgram_schmidt\u001b[0m: Orthonormalizing vector 5 again\n",
      "00:03 \u001b[1mgram_schmidt\u001b[0m: Orthonormalizing vector 6 again\n",
      "00:03 \u001b[1mgram_schmidt\u001b[0m: Orthonormalizing vector 7 again\n",
      "00:03 \u001b[1mgram_schmidt\u001b[0m: Orthonormalizing vector 8 again\n",
      "00:03 \u001b[1mgram_schmidt\u001b[0m: Orthonormalizing vector 9 again\n",
      "00:03 \u001b[1mPHLTIPGReductor\u001b[0m: Operator projection ...\n",
      "00:03 \u001b[1mPHLTIPGReductor\u001b[0m: Building ROM ...\n",
      "00:03 \u001b[1mPHIRKAReductor\u001b[0m: Convergence criterion in iteration 10: 2.233813e-04\n",
      "00:03 \u001b[1mgram_schmidt\u001b[0m: Orthonormalizing vector 1 again\n",
      "00:03 \u001b[1mgram_schmidt\u001b[0m: Orthonormalizing vector 2 again\n",
      "00:03 \u001b[1mgram_schmidt\u001b[0m: Orthonormalizing vector 3 again\n",
      "00:03 \u001b[1mgram_schmidt\u001b[0m: Orthonormalizing vector 4 again\n",
      "00:03 \u001b[1mgram_schmidt\u001b[0m: Orthonormalizing vector 5 again\n",
      "00:03 \u001b[1mgram_schmidt\u001b[0m: Orthonormalizing vector 6 again\n",
      "00:03 \u001b[1mgram_schmidt\u001b[0m: Orthonormalizing vector 7 again\n",
      "00:03 \u001b[1mgram_schmidt\u001b[0m: Orthonormalizing vector 8 again\n",
      "00:03 \u001b[1mgram_schmidt\u001b[0m: Orthonormalizing vector 9 again\n",
      "00:03 \u001b[1mPHLTIPGReductor\u001b[0m: Operator projection ...\n",
      "00:03 \u001b[1mPHLTIPGReductor\u001b[0m: Building ROM ...\n",
      "00:03 \u001b[1mPHIRKAReductor\u001b[0m: Convergence criterion in iteration 11: 7.782795e-05\n"
     ]
    }
   ],
   "source": [
    "reductor = PHIRKAReductor(fom_X)\n",
    "rom4 = reductor.reduce(10)"
   ]
  },
  {
   "cell_type": "code",
   "execution_count": 19,
   "id": "7b92548e-25cc-4042-bb5d-cd14d337cd00",
   "metadata": {
    "editable": true,
    "slideshow": {
     "slide_type": "slide"
    },
    "tags": []
   },
   "outputs": [
    {
     "data": {
      "image/png": "[encoded data removed]",
      "text/plain": [
       "<Figure size 640x480 with 1 Axes>"
      ]
     },
     "metadata": {},
     "output_type": "display_data"
    }
   ],
   "source": [
    "err4 = fom - rom4\n",
    "\n",
    "fig, ax = plt.subplots()\n",
    "err1.transfer_function.mag_plot(w, ax=ax, label='pH-IRKA(Q)')\n",
    "err2.transfer_function.mag_plot(w, ax=ax, linestyle='--', label='PRBT')\n",
    "err3.transfer_function.mag_plot(w, ax=ax, label='spectral_factor(X)')\n",
    "err4.transfer_function.mag_plot(w, ax=ax, label='pH-IRKA(X)')\n",
    "_ = ax.legend()"
   ]
  },
  {
   "cell_type": "markdown",
   "id": "c6518dc1-97e7-47c1-906c-18c900067b83",
   "metadata": {
    "editable": true,
    "slideshow": {
     "slide_type": "slide"
    },
    "tags": []
   },
   "source": [
    "# Literature\n",
    "\n",
    "- A. C. Antoulas. Approximation of Large-Scale Dynamical Systems. Volume 6 of Adv. Des. Control. SIAM Publications, Philadelphia, PA, 2005. ISBN 9780898715293.\n",
    "- [BU22] T. Breiten and B. Unger. Passivity preserving model reduction via spectral factorization.\n",
    "Automatica, 142:110368, 2022.\n",
    "- K. Cherifi, H. Gernandt, and D. Hinsen. The difference between port-Hamiltonian, passive\n",
    "and positive real descriptor systems, preprint, 2022.\n",
    "- [GPBvandSchaft12] S. Gugercin, Rostyslav V. Polyuga, C. Beattie, and A. van der Schaft. Structure-preserving tangential interpolation for model reduction of port-Hamiltonian systems. Automatica, 48(9):1963–1974, 2012.\n",
    "- [DP84] U. Desai and D. Pal. A transformation approach to stochastic model reduction. IEEE Transactions on Automatic Control, 29(12):1097–1100, 1984.\n",
    "- [GA04] S. Gugercin and A. C. Antoulas. A survey of model reduction by balanced truncation and some new results. International Journal of Control, 77(8):748–766, 2004.\n",
    "- [HJS84] P. Harshavardhana, E.A. Jonckheere, and L.M. Silverman. Stochastic balancing and approximation-stability and minimality. IEEE Transactions on Automatic Control, 29(8):744–746, 1984."
   ]
  }
 ],
 "metadata": {
  "kernelspec": {
   "display_name": "Python 3 (ipykernel)",
   "language": "python",
   "name": "python3"
  },
  "language_info": {
   "codemirror_mode": {
    "name": "ipython",
    "version": 3
   },
   "file_extension": ".py",
   "mimetype": "text/x-python",
   "name": "python",
   "nbconvert_exporter": "python",
   "pygments_lexer": "ipython3",
   "version": "3.11.5"
  }
 },
 "nbformat": 4,
 "nbformat_minor": 5
}
